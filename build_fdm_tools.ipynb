{
 "cells": [
  {
   "cell_type": "code",
   "execution_count": 1,
   "id": "aff11e5b",
   "metadata": {},
   "outputs": [],
   "source": [
    "import sys\n",
    "from FDMBuilder.FDMTable import *\n",
    "from FDMBuilder.FDMDataset import *\n",
    "from FDMBuilder.testing_helpers import *"
   ]
  },
  {
   "cell_type": "markdown",
   "id": "3d875da7",
   "metadata": {},
   "source": [
    "## TO DO:\n",
    "\n",
    "* remove need for project in ids\n",
    "* build data dict function\n"
   ]
  },
  {
   "cell_type": "markdown",
   "id": "1dc6928e",
   "metadata": {},
   "source": [
    "## Testing:"
   ]
  },
  {
   "cell_type": "code",
   "execution_count": 2,
   "id": "96aed876",
   "metadata": {},
   "outputs": [],
   "source": [
    "clear_dataset(\"CY_FDM_ChildrenInNeed\")"
   ]
  },
  {
   "cell_type": "code",
   "execution_count": 3,
   "id": "e9701628",
   "metadata": {},
   "outputs": [],
   "source": [
    "cin_table = FDMTable(\n",
    "    source_table_full_id=f\"{PROJECT}.CY_MYSPACE_SR.ChildrenInNeed_2009-2019\",\n",
    "    dataset_id=\"CY_FDM_ChildrenInNeed\"\n",
    ")"
   ]
  },
  {
   "cell_type": "code",
   "execution_count": 4,
   "id": "19bf7a2e",
   "metadata": {
    "scrolled": false
   },
   "outputs": [
    {
     "name": "stdout",
     "output_type": "stream",
     "text": [
      "\t ##### BUILDING FDM TABLE COMPONENTS FOR ChildrenInNeed_2009-2019 #####\n",
      "________________________________________________________________________________\n",
      "\n",
      "1. Copying ChildrenInNeed_2009-2019 to CY_FDM_ChildrenInNeed:\n",
      "\n",
      "    Table ChildrenInNeed_2009-2019 copied to CY_FDM_ChildrenInNeed!\n",
      "\n",
      "2. Adding person_id column:\n",
      "    person_id column added\n",
      "\n",
      "3. Adding event_start_date column:\n",
      "\n",
      "    An event start date is required to build the observation_period table. This \n",
      "    information should be contained within one or more columns of your table. \n",
      "    If unsure a quick look at the table data in BigQuery should clarify.\n",
      "    \n",
      "    To start, is the event start data found in one column that can be easily \n",
      "    parsed with a day, month and year?\n",
      "    > Type y or n y\n",
      "\n",
      "    Which column contains the event start date?\n",
      "    > Type the name (case sensitive): ReferralDate\n",
      "\n",
      "    What format does the date appear in YMD/YDM/DMY/MDY?\n",
      "    > Type one: YMD\n",
      "    event_start_date column added\n",
      "\n",
      "4. Adding event_end_date column:\n",
      "\n",
      "    An event end date may or may not be relevant to this source data. For example, \n",
      "    hospital visits or academic school years have an end date as well as a start \n",
      "    date.\n",
      "\n",
      "    If you're unsure weather or not the source data should include an event end \n",
      "    date, seek help from the CYP data team.\"\n",
      "\n",
      "    Does this data have an event end date?\"\n",
      "    > Type y or n: n\n",
      "________________________________________________________________________________\n",
      "\n",
      "\t ##### BUILD PROCESS FOR ChildrenInNeed_2009-2019 COMPLETE! #####\n",
      "\n"
     ]
    }
   ],
   "source": [
    "cin_table.build()"
   ]
  },
  {
   "cell_type": "code",
   "execution_count": 5,
   "id": "e20457c8",
   "metadata": {},
   "outputs": [
    {
     "name": "stdout",
     "output_type": "stream",
     "text": [
      "\t\t ##### BUILDING FDM DATASET CY_FDM_ChildrenInNeed #####\n",
      "________________________________________________________________________________\n",
      "\n",
      "Checking dataset for source tables:\n",
      "\n",
      "    ChildrenInNeed_2009-2019 contains:  * person_id * event_start_date \n",
      "\t-> Table ready\n",
      "\n",
      "Building person table\n",
      "\n",
      "    * Person table built with 41318 entries\n",
      "\n",
      "Separating out problem entries from source tables\n",
      "\n",
      "    ChildrenInNeed_2009-2019:\n",
      "\t* 1792 problem entries identified and removed to ChildrenInNeed_2009-2019_problems\n",
      "\t* 137676 entries remain in ChildrenInNeed_2009-2019\n",
      "\n",
      "Rebuilding person table\n",
      "\n",
      "    * Person table built with 41111 entries\n",
      "\n",
      "Building observation_period table\n",
      "\n",
      "    * observation_period table built with 41111 entries\n",
      "\n",
      "________________________________________________________________________________\n",
      "\n",
      "\t ##### BUILD PROCESS FOR CY_FDM_ChildrenInNeed COMPLETE! #####\n",
      "\n"
     ]
    }
   ],
   "source": [
    "dataset = FDMDataset(\n",
    "    dataset_id=\"CY_FDM_ChildrenInNeed\"\n",
    ")\n",
    "dataset.build()"
   ]
  },
  {
   "cell_type": "code",
   "execution_count": null,
   "id": "5cc518e8",
   "metadata": {},
   "outputs": [],
   "source": []
  }
 ],
 "metadata": {
  "kernelspec": {
   "display_name": "FDMBuilder",
   "language": "python",
   "name": "fdmbuilder"
  },
  "language_info": {
   "codemirror_mode": {
    "name": "ipython",
    "version": 3
   },
   "file_extension": ".py",
   "mimetype": "text/x-python",
   "name": "python",
   "nbconvert_exporter": "python",
   "pygments_lexer": "ipython3",
   "version": "3.9.7"
  }
 },
 "nbformat": 4,
 "nbformat_minor": 5
}
