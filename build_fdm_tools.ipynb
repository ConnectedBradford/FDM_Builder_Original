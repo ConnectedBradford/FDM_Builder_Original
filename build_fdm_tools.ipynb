{
 "cells": [
  {
   "cell_type": "code",
   "execution_count": 1,
   "id": "aff11e5b",
   "metadata": {},
   "outputs": [],
   "source": [
    "import sys\n",
    "sys.path.append(\"/home/srelins/docs/cy_fdm_builder/src\")\n",
    "from testing_helpers import *\n",
    "from FDM_builder import *"
   ]
  },
  {
   "cell_type": "markdown",
   "id": "3d875da7",
   "metadata": {},
   "source": [
    "## TO DO:\n",
    "\n",
    "* PRIORITY: TEST observation_period table!!\n",
    "- in particular, work our what happens if you re-run .build() on a dataset\n",
    "\n",
    "\n",
    "* split table and dataset objects into two sparate source files\n",
    "* start process with dataset - add guidance messages for dataset creation\n",
    "i.e. dataset empty, build FDMTables -- or -- dataset contain XXXXX etc...\n",
    "* run dataset build over whole dataset by default - add options to specify table_ids/FDMTable objects\n",
    "* will need to add \"verbose\" functionality to FDMTables or the console print statements will be fucking epic\n",
    "* add .drop() method to table\n"
   ]
  },
  {
   "cell_type": "markdown",
   "id": "1dc6928e",
   "metadata": {},
   "source": [
    "## Testing:"
   ]
  },
  {
   "cell_type": "code",
   "execution_count": 2,
   "id": "cddccd52",
   "metadata": {
    "scrolled": false
   },
   "outputs": [
    {
     "name": "stderr",
     "output_type": "stream",
     "text": [
      "/home/srelins/anaconda3/envs/FDMBuilder/lib/python3.9/site-packages/pandas/core/frame.py:4906: SettingWithCopyWarning: \n",
      "A value is trying to be set on a copy of a slice from a DataFrame\n",
      "\n",
      "See the caveats in the documentation: https://pandas.pydata.org/pandas-docs/stable/user_guide/indexing.html#returning-a-view-versus-a-copy\n",
      "  return super().drop(\n"
     ]
    },
    {
     "name": "stdout",
     "output_type": "stream",
     "text": [
      "LOADING: table 1\n",
      "LOADING: table 2\n",
      "LOADING: table 3\n",
      "LOADING: table 4\n",
      "LOADING: table 5\n",
      "LOADING: table 6\n"
     ]
    }
   ],
   "source": [
    "build_test_environment()"
   ]
  },
  {
   "cell_type": "code",
   "execution_count": 3,
   "id": "b30f4beb",
   "metadata": {
    "scrolled": false
   },
   "outputs": [
    {
     "name": "stdout",
     "output_type": "stream",
     "text": [
      "\t ##### Initialising FDM Table - src_table_1 #####\n",
      "________________________________________________________________________________\n",
      "\n",
      "* Table src_table_1 copied to CY_TESTS_FDM!\n"
     ]
    }
   ],
   "source": [
    "table_1 = FDMTable(\n",
    "    source_table_full_id=f\"{PROJECT}.CY_TESTS_SRC.src_table_1\",\n",
    "    dataset_id=\"CY_TESTS_FDM\"\n",
    ")"
   ]
  },
  {
   "cell_type": "code",
   "execution_count": 4,
   "id": "c1b2647b",
   "metadata": {},
   "outputs": [
    {
     "name": "stdout",
     "output_type": "stream",
     "text": [
      "\t ##### BUILDING FDM TABLE COMPONENTS FOR src_table_1 #####\n",
      "________________________________________________________________________________\n",
      "\n",
      "1. Checking for identifiers and correcting syntax:\n",
      "\n",
      "\t* person_id found - syntax correct\n",
      "\n",
      "2. Adding person_id column:\n",
      "\n",
      "\t* src_table_1 already contains person_id column\n",
      "\n",
      "3. Adding event_start_date:\n",
      "\n",
      "\tNo event_start_date column found and event_start_date_cols not specified.\n",
      "\n",
      "\tTo complete the build process, an event start date is required. Specify the\n",
      "\t`event_start_date_cols` argument of the .build() method as either:\n",
      "\n",
      "\t* If one column contains the full event date:\n",
      "\n",
      "\t  run .build(event_start_date_cols=\"insert-column-name-here\")\n",
      "\t  NOTE: The process assumes a default date format of year-month-day. If the\n",
      "\t  date column is formatted as day-month-year set the `event_start_date_format`\n",
      "\t  argument as \"DMY\" (i.e. .build(event_start_date_cols=\"column-name\",\n",
      "\t  event_start_date_format=\"DMY\")) or \"MDY\" if the format is month-day-year etc....\n",
      "\n",
      "\t* If the year month and day are in separate columns:\n",
      "\n",
      "\t  run .build(event_start_date_cols=[\"year-column-name\", \"month-column-name\",\n",
      "\t  \"day-column-name\"])\n",
      "\t  NOTE: In the case that any of the year/month/day columns aren't available, you may\n",
      "\t  specify any of the year/month/day columns as constant value e.g:\n",
      "\t  .build(event_start_date_cols=[\"year-column-name\", \"Jan\", \"15\"])\n",
      "\n",
      "________________________________________________________________________________\n",
      "\n",
      "\t ##### BUILD PROCESS FOR src_table_1 COULD NOT BE COMPLETED! #####\n",
      "\n"
     ]
    }
   ],
   "source": [
    "table_1.build()"
   ]
  },
  {
   "cell_type": "code",
   "execution_count": 5,
   "id": "bface0e6",
   "metadata": {},
   "outputs": [
    {
     "name": "stdout",
     "output_type": "stream",
     "text": [
      "\t ##### BUILDING FDM TABLE COMPONENTS FOR src_table_1 #####\n",
      "________________________________________________________________________________\n",
      "\n",
      "1. Checking for identifiers and correcting syntax:\n",
      "\n",
      "\t* person_id found - syntax correct\n",
      "\n",
      "2. Adding person_id column:\n",
      "\n",
      "\t* src_table_1 already contains person_id column\n",
      "\n",
      "3. Adding event_start_date:\n",
      "\n",
      "\t* event_start_date column added!\n",
      "\n",
      "4. Adding event_end_date:\n",
      "\n",
      "\tNo event_end_date column found and event_end_date_column not specified.\n",
      "\tevent_end_date end date will be omitted. If you wish to add an event_end_date,\n",
      "\tre-run .build() specifying the `event_end_date` argument.\n",
      "\n",
      "\tNote: Table build process will complete, but the observation periods derived\n",
      "\tfrom a source table with only an event start date may not be accurate, and \n",
      "\tmay result in erroneous observations going unidentified. Talk to the CYP data\n",
      "\tteam if at all uncertain about ommiting the event end date.\n",
      "\n",
      "________________________________________________________________________________\n",
      "\n",
      "\t ##### BUILD PROCESS FOR src_table_1 COMPLETE! #####\n",
      "\n"
     ]
    }
   ],
   "source": [
    "table_1.build(event_start_date_cols=\"date\")"
   ]
  },
  {
   "cell_type": "code",
   "execution_count": 6,
   "id": "3c71a1af",
   "metadata": {},
   "outputs": [
    {
     "name": "stdout",
     "output_type": "stream",
     "text": [
      "\t ##### BUILDING FDM TABLE COMPONENTS FOR src_table_1 #####\n",
      "________________________________________________________________________________\n",
      "\n",
      "1. Checking for identifiers and correcting syntax:\n",
      "\n",
      "\t* person_id found - syntax correct\n",
      "\n",
      "2. Adding person_id column:\n",
      "\n",
      "\t* src_table_1 already contains person_id column\n",
      "\n",
      "3. Adding event_start_date:\n",
      "\n",
      "\t* event_start_date column already present.\n",
      "\n",
      "\tNOTE: If you wish to rebuild the event start date column, drop event_start_date\n",
      "\tand run .build(...) again.\n",
      "\n",
      "4. Adding event_end_date:\n",
      "\n",
      "\t* event_end_date column added!\n",
      "\n",
      "________________________________________________________________________________\n",
      "\n",
      "\t ##### BUILD PROCESS FOR src_table_1 COMPLETE! #####\n",
      "\n"
     ]
    }
   ],
   "source": [
    "table_1.build(event_end_date_cols=\"date\")"
   ]
  },
  {
   "cell_type": "code",
   "execution_count": 7,
   "id": "bb0727bd",
   "metadata": {},
   "outputs": [
    {
     "name": "stdout",
     "output_type": "stream",
     "text": [
      "\t ##### Initialising FDM Table - src_table_2 #####\n",
      "________________________________________________________________________________\n",
      "\n",
      "* Table src_table_2 copied to CY_TESTS_FDM!\n"
     ]
    }
   ],
   "source": [
    "table_2 = FDMTable(\n",
    "    source_table_full_id=f\"{PROJECT}.CY_TESTS_SRC.src_table_2\",\n",
    "    dataset_id=\"CY_TESTS_FDM\"\n",
    ")"
   ]
  },
  {
   "cell_type": "code",
   "execution_count": 8,
   "id": "c28cb023",
   "metadata": {},
   "outputs": [
    {
     "name": "stdout",
     "output_type": "stream",
     "text": [
      "\t ##### BUILDING FDM TABLE COMPONENTS FOR src_table_2 #####\n",
      "________________________________________________________________________________\n",
      "\n",
      "1. Checking for identifiers and correcting syntax:\n",
      "\n",
      "\t* digest found - syntax correct\n",
      "\n",
      "2. Adding person_id column:\n",
      "\n",
      "\t* person_id column added!\n",
      "\n",
      "3. Adding event_start_date:\n",
      "\n",
      "\tNo event_start_date column found and event_start_date_cols not specified.\n",
      "\n",
      "\tTo complete the build process, an event start date is required. Specify the\n",
      "\t`event_start_date_cols` argument of the .build() method as either:\n",
      "\n",
      "\t* If one column contains the full event date:\n",
      "\n",
      "\t  run .build(event_start_date_cols=\"insert-column-name-here\")\n",
      "\t  NOTE: The process assumes a default date format of year-month-day. If the\n",
      "\t  date column is formatted as day-month-year set the `event_start_date_format`\n",
      "\t  argument as \"DMY\" (i.e. .build(event_start_date_cols=\"column-name\",\n",
      "\t  event_start_date_format=\"DMY\")) or \"MDY\" if the format is month-day-year etc....\n",
      "\n",
      "\t* If the year month and day are in separate columns:\n",
      "\n",
      "\t  run .build(event_start_date_cols=[\"year-column-name\", \"month-column-name\",\n",
      "\t  \"day-column-name\"])\n",
      "\t  NOTE: In the case that any of the year/month/day columns aren't available, you may\n",
      "\t  specify any of the year/month/day columns as constant value e.g:\n",
      "\t  .build(event_start_date_cols=[\"year-column-name\", \"Jan\", \"15\"])\n",
      "\n",
      "________________________________________________________________________________\n",
      "\n",
      "\t ##### BUILD PROCESS FOR src_table_2 COULD NOT BE COMPLETED! #####\n",
      "\n"
     ]
    }
   ],
   "source": [
    "table_2.build()"
   ]
  },
  {
   "cell_type": "code",
   "execution_count": 9,
   "id": "0d289b00",
   "metadata": {},
   "outputs": [
    {
     "name": "stdout",
     "output_type": "stream",
     "text": [
      "\t ##### BUILDING FDM TABLE COMPONENTS FOR src_table_2 #####\n",
      "________________________________________________________________________________\n",
      "\n",
      "1. Checking for identifiers and correcting syntax:\n",
      "\n",
      "\t* person_id found - syntax correct\n",
      "\t* digest found - syntax correct\n",
      "\n",
      "2. Adding person_id column:\n",
      "\n",
      "\t* src_table_2 already contains person_id column\n",
      "\n",
      "\tNOTE: digest also found in src_table_2. If you\n",
      "\twish to rebuild the person_id column from digest, drop the existing\n",
      "\tperson_id column in src_table_2 and run .build() again\n",
      "\n",
      "3. Adding event_start_date:\n",
      "\n",
      "\t* event_start_date column added!\n",
      "\n",
      "4. Adding event_end_date:\n",
      "\n",
      "\tNo event_end_date column found and event_end_date_column not specified.\n",
      "\tevent_end_date end date will be omitted. If you wish to add an event_end_date,\n",
      "\tre-run .build() specifying the `event_end_date` argument.\n",
      "\n",
      "\tNote: Table build process will complete, but the observation periods derived\n",
      "\tfrom a source table with only an event start date may not be accurate, and \n",
      "\tmay result in erroneous observations going unidentified. Talk to the CYP data\n",
      "\tteam if at all uncertain about ommiting the event end date.\n",
      "\n",
      "________________________________________________________________________________\n",
      "\n",
      "\t ##### BUILD PROCESS FOR src_table_2 COMPLETE! #####\n",
      "\n"
     ]
    }
   ],
   "source": [
    "table_2.build(event_start_date_cols=[\"year\", \"month\", \"day\"])"
   ]
  },
  {
   "cell_type": "code",
   "execution_count": 10,
   "id": "13f06e31",
   "metadata": {},
   "outputs": [
    {
     "name": "stdout",
     "output_type": "stream",
     "text": [
      "\t ##### BUILDING FDM TABLE COMPONENTS FOR src_table_2 #####\n",
      "________________________________________________________________________________\n",
      "\n",
      "1. Checking for identifiers and correcting syntax:\n",
      "\n",
      "\t* person_id found - syntax correct\n",
      "\t* digest found - syntax correct\n",
      "\n",
      "2. Adding person_id column:\n",
      "\n",
      "\t* src_table_2 already contains person_id column\n",
      "\n",
      "\tNOTE: digest also found in src_table_2. If you\n",
      "\twish to rebuild the person_id column from digest, drop the existing\n",
      "\tperson_id column in src_table_2 and run .build() again\n",
      "\n",
      "3. Adding event_start_date:\n",
      "\n",
      "\t* event_start_date column already present.\n",
      "\n",
      "\tNOTE: If you wish to rebuild the event start date column, drop event_start_date\n",
      "\tand run .build(...) again.\n",
      "\n",
      "4. Adding event_end_date:\n",
      "\n",
      "\t* event_end_date column added!\n",
      "\n",
      "________________________________________________________________________________\n",
      "\n",
      "\t ##### BUILD PROCESS FOR src_table_2 COMPLETE! #####\n",
      "\n"
     ]
    }
   ],
   "source": [
    "table_2.build(event_end_date_cols=[\"year\", \"month\", \"day\"])"
   ]
  },
  {
   "cell_type": "code",
   "execution_count": 11,
   "id": "08136a9d",
   "metadata": {},
   "outputs": [
    {
     "name": "stdout",
     "output_type": "stream",
     "text": [
      "\t ##### Initialising FDM Table - src_table_3 #####\n",
      "________________________________________________________________________________\n",
      "\n",
      "* Table src_table_3 copied to CY_TESTS_FDM!\n"
     ]
    }
   ],
   "source": [
    "table_3 = FDMTable(\n",
    "    source_table_full_id=f\"{PROJECT}.CY_TESTS_SRC.src_table_3\",\n",
    "    dataset_id=\"CY_TESTS_FDM\"\n",
    ")"
   ]
  },
  {
   "cell_type": "code",
   "execution_count": 12,
   "id": "290751f6",
   "metadata": {},
   "outputs": [
    {
     "name": "stdout",
     "output_type": "stream",
     "text": [
      "\t ##### BUILDING FDM TABLE COMPONENTS FOR src_table_3 #####\n",
      "________________________________________________________________________________\n",
      "\n",
      "1. Checking for identifiers and correcting syntax:\n",
      "\n",
      "\t* EDRN found - syntax correct\n",
      "\n",
      "2. Adding person_id column:\n",
      "\n",
      "\t* person_id column added!\n",
      "\n",
      "3. Adding event_start_date:\n",
      "\n",
      "\tNo event_start_date column found and event_start_date_cols not specified.\n",
      "\n",
      "\tTo complete the build process, an event start date is required. Specify the\n",
      "\t`event_start_date_cols` argument of the .build() method as either:\n",
      "\n",
      "\t* If one column contains the full event date:\n",
      "\n",
      "\t  run .build(event_start_date_cols=\"insert-column-name-here\")\n",
      "\t  NOTE: The process assumes a default date format of year-month-day. If the\n",
      "\t  date column is formatted as day-month-year set the `event_start_date_format`\n",
      "\t  argument as \"DMY\" (i.e. .build(event_start_date_cols=\"column-name\",\n",
      "\t  event_start_date_format=\"DMY\")) or \"MDY\" if the format is month-day-year etc....\n",
      "\n",
      "\t* If the year month and day are in separate columns:\n",
      "\n",
      "\t  run .build(event_start_date_cols=[\"year-column-name\", \"month-column-name\",\n",
      "\t  \"day-column-name\"])\n",
      "\t  NOTE: In the case that any of the year/month/day columns aren't available, you may\n",
      "\t  specify any of the year/month/day columns as constant value e.g:\n",
      "\t  .build(event_start_date_cols=[\"year-column-name\", \"Jan\", \"15\"])\n",
      "\n",
      "________________________________________________________________________________\n",
      "\n",
      "\t ##### BUILD PROCESS FOR src_table_3 COULD NOT BE COMPLETED! #####\n",
      "\n"
     ]
    }
   ],
   "source": [
    "table_3.build()"
   ]
  },
  {
   "cell_type": "code",
   "execution_count": 13,
   "id": "25dedd60",
   "metadata": {},
   "outputs": [
    {
     "data": {
      "text/plain": [
       "['person_id', 'EDRN', 'month', 'year']"
      ]
     },
     "execution_count": 13,
     "metadata": {},
     "output_type": "execute_result"
    }
   ],
   "source": [
    "table_3.get_column_names()"
   ]
  },
  {
   "cell_type": "code",
   "execution_count": 14,
   "id": "3c245432",
   "metadata": {},
   "outputs": [
    {
     "name": "stdout",
     "output_type": "stream",
     "text": [
      "\t ##### BUILDING FDM TABLE COMPONENTS FOR src_table_3 #####\n",
      "________________________________________________________________________________\n",
      "\n",
      "1. Checking for identifiers and correcting syntax:\n",
      "\n",
      "\t* person_id found - syntax correct\n",
      "\t* EDRN found - syntax correct\n",
      "\n",
      "2. Adding person_id column:\n",
      "\n",
      "\t* src_table_3 already contains person_id column\n",
      "\n",
      "\tNOTE: EDRN also found in src_table_3. If you\n",
      "\twish to rebuild the person_id column from EDRN, drop the existing\n",
      "\tperson_id column in src_table_3 and run .build() again\n",
      "\n",
      "3. Adding event_start_date:\n",
      "\n",
      "\t* event_start_date column added!\n",
      "\n",
      "4. Adding event_end_date:\n",
      "\n",
      "\tNo event_end_date column found and event_end_date_column not specified.\n",
      "\tevent_end_date end date will be omitted. If you wish to add an event_end_date,\n",
      "\tre-run .build() specifying the `event_end_date` argument.\n",
      "\n",
      "\tNote: Table build process will complete, but the observation periods derived\n",
      "\tfrom a source table with only an event start date may not be accurate, and \n",
      "\tmay result in erroneous observations going unidentified. Talk to the CYP data\n",
      "\tteam if at all uncertain about ommiting the event end date.\n",
      "\n",
      "________________________________________________________________________________\n",
      "\n",
      "\t ##### BUILD PROCESS FOR src_table_3 COMPLETE! #####\n",
      "\n"
     ]
    }
   ],
   "source": [
    "table_3.build(event_start_date_cols=[\"year\", \"month\", \"15\"])"
   ]
  },
  {
   "cell_type": "code",
   "execution_count": 15,
   "id": "d980526d",
   "metadata": {},
   "outputs": [
    {
     "name": "stdout",
     "output_type": "stream",
     "text": [
      "\t ##### BUILDING FDM TABLE COMPONENTS FOR src_table_3 #####\n",
      "________________________________________________________________________________\n",
      "\n",
      "1. Checking for identifiers and correcting syntax:\n",
      "\n",
      "\t* person_id found - syntax correct\n",
      "\t* EDRN found - syntax correct\n",
      "\n",
      "2. Adding person_id column:\n",
      "\n",
      "\t* src_table_3 already contains person_id column\n",
      "\n",
      "\tNOTE: EDRN also found in src_table_3. If you\n",
      "\twish to rebuild the person_id column from EDRN, drop the existing\n",
      "\tperson_id column in src_table_3 and run .build() again\n",
      "\n",
      "3. Adding event_start_date:\n",
      "\n",
      "\t* event_start_date column already present.\n",
      "\n",
      "\tNOTE: If you wish to rebuild the event start date column, drop event_start_date\n",
      "\tand run .build(...) again.\n",
      "\n",
      "4. Adding event_end_date:\n",
      "\n",
      "\t* event_end_date column added!\n",
      "\n",
      "________________________________________________________________________________\n",
      "\n",
      "\t ##### BUILD PROCESS FOR src_table_3 COMPLETE! #####\n",
      "\n"
     ]
    }
   ],
   "source": [
    "table_3.build(event_end_date_cols=[\"year\", \"month\", \"18\"])"
   ]
  },
  {
   "cell_type": "code",
   "execution_count": 16,
   "id": "630c1ecf",
   "metadata": {},
   "outputs": [],
   "source": [
    "dataset = FDMDataset(dataset_id=\"CY_TESTS_FDM\", fdm_tables=[table_1, table_2, table_3])"
   ]
  },
  {
   "cell_type": "code",
   "execution_count": 21,
   "id": "d99616b2",
   "metadata": {
    "scrolled": false
   },
   "outputs": [
    {
     "name": "stdout",
     "output_type": "stream",
     "text": [
      "\t\t ##### BUILDING FDM DATASET CY_TESTS_FDM #####\n",
      "________________________________________________________________________________\n",
      "\n",
      "1. Checking source input tables:\n",
      "\n",
      "\t* src_table_1 - OK\n",
      "\t* src_table_2 - OK\n",
      "\t* src_table_3 - OK\n",
      "\n",
      "2. Building person table:\n",
      "\n",
      "\t* Joining data from master person table\n",
      "\t* Person table built!\n",
      "\n",
      "3. Building table of individuals with no person_id\n",
      "\n",
      "\t* individuals_missing_person_id created with 0 entries\n",
      "\n",
      "4. Building person_ids missing from master table\n",
      "\n",
      "\t* person_ids_missing_from_master created with 5 entries\n",
      "5. Building initial observation_period table\n",
      "\n",
      "\t* observation_period table built\n",
      "6. Removing entries outside observation period\n",
      "\n",
      "\t* entries outside observation period removed from src_table_1\n",
      "\t  and stored in src_table_1_outside_obs\n",
      "\t* entries outside observation period removed from src_table_2\n",
      "\t  and stored in src_table_2_outside_obs\n",
      "\t* entries outside observation period removed from src_table_3\n",
      "\t  and stored in src_table_3_outside_obs\n",
      "\n",
      "2. Rebuilding person table:\n",
      "\n",
      "\t* Joining data from master person table\n",
      "\t* Person table built!\n",
      "\n",
      "5. Rebuilding observation_period table\n",
      "\n",
      "\t* observation_period table built\n",
      "________________________________________________________________________________\n",
      "\n",
      "\t ##### BUILD PROCESS FOR CY_TESTS_FDM COMPLETE! #####\n",
      "\n"
     ]
    }
   ],
   "source": [
    "dataset.build()"
   ]
  },
  {
   "cell_type": "code",
   "execution_count": 18,
   "id": "47e17079",
   "metadata": {},
   "outputs": [],
   "source": [
    "sql = f\"\"\"\n",
    "    WITH possible_dates AS (\n",
    "        WITH all_src_dates AS (\n",
    "            SELECT person_id, event_start_date, event_end_date \n",
    "            FROM {table_1.full_table_id}\n",
    "            WHERE person_id IS NOT NULL\n",
    "\n",
    "            UNION ALL\n",
    "\n",
    "            SELECT person_id, event_start_date, event_end_date \n",
    "            FROM {table_2.full_table_id}\n",
    "            WHERE person_id IS NOT NULL\n",
    "            \n",
    "            UNION ALL\n",
    "\n",
    "            SELECT person_id, event_start_date, event_end_date \n",
    "            FROM {table_3.full_table_id}\n",
    "            WHERE person_id IS NOT NULL\n",
    "        )\n",
    "        SELECT person_id, \n",
    "            MIN(event_start_date) AS possible_start_date,\n",
    "            MAX(event_end_date) AS possible_end_date \n",
    "        FROM all_src_dates\n",
    "        GROUP BY person_id\n",
    "            \n",
    "        UNION ALL\n",
    "            \n",
    "        SELECT person_id,\n",
    "            birth_datetime AS possible_start_date, \n",
    "            DATETIME_ADD(IFNULL(death_datetime, DATETIME \"9999-01-01 00:00:00\"), INTERVAL 42 DAY) as possible_end_date \n",
    "        FROM {dataset.person_table_id}\n",
    "    )\n",
    "    SELECT person_id, \n",
    "        MAX(possible_start_date) AS observation_period_start_date,\n",
    "        MIN(possible_end_date) AS observation_period_end_date\n",
    "    FROM possible_dates\n",
    "    GROUP BY person_id\n",
    "\"\"\"\n",
    "df = pd.read_gbq(sql, project_id=f\"{PROJECT}\")"
   ]
  },
  {
   "cell_type": "code",
   "execution_count": 19,
   "id": "90e54549",
   "metadata": {},
   "outputs": [
    {
     "data": {
      "text/html": [
       "<div>\n",
       "<style scoped>\n",
       "    .dataframe tbody tr th:only-of-type {\n",
       "        vertical-align: middle;\n",
       "    }\n",
       "\n",
       "    .dataframe tbody tr th {\n",
       "        vertical-align: top;\n",
       "    }\n",
       "\n",
       "    .dataframe thead th {\n",
       "        text-align: right;\n",
       "    }\n",
       "</style>\n",
       "<table border=\"1\" class=\"dataframe\">\n",
       "  <thead>\n",
       "    <tr style=\"text-align: right;\">\n",
       "      <th></th>\n",
       "      <th>person_id</th>\n",
       "      <th>observation_period_start_date</th>\n",
       "      <th>observation_period_end_date</th>\n",
       "    </tr>\n",
       "  </thead>\n",
       "  <tbody>\n",
       "  </tbody>\n",
       "</table>\n",
       "</div>"
      ],
      "text/plain": [
       "Empty DataFrame\n",
       "Columns: [person_id, observation_period_start_date, observation_period_end_date]\n",
       "Index: []"
      ]
     },
     "execution_count": 19,
     "metadata": {},
     "output_type": "execute_result"
    }
   ],
   "source": [
    "df[df.observation_period_start_date > df.observation_period_end_date]"
   ]
  },
  {
   "cell_type": "code",
   "execution_count": 20,
   "id": "4a69236f",
   "metadata": {},
   "outputs": [
    {
     "data": {
      "text/html": [
       "<div>\n",
       "<style scoped>\n",
       "    .dataframe tbody tr th:only-of-type {\n",
       "        vertical-align: middle;\n",
       "    }\n",
       "\n",
       "    .dataframe tbody tr th {\n",
       "        vertical-align: top;\n",
       "    }\n",
       "\n",
       "    .dataframe thead th {\n",
       "        text-align: right;\n",
       "    }\n",
       "</style>\n",
       "<table border=\"1\" class=\"dataframe\">\n",
       "  <thead>\n",
       "    <tr style=\"text-align: right;\">\n",
       "      <th></th>\n",
       "      <th>person_id</th>\n",
       "      <th>date</th>\n",
       "    </tr>\n",
       "  </thead>\n",
       "  <tbody>\n",
       "    <tr>\n",
       "      <th>0</th>\n",
       "      <td>0</td>\n",
       "      <td>1987-07-05</td>\n",
       "    </tr>\n",
       "    <tr>\n",
       "      <th>1</th>\n",
       "      <td>1</td>\n",
       "      <td>1983-01-07</td>\n",
       "    </tr>\n",
       "    <tr>\n",
       "      <th>2</th>\n",
       "      <td>2</td>\n",
       "      <td>1988-12-25</td>\n",
       "    </tr>\n",
       "    <tr>\n",
       "      <th>3</th>\n",
       "      <td>3</td>\n",
       "      <td>1989-06-04</td>\n",
       "    </tr>\n",
       "    <tr>\n",
       "      <th>4</th>\n",
       "      <td>4</td>\n",
       "      <td>1989-01-19</td>\n",
       "    </tr>\n",
       "    <tr>\n",
       "      <th>5</th>\n",
       "      <td>15</td>\n",
       "      <td>2026-05-16</td>\n",
       "    </tr>\n",
       "    <tr>\n",
       "      <th>6</th>\n",
       "      <td>16</td>\n",
       "      <td>2022-10-17</td>\n",
       "    </tr>\n",
       "    <tr>\n",
       "      <th>7</th>\n",
       "      <td>17</td>\n",
       "      <td>2024-08-21</td>\n",
       "    </tr>\n",
       "    <tr>\n",
       "      <th>8</th>\n",
       "      <td>18</td>\n",
       "      <td>2028-11-18</td>\n",
       "    </tr>\n",
       "    <tr>\n",
       "      <th>9</th>\n",
       "      <td>19</td>\n",
       "      <td>2028-10-20</td>\n",
       "    </tr>\n",
       "  </tbody>\n",
       "</table>\n",
       "</div>"
      ],
      "text/plain": [
       "  person_id       date\n",
       "0         0 1987-07-05\n",
       "1         1 1983-01-07\n",
       "2         2 1988-12-25\n",
       "3         3 1989-06-04\n",
       "4         4 1989-01-19\n",
       "5        15 2026-05-16\n",
       "6        16 2022-10-17\n",
       "7        17 2024-08-21\n",
       "8        18 2028-11-18\n",
       "9        19 2028-10-20"
      ]
     },
     "execution_count": 20,
     "metadata": {},
     "output_type": "execute_result"
    }
   ],
   "source": [
    "sql = f\"\"\"\n",
    "    SELECT *\n",
    "    FROM {PROJECT}.CY_TESTS_SRC.src_table_1\n",
    "    WHERE date < DATETIME \"1990-12-12 00:00:00\" \n",
    "    OR date > DATETIME \"2010-12-12 00:00:00\"\n",
    "\"\"\"\n",
    "df = pd.read_gbq(sql, project_id=PROJECT)\n",
    "df"
   ]
  },
  {
   "cell_type": "code",
   "execution_count": null,
   "id": "60bc048e",
   "metadata": {},
   "outputs": [],
   "source": []
  }
 ],
 "metadata": {
  "kernelspec": {
   "display_name": "FDMBuilder",
   "language": "python",
   "name": "fdmbuilder"
  },
  "language_info": {
   "codemirror_mode": {
    "name": "ipython",
    "version": 3
   },
   "file_extension": ".py",
   "mimetype": "text/x-python",
   "name": "python",
   "nbconvert_exporter": "python",
   "pygments_lexer": "ipython3",
   "version": "3.9.7"
  }
 },
 "nbformat": 4,
 "nbformat_minor": 5
}
