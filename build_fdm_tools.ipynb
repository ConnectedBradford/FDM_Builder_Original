{
 "cells": [
  {
   "cell_type": "code",
   "execution_count": 1,
   "id": "aff11e5b",
   "metadata": {},
   "outputs": [],
   "source": [
    "import sys\n",
    "sys.path.append(\"/home/srelins/docs/cy_fdm_builder/src\")\n",
    "from testing_helpers import *\n",
    "from FDM_builder import *"
   ]
  },
  {
   "cell_type": "markdown",
   "id": "3d875da7",
   "metadata": {},
   "source": [
    "## TO DO:\n",
    "\n",
    "* PRIORITY: build observation_period table!!\n",
    "\n",
    "\n",
    "* start process with dataset\n",
    "* run dataset build over whole dataset by default - add options to specify table_ids/FDMTable objects"
   ]
  },
  {
   "cell_type": "markdown",
   "id": "1dc6928e",
   "metadata": {},
   "source": [
    "## Testing:"
   ]
  },
  {
   "cell_type": "code",
   "execution_count": null,
   "id": "cddccd52",
   "metadata": {
    "scrolled": false
   },
   "outputs": [],
   "source": [
    "build_test_environment()"
   ]
  },
  {
   "cell_type": "code",
   "execution_count": null,
   "id": "b30f4beb",
   "metadata": {},
   "outputs": [],
   "source": [
    "table_1 = FDMTable(\n",
    "    source_table_full_id=f\"{PROJECT}.CY_TESTS_SRC.src_table_1\",\n",
    "    dataset_id=\"CY_TESTS_FDM\"\n",
    ")"
   ]
  },
  {
   "cell_type": "code",
   "execution_count": null,
   "id": "4ce0b515",
   "metadata": {
    "scrolled": false
   },
   "outputs": [],
   "source": [
    "table_1.build()"
   ]
  },
  {
   "cell_type": "code",
   "execution_count": null,
   "id": "bface0e6",
   "metadata": {},
   "outputs": [],
   "source": [
    "table_1.build(event_start_date_cols=\"date\")"
   ]
  },
  {
   "cell_type": "code",
   "execution_count": null,
   "id": "3c71a1af",
   "metadata": {},
   "outputs": [],
   "source": [
    "table_1.build(event_end_date_cols=\"date\")"
   ]
  },
  {
   "cell_type": "code",
   "execution_count": 2,
   "id": "bb0727bd",
   "metadata": {},
   "outputs": [
    {
     "name": "stdout",
     "output_type": "stream",
     "text": [
      "\t ##### Initialising FDM Table - src_table_2 #####\n",
      "________________________________________________________________________________\n",
      "\n",
      "* Copying table src_table_2 to CY_TESTS_FDM - copied!\n"
     ]
    }
   ],
   "source": [
    "table_2 = FDMTable(\n",
    "    source_table_full_id=f\"{PROJECT}.CY_TESTS_SRC.src_table_2\",\n",
    "    dataset_id=\"CY_TESTS_FDM\"\n",
    ")"
   ]
  },
  {
   "cell_type": "code",
   "execution_count": 3,
   "id": "c28cb023",
   "metadata": {},
   "outputs": [
    {
     "name": "stdout",
     "output_type": "stream",
     "text": [
      "\t ##### BUILDING FDM TABLE COMPONENTS FOR src_table_2 #####\n",
      "________________________________________________________________________________\n",
      "\n",
      "1. Checking for identifiers and correcting syntax:\n",
      "\n",
      "\t* digest found - syntax correct\n",
      "\n",
      "2. Adding person_id column:\n",
      "\n",
      "\t* person_id column added!\n",
      "\n",
      "3. Adding event_start_date:\n",
      "\n",
      "\tNo event_start_date column found and event_start_date_cols not specified.\n",
      "\n",
      "\tTo complete the build process, an event start date is required. Specify the\n",
      "\t`event_start_date_cols` argument of the .build() method as either:\n",
      "\n",
      "\t* If one column contains the full event date:\n",
      "\n",
      "\t  run .build(event_start_date_cols=\"insert-column-name-here\")\n",
      "\t  NOTE: The process assumes a default date format of year-month-day. If the\n",
      "\t  date column is formatted as day-month-year set the `event_start_date_format`\n",
      "\t  argument as \"DMY\" (i.e. .build(event_start_date_cols=\"column-name\",\n",
      "\t  event_start_date_format=\"DMY\")) or \"MDY\" if the format is month-day-year etc....\n",
      "\n",
      "\t* If the year month and day are in separate columns:\n",
      "\n",
      "\t  run .build(event_start_date_cols=[\"year-column-name\", \"month-column-name\",\n",
      "\t  \"day-column-name\"])\n",
      "\t  NOTE: In the case that any of the year/month/day columns aren't available, you may\n",
      "\t  specify any of the year/month/day columns as constant value e.g:\n",
      "\t  .build(event_start_date_cols=[\"year-column-name\", \"Jan\", \"15\"])\n",
      "\n",
      "________________________________________________________________________________\n",
      "\n",
      "\t ##### BUILD PROCESS FOR src_table_2 COULD NOT BE COMPLETED! #####\n",
      "\n"
     ]
    }
   ],
   "source": [
    "table_2.build()"
   ]
  },
  {
   "cell_type": "code",
   "execution_count": 4,
   "id": "2b5dfcfe",
   "metadata": {},
   "outputs": [
    {
     "data": {
      "text/html": [
       "<div>\n",
       "<style scoped>\n",
       "    .dataframe tbody tr th:only-of-type {\n",
       "        vertical-align: middle;\n",
       "    }\n",
       "\n",
       "    .dataframe tbody tr th {\n",
       "        vertical-align: top;\n",
       "    }\n",
       "\n",
       "    .dataframe thead th {\n",
       "        text-align: right;\n",
       "    }\n",
       "</style>\n",
       "<table border=\"1\" class=\"dataframe\">\n",
       "  <thead>\n",
       "    <tr style=\"text-align: right;\">\n",
       "      <th></th>\n",
       "      <th>person_id</th>\n",
       "      <th>digest</th>\n",
       "      <th>day</th>\n",
       "      <th>month</th>\n",
       "      <th>year</th>\n",
       "    </tr>\n",
       "  </thead>\n",
       "  <tbody>\n",
       "    <tr>\n",
       "      <th>0</th>\n",
       "      <td>24</td>\n",
       "      <td>&gt;J</td>\n",
       "      <td>19</td>\n",
       "      <td>1</td>\n",
       "      <td>2005</td>\n",
       "    </tr>\n",
       "    <tr>\n",
       "      <th>1</th>\n",
       "      <td>None</td>\n",
       "      <td>junk_digest_527</td>\n",
       "      <td>26</td>\n",
       "      <td>2</td>\n",
       "      <td>2006</td>\n",
       "    </tr>\n",
       "    <tr>\n",
       "      <th>2</th>\n",
       "      <td>23</td>\n",
       "      <td>&gt;I</td>\n",
       "      <td>15</td>\n",
       "      <td>2</td>\n",
       "      <td>2009</td>\n",
       "    </tr>\n",
       "    <tr>\n",
       "      <th>3</th>\n",
       "      <td>16</td>\n",
       "      <td>=L</td>\n",
       "      <td>6</td>\n",
       "      <td>2</td>\n",
       "      <td>2003</td>\n",
       "    </tr>\n",
       "    <tr>\n",
       "      <th>4</th>\n",
       "      <td>None</td>\n",
       "      <td>junk_digest_659</td>\n",
       "      <td>1</td>\n",
       "      <td>3</td>\n",
       "      <td>2007</td>\n",
       "    </tr>\n",
       "    <tr>\n",
       "      <th>5</th>\n",
       "      <td>29</td>\n",
       "      <td>&gt;O</td>\n",
       "      <td>18</td>\n",
       "      <td>3</td>\n",
       "      <td>2028</td>\n",
       "    </tr>\n",
       "    <tr>\n",
       "      <th>6</th>\n",
       "      <td>20</td>\n",
       "      <td>&gt;F</td>\n",
       "      <td>28</td>\n",
       "      <td>3</td>\n",
       "      <td>2002</td>\n",
       "    </tr>\n",
       "    <tr>\n",
       "      <th>7</th>\n",
       "      <td>22</td>\n",
       "      <td>&gt;H</td>\n",
       "      <td>19</td>\n",
       "      <td>4</td>\n",
       "      <td>2006</td>\n",
       "    </tr>\n",
       "    <tr>\n",
       "      <th>8</th>\n",
       "      <td>12</td>\n",
       "      <td>=H</td>\n",
       "      <td>17</td>\n",
       "      <td>4</td>\n",
       "      <td>1985</td>\n",
       "    </tr>\n",
       "    <tr>\n",
       "      <th>9</th>\n",
       "      <td>13</td>\n",
       "      <td>=I</td>\n",
       "      <td>27</td>\n",
       "      <td>5</td>\n",
       "      <td>1981</td>\n",
       "    </tr>\n",
       "  </tbody>\n",
       "</table>\n",
       "</div>"
      ],
      "text/plain": [
       "  person_id           digest  day  month  year\n",
       "0        24               >J   19      1  2005\n",
       "1      None  junk_digest_527   26      2  2006\n",
       "2        23               >I   15      2  2009\n",
       "3        16               =L    6      2  2003\n",
       "4      None  junk_digest_659    1      3  2007\n",
       "5        29               >O   18      3  2028\n",
       "6        20               >F   28      3  2002\n",
       "7        22               >H   19      4  2006\n",
       "8        12               =H   17      4  1985\n",
       "9        13               =I   27      5  1981"
      ]
     },
     "execution_count": 4,
     "metadata": {},
     "output_type": "execute_result"
    }
   ],
   "source": [
    "table_2.head()"
   ]
  },
  {
   "cell_type": "code",
   "execution_count": 5,
   "id": "0d289b00",
   "metadata": {},
   "outputs": [
    {
     "name": "stdout",
     "output_type": "stream",
     "text": [
      "\t ##### BUILDING FDM TABLE COMPONENTS FOR src_table_2 #####\n",
      "________________________________________________________________________________\n",
      "\n",
      "1. Checking for identifiers and correcting syntax:\n",
      "\n",
      "\t* person_id found - syntax correct\n",
      "\t* digest found - syntax correct\n",
      "\n",
      "2. Adding person_id column:\n",
      "\n",
      "\t* src_table_2 already contains person_id column\n",
      "\n",
      "\tNOTE: digest also found in src_table_2. If you\n",
      "\twish to rebuild the person_id column from digest, drop the existing\n",
      "\tperson_id column in src_table_2 and run .build() again\n",
      "\n",
      "3. Adding event_start_date:\n",
      "\n",
      "\t* event_start_date column added!\n",
      "\n",
      "4. Adding event_end_date:\n",
      "\n",
      "\tNo event_end_date column found and event_end_date_column not specified.\n",
      "\tevent_end_date end date will be omitted. If you wish to add an event_end_date,\n",
      "\tre-run .build() specifying the `event_end_date` argument.\n",
      "\n",
      "\tNote: Table build process will complete, but the observation periods derived\n",
      "\tfrom a source table with only an event start date may not be accurate, and \n",
      "\tmay result in erroneous observations going unidentified. Talk to the CYP data\n",
      "\tteam if at all uncertain about ommiting the event end date.\n",
      "\n",
      "________________________________________________________________________________\n",
      "\n",
      "\t ##### BUILD PROCESS FOR src_table_2 COMPLETE! #####\n",
      "\n"
     ]
    }
   ],
   "source": [
    "table_2.build(event_start_date_cols=[\"year\", \"month\", \"day\"])"
   ]
  },
  {
   "cell_type": "code",
   "execution_count": null,
   "id": "08136a9d",
   "metadata": {},
   "outputs": [],
   "source": [
    "table_3 = FDMTable(\n",
    "    source_table_full_id=f\"{PROJECT}.CY_TESTS_SRC.src_table_3\",\n",
    "    dataset_id=\"CY_TESTS_FDM\"\n",
    ")"
   ]
  },
  {
   "cell_type": "code",
   "execution_count": null,
   "id": "290751f6",
   "metadata": {},
   "outputs": [],
   "source": [
    "table_3.build()"
   ]
  },
  {
   "cell_type": "code",
   "execution_count": null,
   "id": "25dedd60",
   "metadata": {},
   "outputs": [],
   "source": [
    "table_3.get_column_names()"
   ]
  },
  {
   "cell_type": "code",
   "execution_count": null,
   "id": "3c245432",
   "metadata": {},
   "outputs": [],
   "source": [
    "table_3.build(event_start_date_cols=[\"year\", \"month\", \"15\"])"
   ]
  },
  {
   "cell_type": "code",
   "execution_count": null,
   "id": "6a271308",
   "metadata": {},
   "outputs": [],
   "source": [
    "table_4 = FDMTable(\n",
    "    source_table_full_id=f\"{PROJECT}.CY_TESTS_SRC.src_table_4\",\n",
    "    dataset_id=\"CY_TESTS_FDM\"\n",
    ")\n",
    "table_4.build()"
   ]
  },
  {
   "cell_type": "code",
   "execution_count": null,
   "id": "d77d1472",
   "metadata": {},
   "outputs": [],
   "source": [
    "table_4.get_column_names()"
   ]
  },
  {
   "cell_type": "code",
   "execution_count": null,
   "id": "5f778e99",
   "metadata": {},
   "outputs": [],
   "source": [
    "table_4.head()"
   ]
  },
  {
   "cell_type": "code",
   "execution_count": null,
   "id": "cfccec56",
   "metadata": {},
   "outputs": [],
   "source": [
    "table_4.build(event_start_date_cols=\"date_string\",\n",
    "              event_start_date_format=\"DMY\")"
   ]
  },
  {
   "cell_type": "code",
   "execution_count": null,
   "id": "3bec8b4f",
   "metadata": {},
   "outputs": [],
   "source": [
    "table_4.head()"
   ]
  },
  {
   "cell_type": "code",
   "execution_count": null,
   "id": "cf8d140e",
   "metadata": {},
   "outputs": [],
   "source": [
    "table_5 = FDMTable(\n",
    "    source_table_full_id=f\"{PROJECT}.CY_TESTS_SRC.src_table_5\"\n",
    "    \n",
    ")"
   ]
  }
 ],
 "metadata": {
  "kernelspec": {
   "display_name": "FDMBuilder",
   "language": "python",
   "name": "fdmbuilder"
  },
  "language_info": {
   "codemirror_mode": {
    "name": "ipython",
    "version": 3
   },
   "file_extension": ".py",
   "mimetype": "text/x-python",
   "name": "python",
   "nbconvert_exporter": "python",
   "pygments_lexer": "ipython3",
   "version": "3.9.7"
  }
 },
 "nbformat": 4,
 "nbformat_minor": 5
}
