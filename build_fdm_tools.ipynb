{
 "cells": [
  {
   "cell_type": "code",
   "execution_count": 1,
   "id": "aff11e5b",
   "metadata": {},
   "outputs": [],
   "source": [
    "import sys\n",
    "sys.path.append(\"/home/srelins/docs/cy_fdm_builder/src\")\n",
    "from testing_helpers import *\n",
    "from FDM_builder import *"
   ]
  },
  {
   "cell_type": "markdown",
   "id": "3d875da7",
   "metadata": {},
   "source": [
    "## TO DO:\n",
    "\n",
    "* PRIORITY: build observation_period table!!\n",
    "\n",
    "\n",
    "* start process with dataset - add guidance messages for dataset creation\n",
    "i.e. dataset empty, build FDMTables -- or -- dataset contain XXXXX etc...\n",
    "* run dataset build over whole dataset by default - add options to specify table_ids/FDMTable objects\n",
    "* will need to add \"verbose\" functionality to FDMTables or the console print statements will be fucking epic\n",
    "* add .drop() method to table"
   ]
  },
  {
   "cell_type": "markdown",
   "id": "1dc6928e",
   "metadata": {},
   "source": [
    "## Testing:"
   ]
  },
  {
   "cell_type": "code",
   "execution_count": null,
   "id": "cddccd52",
   "metadata": {
    "scrolled": false
   },
   "outputs": [],
   "source": [
    "build_test_environment()"
   ]
  },
  {
   "cell_type": "code",
   "execution_count": null,
   "id": "b30f4beb",
   "metadata": {
    "scrolled": false
   },
   "outputs": [],
   "source": [
    "table_1 = FDMTable(\n",
    "    source_table_full_id=f\"{PROJECT}.CY_TESTS_SRC.src_table_1\",\n",
    "    dataset_id=\"CY_TESTS_FDM\"\n",
    ")"
   ]
  },
  {
   "cell_type": "code",
   "execution_count": null,
   "id": "633e27f6",
   "metadata": {},
   "outputs": [],
   "source": [
    "table_1.build()"
   ]
  },
  {
   "cell_type": "code",
   "execution_count": null,
   "id": "bface0e6",
   "metadata": {},
   "outputs": [],
   "source": [
    "table_1.build(event_start_date_cols=\"date\")"
   ]
  },
  {
   "cell_type": "code",
   "execution_count": null,
   "id": "3c71a1af",
   "metadata": {},
   "outputs": [],
   "source": [
    "table_1.build(event_end_date_cols=\"date\")"
   ]
  },
  {
   "cell_type": "code",
   "execution_count": null,
   "id": "bb0727bd",
   "metadata": {},
   "outputs": [],
   "source": [
    "table_2 = FDMTable(\n",
    "    source_table_full_id=f\"{PROJECT}.CY_TESTS_SRC.src_table_2\",\n",
    "    dataset_id=\"CY_TESTS_FDM\"\n",
    ")"
   ]
  },
  {
   "cell_type": "code",
   "execution_count": null,
   "id": "c28cb023",
   "metadata": {},
   "outputs": [],
   "source": [
    "table_2.build()"
   ]
  },
  {
   "cell_type": "code",
   "execution_count": null,
   "id": "0d289b00",
   "metadata": {},
   "outputs": [],
   "source": [
    "table_2.build(event_start_date_cols=[\"year\", \"month\", \"day\"])"
   ]
  },
  {
   "cell_type": "code",
   "execution_count": null,
   "id": "2ab2e66e",
   "metadata": {},
   "outputs": [],
   "source": [
    "table_2.build(event_end_date_cols=[\"year\", \"month\", \"day\"])"
   ]
  },
  {
   "cell_type": "code",
   "execution_count": null,
   "id": "08136a9d",
   "metadata": {},
   "outputs": [],
   "source": [
    "table_3 = FDMTable(\n",
    "    source_table_full_id=f\"{PROJECT}.CY_TESTS_SRC.src_table_3\",\n",
    "    dataset_id=\"CY_TESTS_FDM\"\n",
    ")"
   ]
  },
  {
   "cell_type": "code",
   "execution_count": null,
   "id": "290751f6",
   "metadata": {},
   "outputs": [],
   "source": [
    "table_3.build()"
   ]
  },
  {
   "cell_type": "code",
   "execution_count": null,
   "id": "25dedd60",
   "metadata": {},
   "outputs": [],
   "source": [
    "table_3.get_column_names()"
   ]
  },
  {
   "cell_type": "code",
   "execution_count": null,
   "id": "3c245432",
   "metadata": {},
   "outputs": [],
   "source": [
    "table_3.build(event_start_date_cols=[\"year\", \"month\", \"15\"])"
   ]
  },
  {
   "cell_type": "code",
   "execution_count": null,
   "id": "ed6f74c4",
   "metadata": {},
   "outputs": [],
   "source": [
    "table_3.build(event_end_date_cols=[\"year\", \"month\", \"18\"])"
   ]
  },
  {
   "cell_type": "code",
   "execution_count": null,
   "id": "205ace90",
   "metadata": {},
   "outputs": [],
   "source": [
    "dataset = FDMDataset(dataset_id=\"CY_TESTS_FDM\", fdm_tables=[table_1, table_2, table_3])"
   ]
  },
  {
   "cell_type": "code",
   "execution_count": null,
   "id": "61fe1ab7",
   "metadata": {},
   "outputs": [],
   "source": [
    "dataset.build()"
   ]
  },
  {
   "cell_type": "code",
   "execution_count": null,
   "id": "06ff9e79",
   "metadata": {},
   "outputs": [],
   "source": [
    "sql = f\"\"\"\n",
    "    SELECT person_id, \n",
    "\"\"\""
   ]
  },
  {
   "cell_type": "code",
   "execution_count": null,
   "id": "4fe2b833",
   "metadata": {},
   "outputs": [],
   "source": []
  }
 ],
 "metadata": {
  "kernelspec": {
   "display_name": "FDMBuilder",
   "language": "python",
   "name": "fdmbuilder"
  },
  "language_info": {
   "codemirror_mode": {
    "name": "ipython",
    "version": 3
   },
   "file_extension": ".py",
   "mimetype": "text/x-python",
   "name": "python",
   "nbconvert_exporter": "python",
   "pygments_lexer": "ipython3",
   "version": "3.9.7"
  }
 },
 "nbformat": 4,
 "nbformat_minor": 5
}
