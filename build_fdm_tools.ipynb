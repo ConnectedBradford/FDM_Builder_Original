{
 "cells": [
  {
   "cell_type": "code",
   "execution_count": 1,
   "id": "aff11e5b",
   "metadata": {},
   "outputs": [],
   "source": [
    "import sys\n",
    "sys.path.append(\"/home/srelins/docs/cy_fdm_builder/src\")\n",
    "from testing_helpers import *\n",
    "from FDMTable import *\n",
    "from FDMDataset import *"
   ]
  },
  {
   "cell_type": "markdown",
   "id": "3d875da7",
   "metadata": {},
   "source": [
    "## TO DO:\n",
    "\n",
    "* PRIORITY: Work our what happens if you re-run .build() on a dataset\n",
    "* re-running .build() needs \"outside_obs\" tables to be added back to src tables - TEST THIS\n",
    "\n",
    "\n",
    "* THEN: build FDM datasets from just dataset_id:\n",
    "    + summarise tables in dataset init i.e. which are ready for FDM build, which arent, any FDM tables that will be overwritten, any src tables that will be re-combined\n",
    "    * think about \"verbose\" functionality of FDMTables - silence init-messages (not required anyways as tables will be initialised from tables in FDM dataset) - \"check_build\" function\n",
    "    \n",
    "    \n",
    "* add check and warning for Null datetimes when adding start/end dates\n",
    "* add .drop() method to table\n",
    "* raw input functionality - copying src tables? overwriting existing tables?\n",
    "* build data dict function\n",
    "* ask about requirement to have a raw version of FDM_tables at all times? - read only source?"
   ]
  },
  {
   "cell_type": "markdown",
   "id": "1dc6928e",
   "metadata": {},
   "source": [
    "## Testing:"
   ]
  },
  {
   "cell_type": "code",
   "execution_count": 2,
   "id": "cddccd52",
   "metadata": {
    "scrolled": false
   },
   "outputs": [
    {
     "name": "stderr",
     "output_type": "stream",
     "text": [
      "/home/srelins/anaconda3/envs/FDMBuilder/lib/python3.9/site-packages/pandas/core/frame.py:4906: SettingWithCopyWarning: \n",
      "A value is trying to be set on a copy of a slice from a DataFrame\n",
      "\n",
      "See the caveats in the documentation: https://pandas.pydata.org/pandas-docs/stable/user_guide/indexing.html#returning-a-view-versus-a-copy\n",
      "  return super().drop(\n"
     ]
    },
    {
     "name": "stdout",
     "output_type": "stream",
     "text": [
      "LOADING: table 1\n",
      "LOADING: table 2\n",
      "LOADING: table 3\n",
      "LOADING: table 4\n",
      "LOADING: table 5\n",
      "LOADING: table 6\n"
     ]
    }
   ],
   "source": [
    "build_test_environment()"
   ]
  },
  {
   "cell_type": "code",
   "execution_count": 3,
   "id": "4aae11f9",
   "metadata": {
    "scrolled": false
   },
   "outputs": [],
   "source": [
    "table_1 = FDMTable(\n",
    "    source_table_full_id=f\"{PROJECT}.CY_TESTS_SRC.src_table_1\",\n",
    "    dataset_id=\"CY_TESTS_FDM\"\n",
    ")"
   ]
  },
  {
   "cell_type": "code",
   "execution_count": 4,
   "id": "f05a4b8a",
   "metadata": {},
   "outputs": [
    {
     "name": "stdout",
     "output_type": "stream",
     "text": [
      "Building src_table_1:\n",
      "    src_table_1 copied to CY_TESTS_FDM\n",
      "    src_table_1 already contains person_id column\n",
      "    event_start_date column added\n",
      "    event_end_date column added\n",
      "Done.\n"
     ]
    }
   ],
   "source": [
    "table_1.quick_build(event_start_date_cols=\"start_date\",\n",
    "                     event_start_date_format=\"YMD\",\n",
    "                     event_end_date_cols=\"end_date\",\n",
    "                     event_end_date_format=\"YMD\")"
   ]
  },
  {
   "cell_type": "code",
   "execution_count": 5,
   "id": "95d5ed96",
   "metadata": {},
   "outputs": [],
   "source": [
    "table_2 = FDMTable(\n",
    "    source_table_full_id = f\"{PROJECT}.CY_TESTS_SRC.src_table_2\",\n",
    "    dataset_id = \"CY_TESTS_FDM\" \n",
    ")"
   ]
  },
  {
   "cell_type": "code",
   "execution_count": 6,
   "id": "fe79388e",
   "metadata": {},
   "outputs": [
    {
     "name": "stdout",
     "output_type": "stream",
     "text": [
      "Building src_table_2:\n",
      "    src_table_2 copied to CY_TESTS_FDM\n",
      "    person_id column added\n",
      "    event_start_date column added\n",
      "    event_end_date column added\n",
      "Done.\n"
     ]
    }
   ],
   "source": [
    "table_2.quick_build(\n",
    "    event_start_date_cols=[\"start_year\", \"start_month\", \"start_day\"], \n",
    "    event_start_date_format=\"YMD\", \n",
    "    event_end_date_cols=[\"end_year\", \"end_month\", \"end_day\"], \n",
    "    event_end_date_format=\"YMD\"\n",
    ")"
   ]
  },
  {
   "cell_type": "code",
   "execution_count": 7,
   "id": "d9afa396",
   "metadata": {},
   "outputs": [],
   "source": [
    "table_3 = FDMTable(\n",
    "    source_table_full_id=f\"{PROJECT}.CY_TESTS_SRC.src_table_3\",\n",
    "    dataset_id=\"CY_TESTS_FDM\"\n",
    ")"
   ]
  },
  {
   "cell_type": "code",
   "execution_count": 8,
   "id": "c6821746",
   "metadata": {},
   "outputs": [
    {
     "name": "stdout",
     "output_type": "stream",
     "text": [
      "Building src_table_3:\n",
      "    src_table_3 copied to CY_TESTS_FDM\n",
      "    person_id column added\n",
      "    event_start_date column added\n",
      "    no event_end_date info provided\n",
      "Done.\n"
     ]
    }
   ],
   "source": [
    "table_3.quick_build(\n",
    "    event_start_date_cols=[\"year\", \"month\", \"15\"], \n",
    "    event_start_date_format=\"YMD\", \n",
    ")"
   ]
  },
  {
   "cell_type": "code",
   "execution_count": 9,
   "id": "626a45b4",
   "metadata": {},
   "outputs": [],
   "source": [
    "table_4 = FDMTable(\n",
    "    source_table_full_id=f\"{PROJECT}.CY_TESTS_SRC.src_table_4\",\n",
    "    dataset_id=\"CY_TESTS_FDM\"\n",
    ")"
   ]
  },
  {
   "cell_type": "code",
   "execution_count": 10,
   "id": "520b5714",
   "metadata": {},
   "outputs": [
    {
     "name": "stdout",
     "output_type": "stream",
     "text": [
      "Building src_table_4:\n",
      "    src_table_4 copied to CY_TESTS_FDM\n",
      "    src_table_4 already contains person_id column\n",
      "\n",
      "    WARNING: 2 character years are ambiguous e.g. 75 will be parsed as 1975 but \n",
      "    70 will be parsed as 2070. Consider converting year.\n",
      "                \n",
      "    event_start_date column added\n",
      "\n",
      "    WARNING: 2 character years are ambiguous e.g. 75 will be parsed as 1975 but \n",
      "    70 will be parsed as 2070. Consider converting year.\n",
      "                \n",
      "    event_end_date column added\n",
      "Done.\n"
     ]
    }
   ],
   "source": [
    "table_4.quick_build(\n",
    "    event_start_date_cols=\"start_date_string\",\n",
    "    event_start_date_format=\"MDY\", \n",
    "    event_end_date_cols=\"end_date_string\",\n",
    "    event_end_date_format=\"DMY\"\n",
    ")"
   ]
  },
  {
   "cell_type": "code",
   "execution_count": 11,
   "id": "a56783b7",
   "metadata": {},
   "outputs": [],
   "source": [
    "table_5 = FDMTable(\n",
    "    source_table_full_id=f\"{PROJECT}.CY_TESTS_SRC.src_table_5\",\n",
    "    dataset_id=\"CY_TESTS_FDM\"\n",
    ")"
   ]
  },
  {
   "cell_type": "code",
   "execution_count": 12,
   "id": "a2b5ce40",
   "metadata": {},
   "outputs": [],
   "source": [
    "table_5.copy_table_to_dataset()"
   ]
  },
  {
   "cell_type": "code",
   "execution_count": 13,
   "id": "1b3b1288",
   "metadata": {},
   "outputs": [
    {
     "data": {
      "text/html": [
       "<div>\n",
       "<style scoped>\n",
       "    .dataframe tbody tr th:only-of-type {\n",
       "        vertical-align: middle;\n",
       "    }\n",
       "\n",
       "    .dataframe tbody tr th {\n",
       "        vertical-align: top;\n",
       "    }\n",
       "\n",
       "    .dataframe thead th {\n",
       "        text-align: right;\n",
       "    }\n",
       "</style>\n",
       "<table border=\"1\" class=\"dataframe\">\n",
       "  <thead>\n",
       "    <tr style=\"text-align: right;\">\n",
       "      <th></th>\n",
       "      <th>person_id</th>\n",
       "      <th>EDRN</th>\n",
       "      <th>date_string</th>\n",
       "    </tr>\n",
       "  </thead>\n",
       "  <tbody>\n",
       "    <tr>\n",
       "      <th>0</th>\n",
       "      <td>49</td>\n",
       "      <td>JY</td>\n",
       "      <td>January-1995</td>\n",
       "    </tr>\n",
       "    <tr>\n",
       "      <th>1</th>\n",
       "      <td>59</td>\n",
       "      <td>KY</td>\n",
       "      <td>July-1983</td>\n",
       "    </tr>\n",
       "    <tr>\n",
       "      <th>2</th>\n",
       "      <td>52</td>\n",
       "      <td>KR</td>\n",
       "      <td>December-1960</td>\n",
       "    </tr>\n",
       "    <tr>\n",
       "      <th>3</th>\n",
       "      <td>junk_person_id_370</td>\n",
       "      <td>junk_EDRN_370</td>\n",
       "      <td>June-2009</td>\n",
       "    </tr>\n",
       "    <tr>\n",
       "      <th>4</th>\n",
       "      <td>41</td>\n",
       "      <td>JQ</td>\n",
       "      <td>August-2021</td>\n",
       "    </tr>\n",
       "    <tr>\n",
       "      <th>5</th>\n",
       "      <td>50</td>\n",
       "      <td>KP</td>\n",
       "      <td>October-1951</td>\n",
       "    </tr>\n",
       "    <tr>\n",
       "      <th>6</th>\n",
       "      <td>junk_person_id_760</td>\n",
       "      <td>junk_EDRN_760</td>\n",
       "      <td>February-1994</td>\n",
       "    </tr>\n",
       "    <tr>\n",
       "      <th>7</th>\n",
       "      <td>58</td>\n",
       "      <td>KX</td>\n",
       "      <td>October-1963</td>\n",
       "    </tr>\n",
       "    <tr>\n",
       "      <th>8</th>\n",
       "      <td>junk_person_id_330</td>\n",
       "      <td>junk_EDRN_330</td>\n",
       "      <td>May-1957</td>\n",
       "    </tr>\n",
       "    <tr>\n",
       "      <th>9</th>\n",
       "      <td>junk_person_id_723</td>\n",
       "      <td>junk_EDRN_723</td>\n",
       "      <td>January-1976</td>\n",
       "    </tr>\n",
       "  </tbody>\n",
       "</table>\n",
       "</div>"
      ],
      "text/plain": [
       "            person_id           EDRN    date_string\n",
       "0                  49             JY   January-1995\n",
       "1                  59             KY      July-1983\n",
       "2                  52             KR  December-1960\n",
       "3  junk_person_id_370  junk_EDRN_370      June-2009\n",
       "4                  41             JQ    August-2021\n",
       "5                  50             KP   October-1951\n",
       "6  junk_person_id_760  junk_EDRN_760  February-1994\n",
       "7                  58             KX   October-1963\n",
       "8  junk_person_id_330  junk_EDRN_330       May-1957\n",
       "9  junk_person_id_723  junk_EDRN_723   January-1976"
      ]
     },
     "execution_count": 13,
     "metadata": {},
     "output_type": "execute_result"
    }
   ],
   "source": [
    "table_5.head()"
   ]
  },
  {
   "cell_type": "code",
   "execution_count": 14,
   "id": "c4dee416",
   "metadata": {},
   "outputs": [
    {
     "data": {
      "text/html": [
       "<div>\n",
       "<style scoped>\n",
       "    .dataframe tbody tr th:only-of-type {\n",
       "        vertical-align: middle;\n",
       "    }\n",
       "\n",
       "    .dataframe tbody tr th {\n",
       "        vertical-align: top;\n",
       "    }\n",
       "\n",
       "    .dataframe thead th {\n",
       "        text-align: right;\n",
       "    }\n",
       "</style>\n",
       "<table border=\"1\" class=\"dataframe\">\n",
       "  <thead>\n",
       "    <tr style=\"text-align: right;\">\n",
       "      <th></th>\n",
       "      <th>person_id</th>\n",
       "      <th>EDRN</th>\n",
       "      <th>date_string</th>\n",
       "      <th>year</th>\n",
       "      <th>month</th>\n",
       "    </tr>\n",
       "  </thead>\n",
       "  <tbody>\n",
       "    <tr>\n",
       "      <th>0</th>\n",
       "      <td>junk_person_id_330</td>\n",
       "      <td>junk_EDRN_330</td>\n",
       "      <td>May-1957</td>\n",
       "      <td>May</td>\n",
       "      <td>1957</td>\n",
       "    </tr>\n",
       "    <tr>\n",
       "      <th>1</th>\n",
       "      <td>59</td>\n",
       "      <td>KY</td>\n",
       "      <td>July-1983</td>\n",
       "      <td>July</td>\n",
       "      <td>1983</td>\n",
       "    </tr>\n",
       "    <tr>\n",
       "      <th>2</th>\n",
       "      <td>junk_person_id_370</td>\n",
       "      <td>junk_EDRN_370</td>\n",
       "      <td>June-2009</td>\n",
       "      <td>June</td>\n",
       "      <td>2009</td>\n",
       "    </tr>\n",
       "    <tr>\n",
       "      <th>3</th>\n",
       "      <td>57</td>\n",
       "      <td>KW</td>\n",
       "      <td>April-1998</td>\n",
       "      <td>April</td>\n",
       "      <td>1998</td>\n",
       "    </tr>\n",
       "    <tr>\n",
       "      <th>4</th>\n",
       "      <td>55</td>\n",
       "      <td>KU</td>\n",
       "      <td>April-2004</td>\n",
       "      <td>April</td>\n",
       "      <td>2004</td>\n",
       "    </tr>\n",
       "    <tr>\n",
       "      <th>5</th>\n",
       "      <td>42</td>\n",
       "      <td>JR</td>\n",
       "      <td>March-2000</td>\n",
       "      <td>March</td>\n",
       "      <td>2000</td>\n",
       "    </tr>\n",
       "    <tr>\n",
       "      <th>6</th>\n",
       "      <td>40</td>\n",
       "      <td>JP</td>\n",
       "      <td>March-2006</td>\n",
       "      <td>March</td>\n",
       "      <td>2006</td>\n",
       "    </tr>\n",
       "    <tr>\n",
       "      <th>7</th>\n",
       "      <td>41</td>\n",
       "      <td>JQ</td>\n",
       "      <td>August-2021</td>\n",
       "      <td>August</td>\n",
       "      <td>2021</td>\n",
       "    </tr>\n",
       "    <tr>\n",
       "      <th>8</th>\n",
       "      <td>46</td>\n",
       "      <td>JV</td>\n",
       "      <td>August-1992</td>\n",
       "      <td>August</td>\n",
       "      <td>1992</td>\n",
       "    </tr>\n",
       "    <tr>\n",
       "      <th>9</th>\n",
       "      <td>51</td>\n",
       "      <td>KQ</td>\n",
       "      <td>January-1998</td>\n",
       "      <td>January</td>\n",
       "      <td>1998</td>\n",
       "    </tr>\n",
       "  </tbody>\n",
       "</table>\n",
       "</div>"
      ],
      "text/plain": [
       "            person_id           EDRN   date_string     year month\n",
       "0  junk_person_id_330  junk_EDRN_330      May-1957      May  1957\n",
       "1                  59             KY     July-1983     July  1983\n",
       "2  junk_person_id_370  junk_EDRN_370     June-2009     June  2009\n",
       "3                  57             KW    April-1998    April  1998\n",
       "4                  55             KU    April-2004    April  2004\n",
       "5                  42             JR    March-2000    March  2000\n",
       "6                  40             JP    March-2006    March  2006\n",
       "7                  41             JQ   August-2021   August  2021\n",
       "8                  46             JV   August-1992   August  1992\n",
       "9                  51             KQ  January-1998  January  1998"
      ]
     },
     "execution_count": 14,
     "metadata": {},
     "output_type": "execute_result"
    }
   ],
   "source": [
    "table_5.add_column(\"SPLIT(date_string, '-')[OFFSET(0)] AS year\")\n",
    "table_5.add_column(\"SPLIT(date_string, '-')[OFFSET(1)] AS month\")\n",
    "table_5.head()"
   ]
  },
  {
   "cell_type": "code",
   "execution_count": 15,
   "id": "19f87d14",
   "metadata": {},
   "outputs": [
    {
     "name": "stdout",
     "output_type": "stream",
     "text": [
      "Building src_table_5:\n",
      "    existing copy of src_table_5 in CY_TESTS_FDM\n",
      "    src_table_5 already contains person_id column\n",
      "    event_start_date column added\n",
      "    no event_end_date info provided\n",
      "Done.\n"
     ]
    }
   ],
   "source": [
    "table_5.quick_build(\n",
    "    event_start_date_cols=[\"year\", \"month\", \"15\"],\n",
    "    event_start_date_format=\"YMD\", \n",
    ")"
   ]
  },
  {
   "cell_type": "code",
   "execution_count": 16,
   "id": "2856f178",
   "metadata": {},
   "outputs": [],
   "source": [
    "table_6 = FDMTable(\n",
    "    source_table_full_id=f\"{PROJECT}.CY_TESTS_SRC.src_table_6\",\n",
    "    dataset_id=\"CY_TESTS_FDM\"\n",
    ")"
   ]
  },
  {
   "cell_type": "code",
   "execution_count": 17,
   "id": "abf0c113",
   "metadata": {},
   "outputs": [],
   "source": [
    "table_6.copy_table_to_dataset()"
   ]
  },
  {
   "cell_type": "code",
   "execution_count": 18,
   "id": "778fd906",
   "metadata": {},
   "outputs": [
    {
     "data": {
      "text/html": [
       "<div>\n",
       "<style scoped>\n",
       "    .dataframe tbody tr th:only-of-type {\n",
       "        vertical-align: middle;\n",
       "    }\n",
       "\n",
       "    .dataframe tbody tr th {\n",
       "        vertical-align: top;\n",
       "    }\n",
       "\n",
       "    .dataframe thead th {\n",
       "        text-align: right;\n",
       "    }\n",
       "</style>\n",
       "<table border=\"1\" class=\"dataframe\">\n",
       "  <thead>\n",
       "    <tr style=\"text-align: right;\">\n",
       "      <th></th>\n",
       "      <th>person_id</th>\n",
       "      <th>digest</th>\n",
       "      <th>EDRN</th>\n",
       "      <th>date_string</th>\n",
       "    </tr>\n",
       "  </thead>\n",
       "  <tbody>\n",
       "    <tr>\n",
       "      <th>0</th>\n",
       "      <td>58</td>\n",
       "      <td>AN</td>\n",
       "      <td>KX</td>\n",
       "      <td>24-Mar-1994</td>\n",
       "    </tr>\n",
       "    <tr>\n",
       "      <th>1</th>\n",
       "      <td>60</td>\n",
       "      <td>BF</td>\n",
       "      <td>LP</td>\n",
       "      <td>15-Nov-1984</td>\n",
       "    </tr>\n",
       "    <tr>\n",
       "      <th>2</th>\n",
       "      <td>junk_person_id_514</td>\n",
       "      <td>junk_digest_514</td>\n",
       "      <td>junk_EDRN_514</td>\n",
       "      <td>15-May-2004</td>\n",
       "    </tr>\n",
       "    <tr>\n",
       "      <th>3</th>\n",
       "      <td>54</td>\n",
       "      <td>AJ</td>\n",
       "      <td>KT</td>\n",
       "      <td>8-Nov-1967</td>\n",
       "    </tr>\n",
       "    <tr>\n",
       "      <th>4</th>\n",
       "      <td>64</td>\n",
       "      <td>BJ</td>\n",
       "      <td>LT</td>\n",
       "      <td>23-Aug-1956</td>\n",
       "    </tr>\n",
       "    <tr>\n",
       "      <th>5</th>\n",
       "      <td>junk_person_id_86</td>\n",
       "      <td>junk_digest_86</td>\n",
       "      <td>junk_EDRN_86</td>\n",
       "      <td>20-Aug-1954</td>\n",
       "    </tr>\n",
       "    <tr>\n",
       "      <th>6</th>\n",
       "      <td>66</td>\n",
       "      <td>BL</td>\n",
       "      <td>LV</td>\n",
       "      <td>8-Aug-1979</td>\n",
       "    </tr>\n",
       "    <tr>\n",
       "      <th>7</th>\n",
       "      <td>59</td>\n",
       "      <td>AO</td>\n",
       "      <td>KY</td>\n",
       "      <td>16-Aug-1979</td>\n",
       "    </tr>\n",
       "    <tr>\n",
       "      <th>8</th>\n",
       "      <td>69</td>\n",
       "      <td>BO</td>\n",
       "      <td>LY</td>\n",
       "      <td>12-Nov-2010</td>\n",
       "    </tr>\n",
       "    <tr>\n",
       "      <th>9</th>\n",
       "      <td>68</td>\n",
       "      <td>BN</td>\n",
       "      <td>LX</td>\n",
       "      <td>3-Nov-1988</td>\n",
       "    </tr>\n",
       "  </tbody>\n",
       "</table>\n",
       "</div>"
      ],
      "text/plain": [
       "            person_id           digest           EDRN  date_string\n",
       "0                  58               AN             KX  24-Mar-1994\n",
       "1                  60               BF             LP  15-Nov-1984\n",
       "2  junk_person_id_514  junk_digest_514  junk_EDRN_514  15-May-2004\n",
       "3                  54               AJ             KT   8-Nov-1967\n",
       "4                  64               BJ             LT  23-Aug-1956\n",
       "5   junk_person_id_86   junk_digest_86   junk_EDRN_86  20-Aug-1954\n",
       "6                  66               BL             LV   8-Aug-1979\n",
       "7                  59               AO             KY  16-Aug-1979\n",
       "8                  69               BO             LY  12-Nov-2010\n",
       "9                  68               BN             LX   3-Nov-1988"
      ]
     },
     "execution_count": 18,
     "metadata": {},
     "output_type": "execute_result"
    }
   ],
   "source": [
    "table_6.head()"
   ]
  },
  {
   "cell_type": "code",
   "execution_count": 19,
   "id": "01a67ab1",
   "metadata": {},
   "outputs": [
    {
     "name": "stdout",
     "output_type": "stream",
     "text": [
      "Building src_table_6:\n",
      "    existing copy of src_table_6 in CY_TESTS_FDM\n",
      "    src_table_6 already contains person_id column\n",
      "    event_start_date column added\n",
      "    no event_end_date info provided\n",
      "Done.\n"
     ]
    }
   ],
   "source": [
    "table_6.quick_build(\n",
    "    event_start_date_cols=\"date_string\",\n",
    "    event_start_date_format=\"DMY\",\n",
    ")"
   ]
  },
  {
   "cell_type": "code",
   "execution_count": 20,
   "id": "77774130",
   "metadata": {},
   "outputs": [],
   "source": [
    "dataset = FDMDataset(\n",
    "    dataset_id = \"CY_TESTS_FDM\"\n",
    ")"
   ]
  },
  {
   "cell_type": "code",
   "execution_count": 22,
   "id": "a6618098",
   "metadata": {},
   "outputs": [
    {
     "name": "stdout",
     "output_type": "stream",
     "text": [
      "\t\t ##### BUILDING FDM DATASET CY_TESTS_FDM #####\n",
      "________________________________________________________________________________\n",
      "\n",
      "1. Checking dataset for source tables:\n",
      "\n",
      "    src_table_1 contains:  * person_id * event_start_date  * event_end_date\n",
      "\t-> Table ready\n",
      "    src_table_2 contains:  * person_id * event_start_date  * event_end_date\n",
      "\t-> Table ready\n",
      "    src_table_3 contains:  * person_id * event_start_date \n",
      "\t-> Table ready\n",
      "    src_table_4 contains:  * person_id * event_start_date  * event_end_date\n",
      "\t-> Table ready\n",
      "    src_table_5 contains:  * person_id * event_start_date \n",
      "\t-> Table ready\n",
      "    src_table_6 contains:  * person_id * event_start_date \n",
      "\t-> Table ready\n",
      "\n",
      "2. Building person table\n",
      "\n",
      "    * Person table built with 22 entries\n",
      "\n",
      "3. Building initial observation_period table\n",
      "\n",
      "    * observation_period table built with 22 entries\n",
      "\n",
      "4. Separating out problem entries from source tables\n",
      "\n",
      "    src_table_1:\n",
      "\t* 0 problem entries identified and removed to src_table_1_problems\n",
      "\t* 5 entries remain in src_table_1\n",
      "    src_table_2:\n",
      "\t* 0 problem entries identified and removed to src_table_2_problems\n",
      "\t* 4 entries remain in src_table_2\n",
      "    src_table_3:\n",
      "\t* 0 problem entries identified and removed to src_table_3_problems\n",
      "\t* 5 entries remain in src_table_3\n",
      "    src_table_4:\n",
      "\t* 0 problem entries identified and removed to src_table_4_problems\n",
      "\t* 6 entries remain in src_table_4\n",
      "    src_table_5:\n",
      "\t* 0 problem entries identified and removed to src_table_5_problems\n",
      "\t* 3 entries remain in src_table_5\n",
      "    src_table_6:\n",
      "\t* 0 problem entries identified and removed to src_table_6_problems\n",
      "\t* 3 entries remain in src_table_6\n",
      "\n",
      "5. Rebuilding person table\n",
      "\n",
      "    * Person table built with 22 entries\n",
      "\n",
      "6. Rebuilding observation_period table\n",
      "\n",
      "    * observation_period table built with 22 entries\n",
      "\n",
      "________________________________________________________________________________\n",
      "\n",
      "\t ##### BUILD PROCESS FOR CY_TESTS_FDM COMPLETE! #####\n",
      "\n"
     ]
    }
   ],
   "source": [
    "dataset.build()"
   ]
  },
  {
   "cell_type": "code",
   "execution_count": 26,
   "id": "9bb28222",
   "metadata": {},
   "outputs": [
    {
     "data": {
      "text/plain": [
       "'got_money_mo'"
      ]
     },
     "execution_count": 26,
     "metadata": {},
     "output_type": "execute_result"
    }
   ],
   "source": [
    "blah = \"got_money_mo_problems\"\n",
    "blah[:-9]"
   ]
  },
  {
   "cell_type": "code",
   "execution_count": null,
   "id": "7941d949",
   "metadata": {},
   "outputs": [],
   "source": []
  }
 ],
 "metadata": {
  "kernelspec": {
   "display_name": "FDMBuilder",
   "language": "python",
   "name": "fdmbuilder"
  },
  "language_info": {
   "codemirror_mode": {
    "name": "ipython",
    "version": 3
   },
   "file_extension": ".py",
   "mimetype": "text/x-python",
   "name": "python",
   "nbconvert_exporter": "python",
   "pygments_lexer": "ipython3",
   "version": "3.9.7"
  }
 },
 "nbformat": 4,
 "nbformat_minor": 5
}
