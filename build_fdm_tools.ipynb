{
 "cells": [
  {
   "cell_type": "code",
   "execution_count": 1,
   "id": "aff11e5b",
   "metadata": {},
   "outputs": [],
   "source": [
    "import sys\n",
    "sys.path.append(\"/home/srelins/docs/cy_fdm_builder/src\")\n",
    "from testing_helpers import *\n",
    "from FDM_builder import *"
   ]
  },
  {
   "cell_type": "markdown",
   "id": "3d875da7",
   "metadata": {},
   "source": [
    "## Current work in progress:\n",
    "\n",
    "Date parser + tool to add dates to src tables:"
   ]
  },
  {
   "cell_type": "code",
   "execution_count": null,
   "id": "e556400b",
   "metadata": {},
   "outputs": [],
   "source": [
    "def add_uuid_to_table(full_table_id):\n",
    "    sql = f\"\"\"\n",
    "        SELECT GENERATE_UUID() AS uuid, *\n",
    "        FROM {full_table_id}\n",
    "    \"\"\"\n",
    "    run_sql_query(sql, destination=full_table_id)\n",
    "    \n",
    "    \n",
    "def parse_date(x):\n",
    "    if type(x) is datetime.datetime:\n",
    "        x = x.date\n",
    "    return parse(str(x), dayfirst=True, yearfirst=True)\n",
    "    \n",
    "    \n",
    "def get_datetime_df(date_source, full_table_id):\n",
    "    \n",
    "    table = CLIENT.get_table(full_table_id)\n",
    "    col_data = {field.name: field.field_type \n",
    "                for field in table.schema}\n",
    "    if type(date_source) == list and len(date_source) == 3:\n",
    "        cast_cols_sql = []\n",
    "        for col in date_source:\n",
    "            if col in col_data.keys() and col_data[col] == \"STRING\":\n",
    "                cast_cols_sql.append(col)\n",
    "            elif col in col_data.keys(): \n",
    "                cast_cols_sql.append(f\"CAST({col} AS STRING)\")\n",
    "            else:\n",
    "                cast_cols_sql.append(f'\"{col}\"')\n",
    "        to_concat_sql = ', \"-\", '.join(cast_cols_sql) \n",
    "        sql = f\"\"\"\n",
    "            SELECT uuid, CONCAT({to_concat_sql}) AS date\n",
    "            FROM {full_table_id}\n",
    "        \"\"\"\n",
    "    else:\n",
    "        sql = f\"\"\"\n",
    "            SELECT uuid, {date_source} AS date\n",
    "            FROM {full_table_id}\n",
    "        \"\"\"\n",
    "        \n",
    "    dates_df = pd.read_gbq(query=sql, project_id=PROJECT)\n",
    "    date_str_lens = dates_df.date.apply(len)\n",
    "    if all(date_str_lens <= 8):\n",
    "        print(\"WARNING: 2 character years are ambiguous e.g. 75 will be parsed\\n\" \n",
    "              \"as 1975 but 70 will be parsed as 2070. Consider converting year.\")\n",
    "    dates_df[\"parsed_date\"] = dates_df.date.apply(parse_date)\n",
    "    return dates_df[[\"uuid\", \"parsed_date\"]]\n",
    "            \n",
    "    \n",
    "def add_parsed_date_to_table(date_source, table_id, dataset_id):\n",
    "    \n",
    "    full_table_id = f\"{PROJECT}.{dataset_id}.{table_id}\"\n",
    "    add_uuid_to_table(full_table_id)\n",
    "    \n",
    "    dates_df = get_datetime_df(date_source, full_table_id)\n",
    "    \n",
    "    temp_dates_id = f\"{PROJECT}.{dataset_id}.tmp_dates\"\n",
    "    dates_df.to_gbq(destination_table=temp_dates_id,\n",
    "                    project_id=PROJECT,\n",
    "                    table_schema=[{\"name\":\"parsed_date\", \"type\":\"DATE\"}],\n",
    "                    if_exists=\"replace\")\n",
    "    \n",
    "    join_dates_sql = f\"\"\"\n",
    "        SELECT dates.parsed_date, src.*\n",
    "        FROM `{full_table_id}` AS src\n",
    "        LEFT JOIN {temp_dates_id} as dates\n",
    "        ON src.uuid = dates.uuid\n",
    "    \"\"\"\n",
    "    run_sql_query(join_dates_sql, destination=full_table_id)\n",
    "    \n",
    "    drop_uuid_sql = f\"\"\"\n",
    "        ALTER TABLE {full_table_id}\n",
    "        DROP COLUMN uuid\n",
    "    \"\"\"\n",
    "    run_sql_query(drop_uuid_sql)\n",
    "    \n",
    "    CLIENT.delete_table(temp_dates_id)"
   ]
  },
  {
   "cell_type": "markdown",
   "id": "1dc6928e",
   "metadata": {},
   "source": [
    "## Testing:\n",
    "\n",
    "need to fix ambiguity of input format - dayfirst/yearfirst!!"
   ]
  },
  {
   "cell_type": "code",
   "execution_count": 14,
   "id": "cddccd52",
   "metadata": {
    "scrolled": true
   },
   "outputs": [],
   "source": [
    "build_test_environment()"
   ]
  },
  {
   "cell_type": "code",
   "execution_count": 4,
   "id": "b30f4beb",
   "metadata": {},
   "outputs": [],
   "source": [
    "table_1 = FDMTable(\n",
    "    source_table_full_id=f\"{PROJECT}.CY_TESTS_SRC.src_table_1\",\n",
    "    dataset_id=\"CY_TESTS_FDM\"\n",
    ")"
   ]
  },
  {
   "cell_type": "code",
   "execution_count": 5,
   "id": "4ce0b515",
   "metadata": {},
   "outputs": [
    {
     "name": "stdout",
     "output_type": "stream",
     "text": [
      "\t\t ##### BUILDING TABLE src_table_1 #####\n",
      "________________________________________________________________________________\n",
      "\n",
      "1. Copying src_table_1 to CY_TESTS_FDM\n",
      "\n",
      "\t* src_table_1 copied to CY_TESTS_FDM!\n",
      "\n",
      "2. Checking identifier name syntax:\n",
      "\n",
      "\t* person_id found - syntax correct\n",
      "\n",
      "3. Adding person_id column:\n",
      "\n",
      "\t* src_table_1 already contains person_id column\n",
      "\n",
      "________________________________________________________________________________\n",
      "\n",
      "\t ##### BUILD PROCESS FOR src_table_1 COMPLETE! #####\n",
      "\n"
     ]
    }
   ],
   "source": [
    "table_1.build()"
   ]
  },
  {
   "cell_type": "code",
   "execution_count": 17,
   "id": "bb0727bd",
   "metadata": {},
   "outputs": [
    {
     "name": "stdout",
     "output_type": "stream",
     "text": [
      "\t\t ##### BUILDING TABLE src_table_2 #####\n",
      "________________________________________________________________________________\n",
      "\n",
      "1. Copying src_table_2 to CY_TESTS_FDM\n",
      "\n",
      "\t* src_table_2 copied to CY_TESTS_FDM!\n",
      "\n",
      "2. Checking identifier name syntax:\n",
      "\n",
      "\t* digest found - syntax correct\n",
      "\n",
      "3. Adding person_id column:\n",
      "\n",
      "\t* person_id column added!\n",
      "\n",
      "________________________________________________________________________________\n",
      "\n",
      "\t ##### BUILD PROCESS FOR src_table_2 COMPLETE! #####\n",
      "\n"
     ]
    }
   ],
   "source": [
    "table_2 = FDMTable(\n",
    "    source_table_full_id=f\"{PROJECT}.CY_TESTS_SRC.src_table_2\",\n",
    "    dataset_id=\"CY_TESTS_FDM\"\n",
    ")\n",
    "table_2.build()"
   ]
  },
  {
   "cell_type": "code",
   "execution_count": 18,
   "id": "0d289b00",
   "metadata": {},
   "outputs": [],
   "source": [
    "table_2.add_parsed_date_to_table(date_source=[\"year\", \"Nov\", \"15\"])"
   ]
  },
  {
   "cell_type": "code",
   "execution_count": 9,
   "id": "08136a9d",
   "metadata": {},
   "outputs": [],
   "source": [
    "dataset = FDMDataset(\n",
    "    dataset_id=\"CY_TESTS_FDM\",\n",
    "    fdm_tables=[table_1, table_2]\n",
    ")"
   ]
  },
  {
   "cell_type": "code",
   "execution_count": 10,
   "id": "290751f6",
   "metadata": {},
   "outputs": [
    {
     "name": "stdout",
     "output_type": "stream",
     "text": [
      "\t\t ##### BUILDING FDM DATASET CY_TESTS_FDM #####\n",
      "________________________________________________________________________________\n",
      "\n",
      "1. Checking source input tables:\n",
      "\n",
      "\t* src_table_1 - OK\n",
      "\t* src_table_2 - OK\n",
      "\n",
      "2. Building person table:\n",
      "\n",
      "\t* Joining data from master person table\n"
     ]
    },
    {
     "ename": "BadRequest",
     "evalue": "400 No matching signature for operator = for argument types: STRING, INT64. Supported signature: ANY = ANY at [5:16]\n\nLocation: europe-west2\nJob ID: abae2a0d-f2b6-4a6c-a4fc-c24a35df046f\n",
     "output_type": "error",
     "traceback": [
      "\u001b[0;31m---------------------------------------------------------------------------\u001b[0m",
      "\u001b[0;31mBadRequest\u001b[0m                                Traceback (most recent call last)",
      "\u001b[0;32m/tmp/ipykernel_16562/4200503086.py\u001b[0m in \u001b[0;36m<module>\u001b[0;34m\u001b[0m\n\u001b[0;32m----> 1\u001b[0;31m \u001b[0mdataset\u001b[0m\u001b[0;34m.\u001b[0m\u001b[0mbuild\u001b[0m\u001b[0;34m(\u001b[0m\u001b[0;34m)\u001b[0m\u001b[0;34m\u001b[0m\u001b[0;34m\u001b[0m\u001b[0m\n\u001b[0m",
      "\u001b[0;32m~/docs/cy_fdm_builder/src/FDM_builder.py\u001b[0m in \u001b[0;36mbuild\u001b[0;34m(self)\u001b[0m\n\u001b[1;32m    258\u001b[0m         \u001b[0mprint\u001b[0m\u001b[0;34m(\u001b[0m\u001b[0;34m\"_\"\u001b[0m \u001b[0;34m*\u001b[0m \u001b[0;36m80\u001b[0m \u001b[0;34m+\u001b[0m \u001b[0;34m\"\\n\"\u001b[0m\u001b[0;34m)\u001b[0m\u001b[0;34m\u001b[0m\u001b[0;34m\u001b[0m\u001b[0m\n\u001b[1;32m    259\u001b[0m         \u001b[0mself\u001b[0m\u001b[0;34m.\u001b[0m\u001b[0m_check_fdm_tables\u001b[0m\u001b[0;34m(\u001b[0m\u001b[0;34m)\u001b[0m\u001b[0;34m\u001b[0m\u001b[0;34m\u001b[0m\u001b[0m\n\u001b[0;32m--> 260\u001b[0;31m         \u001b[0mself\u001b[0m\u001b[0;34m.\u001b[0m\u001b[0m_build_person_table\u001b[0m\u001b[0;34m(\u001b[0m\u001b[0;34m)\u001b[0m\u001b[0;34m\u001b[0m\u001b[0;34m\u001b[0m\u001b[0m\n\u001b[0m\u001b[1;32m    261\u001b[0m         \u001b[0mself\u001b[0m\u001b[0;34m.\u001b[0m\u001b[0m_build_missing_person_ids\u001b[0m\u001b[0;34m(\u001b[0m\u001b[0;34m)\u001b[0m\u001b[0;34m\u001b[0m\u001b[0;34m\u001b[0m\u001b[0m\n\u001b[1;32m    262\u001b[0m         \u001b[0mself\u001b[0m\u001b[0;34m.\u001b[0m\u001b[0m_build_person_ids_missing_from_master\u001b[0m\u001b[0;34m(\u001b[0m\u001b[0;34m)\u001b[0m\u001b[0;34m\u001b[0m\u001b[0;34m\u001b[0m\u001b[0m\n",
      "\u001b[0;32m~/docs/cy_fdm_builder/src/FDM_builder.py\u001b[0m in \u001b[0;36m_build_person_table\u001b[0;34m(self)\u001b[0m\n\u001b[1;32m    317\u001b[0m             \u001b[0mON\u001b[0m \u001b[0ma\u001b[0m\u001b[0;34m.\u001b[0m\u001b[0mperson_id\u001b[0m \u001b[0;34m=\u001b[0m \u001b[0mb\u001b[0m\u001b[0;34m.\u001b[0m\u001b[0mperson_id\u001b[0m\u001b[0;34m\u001b[0m\u001b[0;34m\u001b[0m\u001b[0m\n\u001b[1;32m    318\u001b[0m         \"\"\"\n\u001b[0;32m--> 319\u001b[0;31m         run_sql_query(full_person_table_sql, \n\u001b[0m\u001b[1;32m    320\u001b[0m                       destination=self.person_table_id)\n\u001b[1;32m    321\u001b[0m         \u001b[0mprint\u001b[0m\u001b[0;34m(\u001b[0m\u001b[0;34m\"\\t* Person table built!\\n\"\u001b[0m\u001b[0;34m)\u001b[0m\u001b[0;34m\u001b[0m\u001b[0;34m\u001b[0m\u001b[0m\n",
      "\u001b[0;32m~/docs/cy_fdm_builder/src/FDM_helpers.py\u001b[0m in \u001b[0;36mrun_sql_query\u001b[0;34m(sql, destination)\u001b[0m\n\u001b[1;32m     55\u001b[0m \u001b[0;34m\u001b[0m\u001b[0m\n\u001b[1;32m     56\u001b[0m     \u001b[0mquery_job\u001b[0m \u001b[0;34m=\u001b[0m \u001b[0mCLIENT\u001b[0m\u001b[0;34m.\u001b[0m\u001b[0mquery\u001b[0m\u001b[0;34m(\u001b[0m\u001b[0msql\u001b[0m\u001b[0;34m,\u001b[0m \u001b[0mjob_config\u001b[0m\u001b[0;34m=\u001b[0m\u001b[0mjob_config\u001b[0m\u001b[0;34m)\u001b[0m  \u001b[0;31m# Make an API request.\u001b[0m\u001b[0;34m\u001b[0m\u001b[0;34m\u001b[0m\u001b[0m\n\u001b[0;32m---> 57\u001b[0;31m     \u001b[0mquery_job\u001b[0m\u001b[0;34m.\u001b[0m\u001b[0mresult\u001b[0m\u001b[0;34m(\u001b[0m\u001b[0;34m)\u001b[0m  \u001b[0;31m# Wait for the job to complete.\u001b[0m\u001b[0;34m\u001b[0m\u001b[0;34m\u001b[0m\u001b[0m\n\u001b[0m\u001b[1;32m     58\u001b[0m \u001b[0;34m\u001b[0m\u001b[0m\n\u001b[1;32m     59\u001b[0m     \u001b[0;32mreturn\u001b[0m \u001b[0mquery_job\u001b[0m\u001b[0;34m\u001b[0m\u001b[0;34m\u001b[0m\u001b[0m\n",
      "\u001b[0;32m~/anaconda3/envs/FDMBuilder/lib/python3.9/site-packages/google/cloud/bigquery/job/query.py\u001b[0m in \u001b[0;36mresult\u001b[0;34m(self, page_size, max_results, retry, timeout, start_index, job_retry)\u001b[0m\n\u001b[1;32m   1449\u001b[0m                 \u001b[0mdo_get_result\u001b[0m \u001b[0;34m=\u001b[0m \u001b[0mjob_retry\u001b[0m\u001b[0;34m(\u001b[0m\u001b[0mdo_get_result\u001b[0m\u001b[0;34m)\u001b[0m\u001b[0;34m\u001b[0m\u001b[0;34m\u001b[0m\u001b[0m\n\u001b[1;32m   1450\u001b[0m \u001b[0;34m\u001b[0m\u001b[0m\n\u001b[0;32m-> 1451\u001b[0;31m             \u001b[0mdo_get_result\u001b[0m\u001b[0;34m(\u001b[0m\u001b[0;34m)\u001b[0m\u001b[0;34m\u001b[0m\u001b[0;34m\u001b[0m\u001b[0m\n\u001b[0m\u001b[1;32m   1452\u001b[0m \u001b[0;34m\u001b[0m\u001b[0m\n\u001b[1;32m   1453\u001b[0m         \u001b[0;32mexcept\u001b[0m \u001b[0mexceptions\u001b[0m\u001b[0;34m.\u001b[0m\u001b[0mGoogleAPICallError\u001b[0m \u001b[0;32mas\u001b[0m \u001b[0mexc\u001b[0m\u001b[0;34m:\u001b[0m\u001b[0;34m\u001b[0m\u001b[0;34m\u001b[0m\u001b[0m\n",
      "\u001b[0;32m~/anaconda3/envs/FDMBuilder/lib/python3.9/site-packages/google/api_core/retry.py\u001b[0m in \u001b[0;36mretry_wrapped_func\u001b[0;34m(*args, **kwargs)\u001b[0m\n\u001b[1;32m    281\u001b[0m                 \u001b[0mself\u001b[0m\u001b[0;34m.\u001b[0m\u001b[0m_initial\u001b[0m\u001b[0;34m,\u001b[0m \u001b[0mself\u001b[0m\u001b[0;34m.\u001b[0m\u001b[0m_maximum\u001b[0m\u001b[0;34m,\u001b[0m \u001b[0mmultiplier\u001b[0m\u001b[0;34m=\u001b[0m\u001b[0mself\u001b[0m\u001b[0;34m.\u001b[0m\u001b[0m_multiplier\u001b[0m\u001b[0;34m\u001b[0m\u001b[0;34m\u001b[0m\u001b[0m\n\u001b[1;32m    282\u001b[0m             )\n\u001b[0;32m--> 283\u001b[0;31m             return retry_target(\n\u001b[0m\u001b[1;32m    284\u001b[0m                 \u001b[0mtarget\u001b[0m\u001b[0;34m,\u001b[0m\u001b[0;34m\u001b[0m\u001b[0;34m\u001b[0m\u001b[0m\n\u001b[1;32m    285\u001b[0m                 \u001b[0mself\u001b[0m\u001b[0;34m.\u001b[0m\u001b[0m_predicate\u001b[0m\u001b[0;34m,\u001b[0m\u001b[0;34m\u001b[0m\u001b[0;34m\u001b[0m\u001b[0m\n",
      "\u001b[0;32m~/anaconda3/envs/FDMBuilder/lib/python3.9/site-packages/google/api_core/retry.py\u001b[0m in \u001b[0;36mretry_target\u001b[0;34m(target, predicate, sleep_generator, deadline, on_error)\u001b[0m\n\u001b[1;32m    188\u001b[0m     \u001b[0;32mfor\u001b[0m \u001b[0msleep\u001b[0m \u001b[0;32min\u001b[0m \u001b[0msleep_generator\u001b[0m\u001b[0;34m:\u001b[0m\u001b[0;34m\u001b[0m\u001b[0;34m\u001b[0m\u001b[0m\n\u001b[1;32m    189\u001b[0m         \u001b[0;32mtry\u001b[0m\u001b[0;34m:\u001b[0m\u001b[0;34m\u001b[0m\u001b[0;34m\u001b[0m\u001b[0m\n\u001b[0;32m--> 190\u001b[0;31m             \u001b[0;32mreturn\u001b[0m \u001b[0mtarget\u001b[0m\u001b[0;34m(\u001b[0m\u001b[0;34m)\u001b[0m\u001b[0;34m\u001b[0m\u001b[0;34m\u001b[0m\u001b[0m\n\u001b[0m\u001b[1;32m    191\u001b[0m \u001b[0;34m\u001b[0m\u001b[0m\n\u001b[1;32m    192\u001b[0m         \u001b[0;31m# pylint: disable=broad-except\u001b[0m\u001b[0;34m\u001b[0m\u001b[0;34m\u001b[0m\u001b[0m\n",
      "\u001b[0;32m~/anaconda3/envs/FDMBuilder/lib/python3.9/site-packages/google/cloud/bigquery/job/query.py\u001b[0m in \u001b[0;36mdo_get_result\u001b[0;34m()\u001b[0m\n\u001b[1;32m   1439\u001b[0m                     \u001b[0mself\u001b[0m\u001b[0;34m.\u001b[0m\u001b[0m_job_retry\u001b[0m \u001b[0;34m=\u001b[0m \u001b[0mjob_retry\u001b[0m\u001b[0;34m\u001b[0m\u001b[0;34m\u001b[0m\u001b[0m\n\u001b[1;32m   1440\u001b[0m \u001b[0;34m\u001b[0m\u001b[0m\n\u001b[0;32m-> 1441\u001b[0;31m                 \u001b[0msuper\u001b[0m\u001b[0;34m(\u001b[0m\u001b[0mQueryJob\u001b[0m\u001b[0;34m,\u001b[0m \u001b[0mself\u001b[0m\u001b[0;34m)\u001b[0m\u001b[0;34m.\u001b[0m\u001b[0mresult\u001b[0m\u001b[0;34m(\u001b[0m\u001b[0mretry\u001b[0m\u001b[0;34m=\u001b[0m\u001b[0mretry\u001b[0m\u001b[0;34m,\u001b[0m \u001b[0mtimeout\u001b[0m\u001b[0;34m=\u001b[0m\u001b[0mtimeout\u001b[0m\u001b[0;34m)\u001b[0m\u001b[0;34m\u001b[0m\u001b[0;34m\u001b[0m\u001b[0m\n\u001b[0m\u001b[1;32m   1442\u001b[0m \u001b[0;34m\u001b[0m\u001b[0m\n\u001b[1;32m   1443\u001b[0m                 \u001b[0;31m# Since the job could already be \"done\" (e.g. got a finished job\u001b[0m\u001b[0;34m\u001b[0m\u001b[0;34m\u001b[0m\u001b[0m\n",
      "\u001b[0;32m~/anaconda3/envs/FDMBuilder/lib/python3.9/site-packages/google/cloud/bigquery/job/base.py\u001b[0m in \u001b[0;36mresult\u001b[0;34m(self, retry, timeout)\u001b[0m\n\u001b[1;32m    725\u001b[0m \u001b[0;34m\u001b[0m\u001b[0m\n\u001b[1;32m    726\u001b[0m         \u001b[0mkwargs\u001b[0m \u001b[0;34m=\u001b[0m \u001b[0;34m{\u001b[0m\u001b[0;34m}\u001b[0m \u001b[0;32mif\u001b[0m \u001b[0mretry\u001b[0m \u001b[0;32mis\u001b[0m \u001b[0mDEFAULT_RETRY\u001b[0m \u001b[0;32melse\u001b[0m \u001b[0;34m{\u001b[0m\u001b[0;34m\"retry\"\u001b[0m\u001b[0;34m:\u001b[0m \u001b[0mretry\u001b[0m\u001b[0;34m}\u001b[0m\u001b[0;34m\u001b[0m\u001b[0;34m\u001b[0m\u001b[0m\n\u001b[0;32m--> 727\u001b[0;31m         \u001b[0;32mreturn\u001b[0m \u001b[0msuper\u001b[0m\u001b[0;34m(\u001b[0m\u001b[0m_AsyncJob\u001b[0m\u001b[0;34m,\u001b[0m \u001b[0mself\u001b[0m\u001b[0;34m)\u001b[0m\u001b[0;34m.\u001b[0m\u001b[0mresult\u001b[0m\u001b[0;34m(\u001b[0m\u001b[0mtimeout\u001b[0m\u001b[0;34m=\u001b[0m\u001b[0mtimeout\u001b[0m\u001b[0;34m,\u001b[0m \u001b[0;34m**\u001b[0m\u001b[0mkwargs\u001b[0m\u001b[0;34m)\u001b[0m\u001b[0;34m\u001b[0m\u001b[0;34m\u001b[0m\u001b[0m\n\u001b[0m\u001b[1;32m    728\u001b[0m \u001b[0;34m\u001b[0m\u001b[0m\n\u001b[1;32m    729\u001b[0m     \u001b[0;32mdef\u001b[0m \u001b[0mcancelled\u001b[0m\u001b[0;34m(\u001b[0m\u001b[0mself\u001b[0m\u001b[0;34m)\u001b[0m\u001b[0;34m:\u001b[0m\u001b[0;34m\u001b[0m\u001b[0;34m\u001b[0m\u001b[0m\n",
      "\u001b[0;32m~/anaconda3/envs/FDMBuilder/lib/python3.9/site-packages/google/api_core/future/polling.py\u001b[0m in \u001b[0;36mresult\u001b[0;34m(self, timeout, retry)\u001b[0m\n\u001b[1;32m    135\u001b[0m             \u001b[0;31m# pylint: disable=raising-bad-type\u001b[0m\u001b[0;34m\u001b[0m\u001b[0;34m\u001b[0m\u001b[0m\n\u001b[1;32m    136\u001b[0m             \u001b[0;31m# Pylint doesn't recognize that this is valid in this case.\u001b[0m\u001b[0;34m\u001b[0m\u001b[0;34m\u001b[0m\u001b[0m\n\u001b[0;32m--> 137\u001b[0;31m             \u001b[0;32mraise\u001b[0m \u001b[0mself\u001b[0m\u001b[0;34m.\u001b[0m\u001b[0m_exception\u001b[0m\u001b[0;34m\u001b[0m\u001b[0;34m\u001b[0m\u001b[0m\n\u001b[0m\u001b[1;32m    138\u001b[0m \u001b[0;34m\u001b[0m\u001b[0m\n\u001b[1;32m    139\u001b[0m         \u001b[0;32mreturn\u001b[0m \u001b[0mself\u001b[0m\u001b[0;34m.\u001b[0m\u001b[0m_result\u001b[0m\u001b[0;34m\u001b[0m\u001b[0;34m\u001b[0m\u001b[0m\n",
      "\u001b[0;31mBadRequest\u001b[0m: 400 No matching signature for operator = for argument types: STRING, INT64. Supported signature: ANY = ANY at [5:16]\n\nLocation: europe-west2\nJob ID: abae2a0d-f2b6-4a6c-a4fc-c24a35df046f\n"
     ]
    }
   ],
   "source": [
    "dataset.build()"
   ]
  },
  {
   "cell_type": "code",
   "execution_count": null,
   "id": "24d32a6e",
   "metadata": {},
   "outputs": [],
   "source": []
  }
 ],
 "metadata": {
  "kernelspec": {
   "display_name": "FDMBuilder",
   "language": "python",
   "name": "fdmbuilder"
  },
  "language_info": {
   "codemirror_mode": {
    "name": "ipython",
    "version": 3
   },
   "file_extension": ".py",
   "mimetype": "text/x-python",
   "name": "python",
   "nbconvert_exporter": "python",
   "pygments_lexer": "ipython3",
   "version": "3.9.7"
  }
 },
 "nbformat": 4,
 "nbformat_minor": 5
}
