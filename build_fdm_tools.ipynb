{
 "cells": [
  {
   "cell_type": "code",
   "execution_count": 1,
   "id": "aff11e5b",
   "metadata": {},
   "outputs": [],
   "source": [
    "import sys\n",
    "sys.path.append(\"/home/srelins/docs/cy_fdm_builder/src\")\n",
    "from testing_helpers import *\n",
    "from FDM_builder import *"
   ]
  },
  {
   "cell_type": "markdown",
   "id": "6730fa3a",
   "metadata": {},
   "source": [
    "## Current work in progress:\n",
    "\n",
    "Date parser + tool to add dates to src tables:"
   ]
  },
  {
   "cell_type": "code",
   "execution_count": null,
   "id": "e556400b",
   "metadata": {},
   "outputs": [],
   "source": [
    "def add_uuid_to_table(full_table_id):\n",
    "    sql = f\"\"\"\n",
    "        SELECT GENERATE_UUID() AS uuid, *\n",
    "        FROM {full_table_id}\n",
    "    \"\"\"\n",
    "    run_sql_query(sql, destination=full_table_id)\n",
    "    \n",
    "    \n",
    "def parse_date(x):\n",
    "    if type(x) is datetime.datetime:\n",
    "        x = x.date\n",
    "    return parse(str(x), dayfirst=True, yearfirst=True)\n",
    "    \n",
    "    \n",
    "def get_datetime_df(date_source, full_table_id):\n",
    "    \n",
    "    table = CLIENT.get_table(full_table_id)\n",
    "    col_data = {field.name: field.field_type \n",
    "                for field in table.schema}\n",
    "    if type(date_source) == list and len(date_source) == 3:\n",
    "        cast_cols_sql = []\n",
    "        for col in date_source:\n",
    "            if col in col_data.keys() and col_data[col] == \"STRING\":\n",
    "                cast_cols_sql.append(col)\n",
    "            elif col in col_data.keys(): \n",
    "                cast_cols_sql.append(f\"CAST({col} AS STRING)\")\n",
    "            else:\n",
    "                cast_cols_sql.append(f'\"{col}\"')\n",
    "        to_concat_sql = ', \"-\", '.join(cast_cols_sql) \n",
    "        sql = f\"\"\"\n",
    "            SELECT uuid, CONCAT({to_concat_sql}) AS date\n",
    "            FROM {full_table_id}\n",
    "        \"\"\"\n",
    "    else:\n",
    "        sql = f\"\"\"\n",
    "            SELECT uuid, {date_source} AS date\n",
    "            FROM {full_table_id}\n",
    "        \"\"\"\n",
    "        \n",
    "    dates_df = pd.read_gbq(query=sql, project_id=PROJECT)\n",
    "    date_str_lens = dates_df.date.apply(len)\n",
    "    if all(date_str_lens <= 8):\n",
    "        print(\"WARNING: 2 character years are ambiguous e.g. 75 will be parsed\\n\" \n",
    "              \"as 1975 but 70 will be parsed as 2070. Consider converting year.\")\n",
    "    dates_df[\"parsed_date\"] = dates_df.date.apply(parse_date)\n",
    "    return dates_df[[\"uuid\", \"parsed_date\"]]\n",
    "            \n",
    "    \n",
    "def add_parsed_date_to_table(date_source, table_id, dataset_id):\n",
    "    \n",
    "    full_table_id = f\"{PROJECT}.{dataset_id}.{table_id}\"\n",
    "    add_uuid_to_table(full_table_id)\n",
    "    \n",
    "    dates_df = get_datetime_df(date_source, full_table_id)\n",
    "    \n",
    "    temp_dates_id = f\"{PROJECT}.{dataset_id}.tmp_dates\"\n",
    "    dates_df.to_gbq(destination_table=temp_dates_id,\n",
    "                    project_id=PROJECT,\n",
    "                    table_schema=[{\"name\":\"parsed_date\", \"type\":\"DATE\"}],\n",
    "                    if_exists=\"replace\")\n",
    "    \n",
    "    join_dates_sql = f\"\"\"\n",
    "        SELECT dates.parsed_date, src.*\n",
    "        FROM `{full_table_id}` AS src\n",
    "        LEFT JOIN {temp_dates_id} as dates\n",
    "        ON src.uuid = dates.uuid\n",
    "    \"\"\"\n",
    "    run_sql_query(join_dates_sql, destination=full_table_id)\n",
    "    \n",
    "    drop_uuid_sql = f\"\"\"\n",
    "        ALTER TABLE {full_table_id}\n",
    "        DROP COLUMN uuid\n",
    "    \"\"\"\n",
    "    run_sql_query(drop_uuid_sql)\n",
    "    \n",
    "    CLIENT.delete_table(temp_dates_id)"
   ]
  },
  {
   "cell_type": "markdown",
   "id": "f6092c96",
   "metadata": {},
   "source": [
    "## Testing:\n",
    "\n",
    "need to fix ambiguity of input format - dayfirst/yearfirst"
   ]
  },
  {
   "cell_type": "code",
   "execution_count": null,
   "id": "8f4246ae",
   "metadata": {},
   "outputs": [],
   "source": [
    "build_test_environment()"
   ]
  },
  {
   "cell_type": "code",
   "execution_count": null,
   "id": "a74f072f",
   "metadata": {
    "scrolled": false
   },
   "outputs": [],
   "source": [
    "table_1 = FDMTable(\n",
    "    source_table_full_id = f\"{PROJECT}.CY_TESTS_SRC.src_table_1\",\n",
    "    dataset_id = \"CY_TESTS_FDM\"\n",
    ")\n",
    "table_1.build()"
   ]
  },
  {
   "cell_type": "code",
   "execution_count": null,
   "id": "093ae30e",
   "metadata": {},
   "outputs": [],
   "source": [
    "table_1.add_parsed_date_to_table(\"date\")"
   ]
  },
  {
   "cell_type": "code",
   "execution_count": null,
   "id": "87a60cd8",
   "metadata": {
    "scrolled": false
   },
   "outputs": [],
   "source": [
    "table_2 = FDMTable(\n",
    "    source_table_full_id = f\"{PROJECT}.CY_TESTS_SRC.src_table_2\",\n",
    "    dataset_id = \"CY_TESTS_FDM\"\n",
    ")\n",
    "table_2.build()"
   ]
  },
  {
   "cell_type": "code",
   "execution_count": null,
   "id": "f1b3c1a1",
   "metadata": {},
   "outputs": [],
   "source": [
    "table_2.add_parsed_date_to_table([\"year\", \"month\", \"day\"])"
   ]
  },
  {
   "cell_type": "code",
   "execution_count": 3,
   "id": "b2a07a97",
   "metadata": {},
   "outputs": [
    {
     "name": "stdout",
     "output_type": "stream",
     "text": [
      "\t\t ##### BUILDING TABLE src_table_3 #####\n",
      "________________________________________________________________________________\n",
      "\n",
      "1. Copying src_table_3 to CY_TESTS_FDM\n",
      "\n",
      "\t* src_table_3 already exists in CY_TESTS_FDM.\n",
      "\n",
      "\tNOTE: Working from the existing version of src_table_3\n",
      "\tin CY_TESTS_FDM. If you wish to begin from scratch with a\n",
      "\tfresh copy, drop the existing table in CY_TESTS_FDM and run\n",
      "\t.build() again.\n",
      "\n",
      "2. Checking identifier name syntax:\n",
      "\n",
      "\t* person_id found - syntax correct\n",
      "\t* EDRN found - syntax correct\n",
      "\n",
      "3. Adding person_id column:\n",
      "\n",
      "\t* src_table_3 already contains person_id column\n",
      "\n",
      "\tNOTE: EDRN also found in src_table_3. If you\n",
      "\twish to rebuild the person_id column from EDRN, drop the existing\n",
      "\tperson_id column in src_table_3 and run .build() again\n",
      "\n",
      "________________________________________________________________________________\n",
      "\n",
      "\t ##### BUILD PROCESS FOR src_table_3 COMPLETE! #####\n",
      "\n"
     ]
    }
   ],
   "source": [
    "table_3 = FDMTable(\n",
    "    source_table_full_id = f\"{PROJECT}.CY_TESTS_SRC.src_table_3\",\n",
    "    dataset_id = \"CY_TESTS_FDM\"\n",
    ")\n",
    "table_3.build()\n",
    "table_3.add_parsed_date_to_table([\"year\", \"month\", \"1\"])"
   ]
  },
  {
   "cell_type": "code",
   "execution_count": null,
   "id": "07613f90",
   "metadata": {},
   "outputs": [],
   "source": []
  },
  {
   "cell_type": "code",
   "execution_count": 10,
   "id": "d4b18648",
   "metadata": {},
   "outputs": [
    {
     "data": {
      "text/plain": [
       "datetime.datetime(2005, 1, 10, 0, 0)"
      ]
     },
     "execution_count": 10,
     "metadata": {},
     "output_type": "execute_result"
    }
   ],
   "source": [
    "parse(\"10-1-5\", dayfirst=True)"
   ]
  },
  {
   "cell_type": "code",
   "execution_count": null,
   "id": "6cbada5d",
   "metadata": {},
   "outputs": [],
   "source": []
  }
 ],
 "metadata": {
  "kernelspec": {
   "display_name": "FDMBuilder",
   "language": "python",
   "name": "fdmbuilder"
  },
  "language_info": {
   "codemirror_mode": {
    "name": "ipython",
    "version": 3
   },
   "file_extension": ".py",
   "mimetype": "text/x-python",
   "name": "python",
   "nbconvert_exporter": "python",
   "pygments_lexer": "ipython3",
   "version": "3.9.7"
  }
 },
 "nbformat": 4,
 "nbformat_minor": 5
}
