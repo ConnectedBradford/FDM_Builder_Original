{
 "cells": [
  {
   "cell_type": "code",
   "execution_count": 1,
   "id": "aff11e5b",
   "metadata": {},
   "outputs": [
    {
     "ename": "ModuleNotFoundError",
     "evalue": "No module named 'FDM_helpers'",
     "output_type": "error",
     "traceback": [
      "\u001b[0;31m---------------------------------------------------------------------------\u001b[0m",
      "\u001b[0;31mModuleNotFoundError\u001b[0m                       Traceback (most recent call last)",
      "\u001b[0;32m/tmp/ipykernel_31130/1999147767.py\u001b[0m in \u001b[0;36m<module>\u001b[0;34m\u001b[0m\n\u001b[1;32m      1\u001b[0m \u001b[0;32mimport\u001b[0m \u001b[0msys\u001b[0m\u001b[0;34m\u001b[0m\u001b[0;34m\u001b[0m\u001b[0m\n\u001b[0;32m----> 2\u001b[0;31m \u001b[0;32mfrom\u001b[0m \u001b[0mFDMBuilder\u001b[0m\u001b[0;34m.\u001b[0m\u001b[0mFDMTable\u001b[0m \u001b[0;32mimport\u001b[0m \u001b[0mFDMTable\u001b[0m\u001b[0;34m\u001b[0m\u001b[0;34m\u001b[0m\u001b[0m\n\u001b[0m\u001b[1;32m      3\u001b[0m \u001b[0;32mfrom\u001b[0m \u001b[0mFDMTable\u001b[0m \u001b[0;32mimport\u001b[0m \u001b[0;34m*\u001b[0m\u001b[0;34m\u001b[0m\u001b[0;34m\u001b[0m\u001b[0m\n\u001b[1;32m      4\u001b[0m \u001b[0;32mfrom\u001b[0m \u001b[0mFDMDataset\u001b[0m \u001b[0;32mimport\u001b[0m \u001b[0;34m*\u001b[0m\u001b[0;34m\u001b[0m\u001b[0;34m\u001b[0m\u001b[0m\n",
      "\u001b[0;32m~/docs/cy_fdm_builder/FDMBuilder/FDMTable.py\u001b[0m in \u001b[0;36m<module>\u001b[0;34m\u001b[0m\n\u001b[1;32m      2\u001b[0m \u001b[0;32mimport\u001b[0m \u001b[0mdatetime\u001b[0m\u001b[0;34m\u001b[0m\u001b[0;34m\u001b[0m\u001b[0m\n\u001b[1;32m      3\u001b[0m \u001b[0;32mfrom\u001b[0m \u001b[0mdateutil\u001b[0m\u001b[0;34m.\u001b[0m\u001b[0mparser\u001b[0m \u001b[0;32mimport\u001b[0m \u001b[0mparse\u001b[0m\u001b[0;34m\u001b[0m\u001b[0;34m\u001b[0m\u001b[0m\n\u001b[0;32m----> 4\u001b[0;31m \u001b[0;32mfrom\u001b[0m \u001b[0mFDM_helpers\u001b[0m \u001b[0;32mimport\u001b[0m \u001b[0;34m*\u001b[0m\u001b[0;34m\u001b[0m\u001b[0;34m\u001b[0m\u001b[0m\n\u001b[0m\u001b[1;32m      5\u001b[0m \u001b[0;32mfrom\u001b[0m \u001b[0mgoogle\u001b[0m\u001b[0;34m.\u001b[0m\u001b[0mcloud\u001b[0m \u001b[0;32mimport\u001b[0m \u001b[0mbigquery\u001b[0m\u001b[0;34m\u001b[0m\u001b[0;34m\u001b[0m\u001b[0m\n\u001b[1;32m      6\u001b[0m \u001b[0;32mfrom\u001b[0m \u001b[0mgoogle\u001b[0m\u001b[0;34m.\u001b[0m\u001b[0mcloud\u001b[0m\u001b[0;34m.\u001b[0m\u001b[0mexceptions\u001b[0m \u001b[0;32mimport\u001b[0m \u001b[0mNotFound\u001b[0m\u001b[0;34m\u001b[0m\u001b[0;34m\u001b[0m\u001b[0m\n",
      "\u001b[0;31mModuleNotFoundError\u001b[0m: No module named 'FDM_helpers'"
     ]
    }
   ],
   "source": [
    "import sys\n",
    "from FDMBuilder.FDMTable import FDMTable\n",
    "from FDMTable import *\n",
    "from FDMDataset import *"
   ]
  },
  {
   "cell_type": "markdown",
   "id": "3d875da7",
   "metadata": {},
   "source": [
    "## TO DO:\n",
    "\n",
    "* PRIORITY: Work our what happens if you re-run .build() on a dataset\n",
    "* re-running .build() needs \"outside_obs\" tables to be added back to src tables - TEST THIS\n",
    "\n",
    "\n",
    "* THEN: build FDM datasets from just dataset_id:\n",
    "    + summarise tables in dataset init i.e. which are ready for FDM build, which arent, any FDM tables that will be overwritten, any src tables that will be re-combined\n",
    "    * think about \"verbose\" functionality of FDMTables - silence init-messages (not required anyways as tables will be initialised from tables in FDM dataset) - \"check_build\" function\n",
    "    \n",
    "    \n",
    "* add check and warning for Null datetimes when adding start/end dates\n",
    "* add .drop() method to table\n",
    "* raw input functionality - copying src tables? overwriting existing tables?\n",
    "* build data dict function\n",
    "* ask about requirement to have a raw version of FDM_tables at all times? - read only source?"
   ]
  },
  {
   "cell_type": "markdown",
   "id": "1dc6928e",
   "metadata": {},
   "source": [
    "## Testing:"
   ]
  },
  {
   "cell_type": "code",
   "execution_count": null,
   "id": "cddccd52",
   "metadata": {
    "scrolled": false
   },
   "outputs": [],
   "source": [
    "build_test_environment()"
   ]
  },
  {
   "cell_type": "code",
   "execution_count": null,
   "id": "4aae11f9",
   "metadata": {
    "scrolled": false
   },
   "outputs": [],
   "source": [
    "table_1 = FDMTable(\n",
    "    source_table_full_id=f\"{PROJECT}.CY_TESTS_SRC.src_table_1\",\n",
    "    dataset_id=\"CY_TESTS_FDM\"\n",
    ")"
   ]
  },
  {
   "cell_type": "code",
   "execution_count": null,
   "id": "f05a4b8a",
   "metadata": {},
   "outputs": [],
   "source": [
    "table_1.quick_build(event_start_date_cols=\"start_date\",\n",
    "                     event_start_date_format=\"YMD\",\n",
    "                     event_end_date_cols=\"end_date\",\n",
    "                     event_end_date_format=\"YMD\")"
   ]
  },
  {
   "cell_type": "code",
   "execution_count": null,
   "id": "95d5ed96",
   "metadata": {},
   "outputs": [],
   "source": [
    "table_2 = FDMTable(\n",
    "    source_table_full_id = f\"{PROJECT}.CY_TESTS_SRC.src_table_2\",\n",
    "    dataset_id = \"CY_TESTS_FDM\" \n",
    ")"
   ]
  },
  {
   "cell_type": "code",
   "execution_count": null,
   "id": "fe79388e",
   "metadata": {},
   "outputs": [],
   "source": [
    "table_2.quick_build(\n",
    "    event_start_date_cols=[\"start_year\", \"start_month\", \"start_day\"], \n",
    "    event_start_date_format=\"YMD\", \n",
    "    event_end_date_cols=[\"end_year\", \"end_month\", \"end_day\"], \n",
    "    event_end_date_format=\"YMD\"\n",
    ")"
   ]
  },
  {
   "cell_type": "code",
   "execution_count": null,
   "id": "d9afa396",
   "metadata": {},
   "outputs": [],
   "source": [
    "table_3 = FDMTable(\n",
    "    source_table_full_id=f\"{PROJECT}.CY_TESTS_SRC.src_table_3\",\n",
    "    dataset_id=\"CY_TESTS_FDM\"\n",
    ")"
   ]
  },
  {
   "cell_type": "code",
   "execution_count": null,
   "id": "c6821746",
   "metadata": {},
   "outputs": [],
   "source": [
    "table_3.quick_build(\n",
    "    event_start_date_cols=[\"year\", \"month\", \"15\"], \n",
    "    event_start_date_format=\"YMD\", \n",
    ")"
   ]
  },
  {
   "cell_type": "code",
   "execution_count": null,
   "id": "626a45b4",
   "metadata": {},
   "outputs": [],
   "source": [
    "table_4 = FDMTable(\n",
    "    source_table_full_id=f\"{PROJECT}.CY_TESTS_SRC.src_table_4\",\n",
    "    dataset_id=\"CY_TESTS_FDM\"\n",
    ")"
   ]
  },
  {
   "cell_type": "code",
   "execution_count": null,
   "id": "520b5714",
   "metadata": {},
   "outputs": [],
   "source": [
    "table_4.quick_build(\n",
    "    event_start_date_cols=\"start_date_string\",\n",
    "    event_start_date_format=\"MDY\", \n",
    "    event_end_date_cols=\"end_date_string\",\n",
    "    event_end_date_format=\"DMY\"\n",
    ")"
   ]
  },
  {
   "cell_type": "code",
   "execution_count": null,
   "id": "a56783b7",
   "metadata": {},
   "outputs": [],
   "source": [
    "table_5 = FDMTable(\n",
    "    source_table_full_id=f\"{PROJECT}.CY_TESTS_SRC.src_table_5\",\n",
    "    dataset_id=\"CY_TESTS_FDM\"\n",
    ")"
   ]
  },
  {
   "cell_type": "code",
   "execution_count": null,
   "id": "a2b5ce40",
   "metadata": {},
   "outputs": [],
   "source": [
    "table_5.copy_table_to_dataset()"
   ]
  },
  {
   "cell_type": "code",
   "execution_count": null,
   "id": "1b3b1288",
   "metadata": {},
   "outputs": [],
   "source": [
    "table_5.head()"
   ]
  },
  {
   "cell_type": "code",
   "execution_count": null,
   "id": "c4dee416",
   "metadata": {},
   "outputs": [],
   "source": [
    "table_5.add_column(\"SPLIT(date_string, '-')[OFFSET(0)] AS year\")\n",
    "table_5.add_column(\"SPLIT(date_string, '-')[OFFSET(1)] AS month\")\n",
    "table_5.head()"
   ]
  },
  {
   "cell_type": "code",
   "execution_count": null,
   "id": "19f87d14",
   "metadata": {},
   "outputs": [],
   "source": [
    "table_5.quick_build(\n",
    "    event_start_date_cols=[\"year\", \"month\", \"15\"],\n",
    "    event_start_date_format=\"YMD\", \n",
    ")"
   ]
  },
  {
   "cell_type": "code",
   "execution_count": null,
   "id": "2856f178",
   "metadata": {},
   "outputs": [],
   "source": [
    "table_6 = FDMTable(\n",
    "    source_table_full_id=f\"{PROJECT}.CY_TESTS_SRC.src_table_6\",\n",
    "    dataset_id=\"CY_TESTS_FDM\"\n",
    ")"
   ]
  },
  {
   "cell_type": "code",
   "execution_count": null,
   "id": "abf0c113",
   "metadata": {},
   "outputs": [],
   "source": [
    "table_6.copy_table_to_dataset()"
   ]
  },
  {
   "cell_type": "code",
   "execution_count": null,
   "id": "778fd906",
   "metadata": {},
   "outputs": [],
   "source": [
    "table_6.head()"
   ]
  },
  {
   "cell_type": "code",
   "execution_count": null,
   "id": "01a67ab1",
   "metadata": {},
   "outputs": [],
   "source": [
    "table_6.quick_build(\n",
    "    event_start_date_cols=\"date_string\",\n",
    "    event_start_date_format=\"DMY\",\n",
    ")"
   ]
  },
  {
   "cell_type": "code",
   "execution_count": null,
   "id": "77774130",
   "metadata": {},
   "outputs": [],
   "source": [
    "dataset = FDMDataset(\n",
    "    dataset_id = \"CY_TESTS_FDM\"\n",
    ")"
   ]
  },
  {
   "cell_type": "code",
   "execution_count": null,
   "id": "a6618098",
   "metadata": {},
   "outputs": [],
   "source": [
    "dataset.build()"
   ]
  },
  {
   "cell_type": "code",
   "execution_count": null,
   "id": "9bb28222",
   "metadata": {},
   "outputs": [],
   "source": [
    "blah = \"got_money_mo_problems\"\n",
    "blah[:-9]"
   ]
  },
  {
   "cell_type": "code",
   "execution_count": null,
   "id": "e9701628",
   "metadata": {},
   "outputs": [],
   "source": []
  }
 ],
 "metadata": {
  "kernelspec": {
   "display_name": "FDMBuilder",
   "language": "python",
   "name": "fdmbuilder"
  },
  "language_info": {
   "codemirror_mode": {
    "name": "ipython",
    "version": 3
   },
   "file_extension": ".py",
   "mimetype": "text/x-python",
   "name": "python",
   "nbconvert_exporter": "python",
   "pygments_lexer": "ipython3",
   "version": "3.9.7"
  }
 },
 "nbformat": 4,
 "nbformat_minor": 5
}
