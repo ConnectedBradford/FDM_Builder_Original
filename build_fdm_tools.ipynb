{
 "cells": [
  {
   "cell_type": "code",
   "execution_count": 1,
   "id": "aff11e5b",
   "metadata": {},
   "outputs": [],
   "source": [
    "import sys\n",
    "sys.path.append(\"/home/srelins/docs/cy_fdm_builder/src\")\n",
    "from testing_helpers import *\n",
    "from FDMTable import *\n",
    "from FDMDataset import *"
   ]
  },
  {
   "cell_type": "markdown",
   "id": "3d875da7",
   "metadata": {},
   "source": [
    "## TO DO:\n",
    "\n",
    "* PRIORITY: TEST observation_period table!!\n",
    "- in particular, work our what happens if you re-run .build() on a dataset\n",
    "\n",
    "\n",
    "* split table and dataset objects into two sparate source files\n",
    "* start process with dataset - add guidance messages for dataset creation\n",
    "i.e. dataset empty, build FDMTables -- or -- dataset contain XXXXX etc...\n",
    "* run dataset build over whole dataset by default - add options to specify table_ids/FDMTable objects\n",
    "* will need to add \"verbose\" functionality to FDMTables or the console print statements will be fucking epic\n",
    "* add .drop() method to table\n"
   ]
  },
  {
   "cell_type": "markdown",
   "id": "1dc6928e",
   "metadata": {},
   "source": [
    "## Testing:"
   ]
  },
  {
   "cell_type": "code",
   "execution_count": null,
   "id": "cddccd52",
   "metadata": {
    "scrolled": false
   },
   "outputs": [],
   "source": [
    "build_test_environment()"
   ]
  },
  {
   "cell_type": "code",
   "execution_count": 2,
   "id": "b30f4beb",
   "metadata": {
    "scrolled": false
   },
   "outputs": [
    {
     "name": "stdout",
     "output_type": "stream",
     "text": [
      "\t ##### Initialising FDM Table - src_table_1 #####\n",
      "________________________________________________________________________________\n",
      "\n",
      "\t* src_table_1 already exists in CY_TESTS_FDM.\n",
      "\n",
      "\tNOTE: Working from the existing version of src_table_1\n",
      "\tin CY_TESTS_FDM. If you wish to begin from scratch with a\n",
      "\tfresh copy, drop the existing table in CY_TESTS_FDM and run\n",
      "\t.build() again.\n",
      "\n"
     ]
    }
   ],
   "source": [
    "table_1 = FDMTable(\n",
    "    source_table_full_id=f\"{PROJECT}.CY_TESTS_SRC.src_table_1\",\n",
    "    dataset_id=\"CY_TESTS_FDM\"\n",
    ")"
   ]
  },
  {
   "cell_type": "code",
   "execution_count": null,
   "id": "c1b2647b",
   "metadata": {},
   "outputs": [],
   "source": [
    "table_1.build(event_start_date_cols=\"date\")"
   ]
  },
  {
   "cell_type": "code",
   "execution_count": null,
   "id": "08136a9d",
   "metadata": {},
   "outputs": [],
   "source": [
    "table_3 = FDMTable(\n",
    "    source_table_full_id=f\"{PROJECT}.CY_TESTS_SRC.src_table_3\",\n",
    "    dataset_id=\"CY_TESTS_FDM\"\n",
    ")\n",
    "table_3.build()"
   ]
  },
  {
   "cell_type": "code",
   "execution_count": null,
   "id": "25dedd60",
   "metadata": {},
   "outputs": [],
   "source": [
    "table_3.get_column_names()"
   ]
  },
  {
   "cell_type": "code",
   "execution_count": null,
   "id": "3c245432",
   "metadata": {},
   "outputs": [],
   "source": [
    "table_3.build(event_start_date_cols=[\"year\", \"month\", \"15\"])"
   ]
  },
  {
   "cell_type": "code",
   "execution_count": null,
   "id": "a2e95ae2",
   "metadata": {},
   "outputs": [],
   "source": [
    "table_5 = FDMTable(\n",
    "    source_table_full_id = f\"{PROJECT}.CY_TESTS_SRC.src_table_5\",\n",
    "    dataset_id = \"CY_TESTS_FDM\"\n",
    ")\n",
    "table_5.build()"
   ]
  },
  {
   "cell_type": "code",
   "execution_count": null,
   "id": "95fc6c43",
   "metadata": {},
   "outputs": [],
   "source": [
    "table_5.head()"
   ]
  },
  {
   "cell_type": "code",
   "execution_count": null,
   "id": "67b88b84",
   "metadata": {},
   "outputs": [],
   "source": [
    "table_5.add_column('SPLIT(date_string, \"-\")[OFFSET(0)] AS Month')\n",
    "table_5.head()"
   ]
  },
  {
   "cell_type": "code",
   "execution_count": null,
   "id": "a71fdc2b",
   "metadata": {},
   "outputs": [],
   "source": [
    "table_5.add_column('SPLIT(date_string, \"-\")[OFFSET(1)] AS Year')\n",
    "table_5.head()"
   ]
  },
  {
   "cell_type": "code",
   "execution_count": null,
   "id": "ce7f54ae",
   "metadata": {},
   "outputs": [],
   "source": [
    "table_5.drop_column(\"date_string\")"
   ]
  },
  {
   "cell_type": "code",
   "execution_count": null,
   "id": "8aaec126",
   "metadata": {},
   "outputs": [],
   "source": [
    "table_5.head()"
   ]
  },
  {
   "cell_type": "code",
   "execution_count": null,
   "id": "3f67b963",
   "metadata": {},
   "outputs": [],
   "source": [
    "table_5.build(event_start_date_cols = [\"15\", \"Month\", \"Year\"], event_start_date_format=\"DMY\", \n",
    "              event_end_date_cols = [\"15\", \"Month\", \"Year\"], event_end_date_format=\"DMY\")"
   ]
  },
  {
   "cell_type": "code",
   "execution_count": 3,
   "id": "630c1ecf",
   "metadata": {},
   "outputs": [],
   "source": [
    "dataset = FDMDataset(dataset_id=\"CY_TESTS_FDM\", fdm_tables=[table_1])"
   ]
  },
  {
   "cell_type": "code",
   "execution_count": 4,
   "id": "d99616b2",
   "metadata": {
    "scrolled": false
   },
   "outputs": [
    {
     "name": "stdout",
     "output_type": "stream",
     "text": [
      "\t\t ##### BUILDING FDM DATASET CY_TESTS_FDM #####\n",
      "________________________________________________________________________________\n",
      "\n",
      "1. Checking source input tables:\n",
      "\n",
      "\t* src_table_1 - OK\n",
      "\n",
      "2. Building person table:\n",
      "\n",
      "\t* Joining data from master person table\n",
      "\t* Person table built!\n",
      "\n",
      "3. Building table of individuals with no person_id\n",
      "\n",
      "\t* all entries have a person_id\n",
      "4. Building person_ids missing from master table\n",
      "\n",
      "\t* person_ids_missing_from_master created with 5 entries\n",
      "\n",
      "5. Building initial observation_period table\n",
      "\n",
      "\t* observation_period table built\n",
      "\n",
      "6. Removing entries outside observation period\n",
      "\n",
      "\t* entries outside observation period removed from src_table_1\n",
      "\t  and stored in src_table_1_outside_obs\n",
      "\n",
      "7. Rebuilding person table:\n",
      "\n",
      "\t* Joining data from master person table\n",
      "\t* Person table built!\n",
      "\n",
      "8. Rebuilding observation_period table\n",
      "\n",
      "\t* observation_period table built\n",
      "\n",
      "________________________________________________________________________________\n",
      "\n",
      "\t ##### BUILD PROCESS FOR CY_TESTS_FDM COMPLETE! #####\n",
      "\n"
     ]
    }
   ],
   "source": [
    "dataset.build()"
   ]
  }
 ],
 "metadata": {
  "kernelspec": {
   "display_name": "FDMBuilder",
   "language": "python",
   "name": "fdmbuilder"
  },
  "language_info": {
   "codemirror_mode": {
    "name": "ipython",
    "version": 3
   },
   "file_extension": ".py",
   "mimetype": "text/x-python",
   "name": "python",
   "nbconvert_exporter": "python",
   "pygments_lexer": "ipython3",
   "version": "3.9.7"
  }
 },
 "nbformat": 4,
 "nbformat_minor": 5
}
