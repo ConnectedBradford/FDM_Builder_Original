{
 "cells": [
  {
   "cell_type": "code",
   "execution_count": 3,
   "id": "aff11e5b",
   "metadata": {},
   "outputs": [],
   "source": [
    "import sys\n",
    "from FDMBuilder.FDMTable import *\n",
    "from FDMBuilder.FDMDataset import *\n",
    "from FDMBuilder.testing_helpers import *"
   ]
  },
  {
   "cell_type": "markdown",
   "id": "3d875da7",
   "metadata": {},
   "source": [
    "## TO DO:\n",
    "\n",
    "* PRIORITY: Work our what happens if you re-run .build() on a dataset\n",
    "* re-running .build() needs \"outside_obs\" tables to be added back to src tables - TEST THIS\n",
    "\n",
    "\n",
    "* THEN: build FDM datasets from just dataset_id:\n",
    "    + summarise tables in dataset init i.e. which are ready for FDM build, which arent, any FDM tables that will be overwritten, any src tables that will be re-combined\n",
    "    * think about \"verbose\" functionality of FDMTables - silence init-messages (not required anyways as tables will be initialised from tables in FDM dataset) - \"check_build\" function\n",
    "    \n",
    "    \n",
    "* add check and warning for Null datetimes when adding start/end dates\n",
    "* add .drop() method to table\n",
    "* raw input functionality - copying src tables? overwriting existing tables?\n",
    "* build data dict function\n",
    "* ask about requirement to have a raw version of FDM_tables at all times? - read only source?"
   ]
  },
  {
   "cell_type": "markdown",
   "id": "1dc6928e",
   "metadata": {},
   "source": [
    "## Testing:"
   ]
  },
  {
   "cell_type": "code",
   "execution_count": null,
   "id": "cddccd52",
   "metadata": {
    "scrolled": false
   },
   "outputs": [],
   "source": [
    "build_test_environment()"
   ]
  },
  {
   "cell_type": "code",
   "execution_count": 4,
   "id": "4aae11f9",
   "metadata": {
    "scrolled": false
   },
   "outputs": [],
   "source": [
    "table_1 = FDMTable(\n",
    "    source_table_full_id=f\"{PROJECT}.CY_TESTS_SRC.src_table_1\",\n",
    "    dataset_id=\"CY_TESTS_FDM\"\n",
    ")"
   ]
  },
  {
   "cell_type": "code",
   "execution_count": 5,
   "id": "87a1bef0",
   "metadata": {},
   "outputs": [
    {
     "name": "stdout",
     "output_type": "stream",
     "text": [
      "\t ##### BUILDING FDM TABLE COMPONENTS FOR src_table_1 #####\n",
      "________________________________________________________________________________\n",
      "\n",
      "1. Copying src_table_1 to CY_TESTS_FDM:\n",
      "\n",
      "    Table src_table_1 copied to CY_TESTS_FDM!\n",
      "\n",
      "2. Adding person_id column:\n",
      "    src_table_1 already contains person_id column\n",
      "\n",
      "3. Adding event_start_date column:\n",
      "\n",
      "    An event start date is required to build the observation_period table. This \n",
      "    information should be contained within one or more columns of your table. \n",
      "    If unsure a quick look at the table data in BigQuery should clarify.\n",
      "    \n",
      "    To start, is the event start data found in one column that can be easily \n",
      "    parsed with a day, month and year?\n",
      "    > Type y or n y\n",
      "\n",
      "    Which column contains the event start date?\n",
      "    > Type the name (case sensitive): start_date\n",
      "\n",
      "    What format does the date appear in YMD/YDM/DMY/MDY?\n",
      "    > Type one: YMD\n",
      "    event_start_date column added\n",
      "\n",
      "4. Adding event_end_date column:\n",
      "\n",
      "    An event end date may or may not be relevant to this source data. For example, \n",
      "    hospital visits or academic school years have an end date as well as a start \n",
      "    date.\n",
      "\n",
      "    If you're unsure weather or not the source data should include an event end \n",
      "    date, seek help from the CYP data team.\"\n",
      "\n",
      "    Does this data have an event end date?\"\n",
      "    > Type y or n: y\n",
      "\n",
      "    The process will now proceed in exactly the same way as with the event start \n",
      "    date. Refer to the guidance above if at all unsure about the responses to any\n",
      "    of the following questions.\n",
      "\n",
      "    Is the event end data found in one column that can be easily parsed with a \n",
      "    day, month and year?\n",
      "    > Type y or n: y\n",
      "\n",
      "    Which column contains the event end date.\n",
      "    > Type the name (case sensitive): end_date\n",
      "\n",
      "    What format does the date appear in? YMD/YDM/DMY/MDY\n",
      "    > type one: YMD\n",
      "    event_end_date column added\n",
      "________________________________________________________________________________\n",
      "\n",
      "\t ##### BUILD PROCESS FOR src_table_1 COMPLETE! #####\n",
      "\n"
     ]
    }
   ],
   "source": [
    "table_1.build()"
   ]
  },
  {
   "cell_type": "code",
   "execution_count": null,
   "id": "f05a4b8a",
   "metadata": {},
   "outputs": [],
   "source": [
    "table_1.quick_build(event_start_date_cols=\"start_date\",\n",
    "                     event_start_date_format=\"YMD\",\n",
    "                     event_end_date_cols=\"end_date\",\n",
    "                     event_end_date_format=\"YMD\")"
   ]
  },
  {
   "cell_type": "code",
   "execution_count": 6,
   "id": "95d5ed96",
   "metadata": {},
   "outputs": [],
   "source": [
    "table_2 = FDMTable(\n",
    "    source_table_full_id = f\"{PROJECT}.CY_TESTS_SRC.src_table_2\",\n",
    "    dataset_id = \"CY_TESTS_FDM\" \n",
    ")"
   ]
  },
  {
   "cell_type": "code",
   "execution_count": 8,
   "id": "03602b9a",
   "metadata": {},
   "outputs": [
    {
     "name": "stdout",
     "output_type": "stream",
     "text": [
      "\t ##### BUILDING FDM TABLE COMPONENTS FOR src_table_2 #####\n",
      "________________________________________________________________________________\n",
      "\n",
      "1. Copying src_table_2 to CY_TESTS_FDM:\n",
      "\n",
      "    A copy of src_table_2 already exists in CY_TESTS_FDM. \n",
      "    You can continue with the existing src_table_2 table in CY_TESTS_FDM\n",
      "    or make a fresh copy from the source dataset.\"   \n",
      "    \n",
      "    Continue with existing copy?\n",
      "    > Type y or n: n\n",
      "\n",
      "    Table src_table_2 copied to CY_TESTS_FDM!\n",
      "\n",
      "2. Adding person_id column:\n",
      "    person_id column added\n",
      "\n",
      "3. Adding event_start_date column:\n",
      "\n",
      "    An event start date is required to build the observation_period table. This \n",
      "    information should be contained within one or more columns of your table. \n",
      "    If unsure a quick look at the table data in BigQuery should clarify.\n",
      "    \n",
      "    To start, is the event start data found in one column that can be easily \n",
      "    parsed with a day, month and year?\n",
      "    > Type y or n n\n",
      "\n",
      "    We'll build the event start date beginning with the year. Where can the\n",
      "    year information be found?\n",
      "\n",
      "    Your response can be the name of a column that contains the year (year only,\n",
      "    other formats can't be parsed) or a static value (e.g. 2022).\n",
      "\n",
      "    If the year information isn't contained in one column, type quit as your \n",
      "    response, add a column with the year information and then re-run .build(). \n",
      "    You may find the .add_column() method useful for this.\n",
      "\n",
      "    > Response: start_year\n",
      "\n",
      "    And now we'll move onto the month. The same guidance as above applies.\n",
      "    Remebmer, a static value like 02, or Feb, or February is acceptable.\n",
      "\n",
      "    Where can the event start month be found?\n",
      "    > Response:  start_month\n",
      "\n",
      "    And then day. Again a static day like 15 is fine.\n",
      "    \n",
      "    Where can the event start day be found?\n",
      "    > Response: start_day\n",
      "\n",
      "    adding event_start_date_column...\n",
      "    event_start_date column added\n",
      "\n",
      "4. Adding event_end_date column:\n",
      "\n",
      "    An event end date may or may not be relevant to this source data. For example, \n",
      "    hospital visits or academic school years have an end date as well as a start \n",
      "    date.\n",
      "\n",
      "    If you're unsure weather or not the source data should include an event end \n",
      "    date, seek help from the CYP data team.\"\n",
      "\n",
      "    Does this data have an event end date?\"\n",
      "    > Type y or n: n\n",
      "________________________________________________________________________________\n",
      "\n",
      "\t ##### BUILD PROCESS FOR src_table_2 COMPLETE! #####\n",
      "\n"
     ]
    }
   ],
   "source": [
    "table_2.build()"
   ]
  },
  {
   "cell_type": "code",
   "execution_count": null,
   "id": "fe79388e",
   "metadata": {},
   "outputs": [],
   "source": [
    "table_2.quick_build(\n",
    "    event_start_date_cols=[\"start_year\", \"start_month\", \"start_day\"], \n",
    "    event_start_date_format=\"YMD\", \n",
    "    event_end_date_cols=[\"end_year\", \"end_month\", \"end_day\"], \n",
    "    event_end_date_format=\"YMD\"\n",
    ")"
   ]
  },
  {
   "cell_type": "code",
   "execution_count": null,
   "id": "d9afa396",
   "metadata": {},
   "outputs": [],
   "source": [
    "table_3 = FDMTable(\n",
    "    source_table_full_id=f\"{PROJECT}.CY_TESTS_SRC.src_table_3\",\n",
    "    dataset_id=\"CY_TESTS_FDM\"\n",
    ")"
   ]
  },
  {
   "cell_type": "code",
   "execution_count": null,
   "id": "c6821746",
   "metadata": {},
   "outputs": [],
   "source": [
    "table_3.quick_build(\n",
    "    event_start_date_cols=[\"year\", \"month\", \"15\"], \n",
    "    event_start_date_format=\"YMD\", \n",
    ")"
   ]
  },
  {
   "cell_type": "code",
   "execution_count": 9,
   "id": "626a45b4",
   "metadata": {},
   "outputs": [],
   "source": [
    "table_4 = FDMTable(\n",
    "    source_table_full_id=f\"{PROJECT}.CY_TESTS_SRC.src_table_4\",\n",
    "    dataset_id=\"CY_TESTS_FDM\"\n",
    ")"
   ]
  },
  {
   "cell_type": "code",
   "execution_count": 10,
   "id": "4a3c109a",
   "metadata": {},
   "outputs": [
    {
     "name": "stdout",
     "output_type": "stream",
     "text": [
      "\t ##### BUILDING FDM TABLE COMPONENTS FOR src_table_4 #####\n",
      "________________________________________________________________________________\n",
      "\n",
      "1. Copying src_table_4 to CY_TESTS_FDM:\n",
      "\n",
      "    Table src_table_4 copied to CY_TESTS_FDM!\n",
      "\n",
      "2. Adding person_id column:\n",
      "    src_table_4 already contains person_id column\n",
      "\n",
      "3. Adding event_start_date column:\n",
      "\n",
      "    An event start date is required to build the observation_period table. This \n",
      "    information should be contained within one or more columns of your table. \n",
      "    If unsure a quick look at the table data in BigQuery should clarify.\n",
      "    \n",
      "    To start, is the event start data found in one column that can be easily \n",
      "    parsed with a day, month and year?\n",
      "    > Type y or n y\n",
      "\n",
      "    Which column contains the event start date?\n",
      "    > Type the name (case sensitive): start_date_string\n",
      "\n",
      "    What format does the date appear in YMD/YDM/DMY/MDY?\n",
      "    > Type one: DMY\n",
      "\n",
      "    WARNING: 2 character years are ambiguous e.g. 75 will be parsed as 1975 but \n",
      "    70 will be parsed as 2070. Consider converting year.\n",
      "                \n",
      "    event_start_date column added\n",
      "\n",
      "4. Adding event_end_date column:\n",
      "\n",
      "    An event end date may or may not be relevant to this source data. For example, \n",
      "    hospital visits or academic school years have an end date as well as a start \n",
      "    date.\n",
      "\n",
      "    If you're unsure weather or not the source data should include an event end \n",
      "    date, seek help from the CYP data team.\"\n",
      "\n",
      "    Does this data have an event end date?\"\n",
      "    > Type y or n: n\n",
      "________________________________________________________________________________\n",
      "\n",
      "\t ##### BUILD PROCESS FOR src_table_4 COMPLETE! #####\n",
      "\n"
     ]
    }
   ],
   "source": [
    "table_4.build()"
   ]
  },
  {
   "cell_type": "code",
   "execution_count": null,
   "id": "520b5714",
   "metadata": {},
   "outputs": [],
   "source": [
    "table_4.quick_build(\n",
    "    event_start_date_cols=\"start_date_string\",\n",
    "    event_start_date_format=\"MDY\", \n",
    "    event_end_date_cols=\"end_date_string\",\n",
    "    event_end_date_format=\"DMY\"\n",
    ")"
   ]
  },
  {
   "cell_type": "code",
   "execution_count": 11,
   "id": "a56783b7",
   "metadata": {},
   "outputs": [],
   "source": [
    "table_5 = FDMTable(\n",
    "    source_table_full_id=f\"{PROJECT}.CY_TESTS_SRC.src_table_5\",\n",
    "    dataset_id=\"CY_TESTS_FDM\"\n",
    ")"
   ]
  },
  {
   "cell_type": "code",
   "execution_count": null,
   "id": "a2b5ce40",
   "metadata": {},
   "outputs": [],
   "source": [
    "table_5.copy_table_to_dataset()"
   ]
  },
  {
   "cell_type": "code",
   "execution_count": 16,
   "id": "1b3b1288",
   "metadata": {},
   "outputs": [
    {
     "name": "stdout",
     "output_type": "stream",
     "text": [
      "\t ##### BUILDING FDM TABLE COMPONENTS FOR src_table_5 #####\n",
      "________________________________________________________________________________\n",
      "\n",
      "1. Copying src_table_5 to CY_TESTS_FDM:\n",
      "\n",
      "    A copy of src_table_5 already exists in CY_TESTS_FDM. \n",
      "    You can continue with the existing src_table_5 table in CY_TESTS_FDM\n",
      "    or make a fresh copy from the source dataset.\"   \n",
      "    \n",
      "    Continue with existing copy?\n",
      "    > Type y or n: y\n",
      "\n",
      "    Continuing with existing copy of src_table_5\n",
      "\n",
      "2. Adding person_id column:\n",
      "    src_table_5 already contains person_id column\n",
      "\n",
      "3. Adding event_start_date column:\n",
      "\n",
      "    An event start date is required to build the observation_period table. This \n",
      "    information should be contained within one or more columns of your table. \n",
      "    If unsure a quick look at the table data in BigQuery should clarify.\n",
      "    \n",
      "    To start, is the event start data found in one column that can be easily \n",
      "    parsed with a day, month and year?\n",
      "    > Type y or n n\n",
      "\n",
      "    We'll build the event start date beginning with the year. Where can the\n",
      "    year information be found?\n",
      "\n",
      "    Your response can be the name of a column that contains the year (year only,\n",
      "    other formats can't be parsed) or a static value (e.g. 2022).\n",
      "\n",
      "    If the year information isn't contained in one column, type quit as your \n",
      "    response, add a column with the year information and then re-run .build(). \n",
      "    You may find the .add_column() method useful for this.\n",
      "\n",
      "    > Response: year\n",
      "\n",
      "    And now we'll move onto the month. The same guidance as above applies.\n",
      "    Remebmer, a static value like 02, or Feb, or February is acceptable.\n",
      "\n",
      "    Where can the event start month be found?\n",
      "    > Response:  month\n",
      "\n",
      "    And then day. Again a static day like 15 is fine.\n",
      "    \n",
      "    Where can the event start day be found?\n",
      "    > Response: 15\n",
      "\n",
      "    adding event_start_date_column...\n",
      "    event_start_date column added\n",
      "\n",
      "4. Adding event_end_date column:\n",
      "\n",
      "    An event end date may or may not be relevant to this source data. For example, \n",
      "    hospital visits or academic school years have an end date as well as a start \n",
      "    date.\n",
      "\n",
      "    If you're unsure weather or not the source data should include an event end \n",
      "    date, seek help from the CYP data team.\"\n",
      "\n",
      "    Does this data have an event end date?\"\n",
      "    > Type y or n: n\n",
      "________________________________________________________________________________\n",
      "\n",
      "\t ##### BUILD PROCESS FOR src_table_5 COMPLETE! #####\n",
      "\n"
     ]
    }
   ],
   "source": [
    "table_5.build()"
   ]
  },
  {
   "cell_type": "code",
   "execution_count": 14,
   "id": "a7fddf5c",
   "metadata": {},
   "outputs": [],
   "source": [
    "table_5.add_column(\"SPLIT(date_string, '-')[OFFSET(1)] AS year\")"
   ]
  },
  {
   "cell_type": "code",
   "execution_count": 15,
   "id": "93a531e0",
   "metadata": {},
   "outputs": [],
   "source": [
    "table_5.add_column(\"SPLIT(date_string, '-')[OFFSET(0)] AS month\")"
   ]
  },
  {
   "cell_type": "code",
   "execution_count": null,
   "id": "c4dee416",
   "metadata": {},
   "outputs": [],
   "source": [
    "table_5.add_column(\"SPLIT(date_string, '-')[OFFSET(0)] AS year\")\n",
    "table_5.add_column(\"SPLIT(date_string, '-')[OFFSET(1)] AS month\")\n",
    "table_5.head()"
   ]
  },
  {
   "cell_type": "code",
   "execution_count": null,
   "id": "19f87d14",
   "metadata": {},
   "outputs": [],
   "source": [
    "table_5.quick_build(\n",
    "    event_start_date_cols=[\"year\", \"month\", \"15\"],\n",
    "    event_start_date_format=\"YMD\", \n",
    ")"
   ]
  },
  {
   "cell_type": "code",
   "execution_count": null,
   "id": "2856f178",
   "metadata": {},
   "outputs": [],
   "source": [
    "table_6 = FDMTable(\n",
    "    source_table_full_id=f\"{PROJECT}.CY_TESTS_SRC.src_table_6\",\n",
    "    dataset_id=\"CY_TESTS_FDM\"\n",
    ")"
   ]
  },
  {
   "cell_type": "code",
   "execution_count": null,
   "id": "abf0c113",
   "metadata": {},
   "outputs": [],
   "source": [
    "table_6.copy_table_to_dataset()"
   ]
  },
  {
   "cell_type": "code",
   "execution_count": null,
   "id": "778fd906",
   "metadata": {},
   "outputs": [],
   "source": [
    "table_6.head()"
   ]
  },
  {
   "cell_type": "code",
   "execution_count": null,
   "id": "01a67ab1",
   "metadata": {},
   "outputs": [],
   "source": [
    "table_6.quick_build(\n",
    "    event_start_date_cols=\"date_string\",\n",
    "    event_start_date_format=\"DMY\",\n",
    ")"
   ]
  },
  {
   "cell_type": "code",
   "execution_count": 17,
   "id": "77774130",
   "metadata": {},
   "outputs": [],
   "source": [
    "dataset = FDMDataset(\n",
    "    dataset_id = \"CY_TESTS_FDM\"\n",
    ")"
   ]
  },
  {
   "cell_type": "code",
   "execution_count": 18,
   "id": "a6618098",
   "metadata": {},
   "outputs": [
    {
     "name": "stdout",
     "output_type": "stream",
     "text": [
      "\t\t ##### BUILDING FDM DATASET CY_TESTS_FDM #####\n",
      "________________________________________________________________________________\n",
      "\n",
      "Checking dataset for source tables:\n",
      "\n",
      "    src_table_1 contains:  * person_id * event_start_date  * event_end_date\n",
      "\t-> Table ready\n",
      "    src_table_2 contains:  * person_id * event_start_date \n",
      "\t-> Table ready\n",
      "    src_table_4 contains:  * person_id * event_start_date \n",
      "\t-> Table ready\n",
      "    src_table_5 contains:  * person_id * event_start_date \n",
      "\t-> Table ready\n",
      "\n",
      "Building person table\n",
      "\n",
      "    * Person table built with 60 entries\n",
      "\n",
      "Building initial observation_period table\n",
      "\n",
      "    * observation_period table built with 75 entries\n",
      "\n",
      "4. Separating out problem entries from source tables\n",
      "\n",
      "    src_table_1:\n",
      "\t* 19 problem entries identified and removed to src_table_1_problems\n",
      "\t* 6 entries remain in src_table_1\n",
      "    src_table_2:\n",
      "\t* 20 problem entries identified and removed to src_table_2_problems\n",
      "\t* 5 entries remain in src_table_2\n",
      "    src_table_4:\n",
      "\t* 17 problem entries identified and removed to src_table_4_problems\n",
      "\t* 8 entries remain in src_table_4\n",
      "    src_table_5:\n",
      "\t* 21 problem entries identified and removed to src_table_5_problems\n",
      "\t* 4 entries remain in src_table_5\n",
      "\n",
      "Rebuilding person table\n",
      "\n",
      "    * Person table built with 19 entries\n",
      "\n",
      "Rebuilding observation_period table\n",
      "\n",
      "    * observation_period table built with 19 entries\n",
      "\n",
      "________________________________________________________________________________\n",
      "\n",
      "\t ##### BUILD PROCESS FOR CY_TESTS_FDM COMPLETE! #####\n",
      "\n"
     ]
    }
   ],
   "source": [
    "dataset.build()"
   ]
  },
  {
   "cell_type": "code",
   "execution_count": null,
   "id": "9bb28222",
   "metadata": {},
   "outputs": [],
   "source": [
    "blah = \"got_money_mo_problems\"\n",
    "blah[:-9]"
   ]
  },
  {
   "cell_type": "code",
   "execution_count": null,
   "id": "e9701628",
   "metadata": {},
   "outputs": [],
   "source": []
  }
 ],
 "metadata": {
  "kernelspec": {
   "display_name": "FDMBuilder",
   "language": "python",
   "name": "fdmbuilder"
  },
  "language_info": {
   "codemirror_mode": {
    "name": "ipython",
    "version": 3
   },
   "file_extension": ".py",
   "mimetype": "text/x-python",
   "name": "python",
   "nbconvert_exporter": "python",
   "pygments_lexer": "ipython3",
   "version": "3.9.7"
  }
 },
 "nbformat": 4,
 "nbformat_minor": 5
}
