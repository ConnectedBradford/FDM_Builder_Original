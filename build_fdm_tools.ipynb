{
 "cells": [
  {
   "cell_type": "code",
   "execution_count": 1,
   "id": "aff11e5b",
   "metadata": {},
   "outputs": [],
   "source": [
    "import sys\n",
    "sys.path.append(\"/home/srelins/docs/cy_fdm_builder/src\")\n",
    "from testing_helpers import *\n",
    "from FDMTable import *\n",
    "from FDMDataset import *"
   ]
  },
  {
   "cell_type": "markdown",
   "id": "3d875da7",
   "metadata": {},
   "source": [
    "## TO DO:\n",
    "\n",
    "* PRIORITY: Work our what happens if you re-run .build() on a dataset\n",
    "* re-running .build() needs \"outside_obs\" tables to be added back to src tables - TEST THIS\n",
    "\n",
    "\n",
    "* THEN: build FDM datasets from just dataset_id:\n",
    "    + summarise tables in dataset init i.e. which are ready for FDM build, which arent, any FDM tables that will be overwritten, any src tables that will be re-combined\n",
    "    * think about \"verbose\" functionality of FDMTables - silence init-messages (not required anyways as tables will be initialised from tables in FDM dataset) - \"check_build\" function\n",
    "    \n",
    "    \n",
    "* add check and warning for Null datetimes when adding start/end dates\n",
    "* add .drop() method to table\n",
    "* raw input functionality - copying src tables? overwriting existing tables?\n",
    "* build data dict function\n",
    "* ask about requirement to have a raw version of FDM_tables at all times? - read only source?"
   ]
  },
  {
   "cell_type": "markdown",
   "id": "1dc6928e",
   "metadata": {},
   "source": [
    "## Testing:"
   ]
  },
  {
   "cell_type": "code",
   "execution_count": 2,
   "id": "cddccd52",
   "metadata": {
    "scrolled": false
   },
   "outputs": [
    {
     "name": "stderr",
     "output_type": "stream",
     "text": [
      "/home/srelins/anaconda3/envs/FDMBuilder/lib/python3.9/site-packages/pandas/core/frame.py:4906: SettingWithCopyWarning: \n",
      "A value is trying to be set on a copy of a slice from a DataFrame\n",
      "\n",
      "See the caveats in the documentation: https://pandas.pydata.org/pandas-docs/stable/user_guide/indexing.html#returning-a-view-versus-a-copy\n",
      "  return super().drop(\n"
     ]
    },
    {
     "name": "stdout",
     "output_type": "stream",
     "text": [
      "LOADING: table 1\n",
      "LOADING: table 2\n",
      "LOADING: table 3\n",
      "LOADING: table 4\n",
      "LOADING: table 5\n",
      "LOADING: table 6\n"
     ]
    }
   ],
   "source": [
    "build_test_environment()"
   ]
  },
  {
   "cell_type": "code",
   "execution_count": 3,
   "id": "4aae11f9",
   "metadata": {
    "scrolled": false
   },
   "outputs": [],
   "source": [
    "table_1 = FDMTable(\n",
    "    source_table_full_id=f\"{PROJECT}.CY_TESTS_SRC.src_table_1\",\n",
    "    dataset_id=\"CY_TESTS_FDM\"\n",
    ")"
   ]
  },
  {
   "cell_type": "code",
   "execution_count": 4,
   "id": "f05a4b8a",
   "metadata": {},
   "outputs": [
    {
     "name": "stdout",
     "output_type": "stream",
     "text": [
      "Building src_table_1:\n",
      "    src_table_1 copied to CY_TESTS_FDM\n",
      "    src_table_1 already contains person_id column\n",
      "    event_start_date column added\n",
      "    event_end_date column added\n",
      "Done.\n"
     ]
    }
   ],
   "source": [
    "table_1.quick_build(event_start_date_cols=\"start_date\",\n",
    "                     event_start_date_format=\"YMD\",\n",
    "                     event_end_date_cols=\"end_date\",\n",
    "                     event_end_date_format=\"YMD\")"
   ]
  },
  {
   "cell_type": "code",
   "execution_count": 5,
   "id": "95d5ed96",
   "metadata": {},
   "outputs": [],
   "source": [
    "table_2 = FDMTable(\n",
    "    source_table_full_id = f\"{PROJECT}.CY_TESTS_SRC.src_table_2\",\n",
    "    dataset_id = \"CY_TESTS_FDM\" \n",
    ")"
   ]
  },
  {
   "cell_type": "code",
   "execution_count": 6,
   "id": "fe79388e",
   "metadata": {},
   "outputs": [
    {
     "name": "stdout",
     "output_type": "stream",
     "text": [
      "Building src_table_2:\n",
      "    src_table_2 copied to CY_TESTS_FDM\n",
      "    person_id column added\n",
      "    event_start_date column added\n",
      "    event_end_date column added\n",
      "Done.\n"
     ]
    }
   ],
   "source": [
    "table_2.quick_build(\n",
    "    event_start_date_cols=[\"start_year\", \"start_month\", \"start_day\"], \n",
    "    event_start_date_format=\"YMD\", \n",
    "    event_end_date_cols=[\"end_year\", \"end_month\", \"end_day\"], \n",
    "    event_end_date_format=\"YMD\"\n",
    ")"
   ]
  },
  {
   "cell_type": "code",
   "execution_count": 7,
   "id": "d9afa396",
   "metadata": {},
   "outputs": [],
   "source": [
    "table_3 = FDMTable(\n",
    "    source_table_full_id=f\"{PROJECT}.CY_TESTS_SRC.src_table_3\",\n",
    "    dataset_id=\"CY_TESTS_FDM\"\n",
    ")"
   ]
  },
  {
   "cell_type": "code",
   "execution_count": 8,
   "id": "c6821746",
   "metadata": {},
   "outputs": [
    {
     "name": "stdout",
     "output_type": "stream",
     "text": [
      "Building src_table_3:\n",
      "    src_table_3 copied to CY_TESTS_FDM\n",
      "    person_id column added\n",
      "    event_start_date column added\n",
      "    no event_end_date info provided\n",
      "Done.\n"
     ]
    }
   ],
   "source": [
    "table_3.quick_build(\n",
    "    event_start_date_cols=[\"year\", \"month\", \"15\"], \n",
    "    event_start_date_format=\"YMD\", \n",
    ")"
   ]
  },
  {
   "cell_type": "code",
   "execution_count": 9,
   "id": "626a45b4",
   "metadata": {},
   "outputs": [],
   "source": [
    "table_4 = FDMTable(\n",
    "    source_table_full_id=f\"{PROJECT}.CY_TESTS_SRC.src_table_4\",\n",
    "    dataset_id=\"CY_TESTS_FDM\"\n",
    ")"
   ]
  },
  {
   "cell_type": "code",
   "execution_count": 10,
   "id": "520b5714",
   "metadata": {},
   "outputs": [
    {
     "name": "stdout",
     "output_type": "stream",
     "text": [
      "Building src_table_4:\n",
      "    src_table_4 copied to CY_TESTS_FDM\n",
      "    src_table_4 already contains person_id column\n",
      "\n",
      "    WARNING: 2 character years are ambiguous e.g. 75 will be parsed as 1975 but \n",
      "    70 will be parsed as 2070. Consider converting year.\n",
      "                \n",
      "    event_start_date column added\n",
      "\n",
      "    WARNING: 2 character years are ambiguous e.g. 75 will be parsed as 1975 but \n",
      "    70 will be parsed as 2070. Consider converting year.\n",
      "                \n",
      "    event_end_date column added\n",
      "Done.\n"
     ]
    }
   ],
   "source": [
    "table_4.quick_build(\n",
    "    event_start_date_cols=\"start_date_string\",\n",
    "    event_start_date_format=\"MDY\", \n",
    "    event_end_date_cols=\"end_date_string\",\n",
    "    event_end_date_format=\"DMY\"\n",
    ")"
   ]
  },
  {
   "cell_type": "code",
   "execution_count": 11,
   "id": "a56783b7",
   "metadata": {},
   "outputs": [],
   "source": [
    "table_5 = FDMTable(\n",
    "    source_table_full_id=f\"{PROJECT}.CY_TESTS_SRC.src_table_5\",\n",
    "    dataset_id=\"CY_TESTS_FDM\"\n",
    ")"
   ]
  },
  {
   "cell_type": "code",
   "execution_count": 12,
   "id": "a2b5ce40",
   "metadata": {},
   "outputs": [],
   "source": [
    "table_5.copy_table_to_dataset()"
   ]
  },
  {
   "cell_type": "code",
   "execution_count": 13,
   "id": "1b3b1288",
   "metadata": {},
   "outputs": [
    {
     "data": {
      "text/html": [
       "<div>\n",
       "<style scoped>\n",
       "    .dataframe tbody tr th:only-of-type {\n",
       "        vertical-align: middle;\n",
       "    }\n",
       "\n",
       "    .dataframe tbody tr th {\n",
       "        vertical-align: top;\n",
       "    }\n",
       "\n",
       "    .dataframe thead th {\n",
       "        text-align: right;\n",
       "    }\n",
       "</style>\n",
       "<table border=\"1\" class=\"dataframe\">\n",
       "  <thead>\n",
       "    <tr style=\"text-align: right;\">\n",
       "      <th></th>\n",
       "      <th>person_id</th>\n",
       "      <th>EDRN</th>\n",
       "      <th>date_string</th>\n",
       "    </tr>\n",
       "  </thead>\n",
       "  <tbody>\n",
       "    <tr>\n",
       "      <th>0</th>\n",
       "      <td>51</td>\n",
       "      <td>KQ</td>\n",
       "      <td>May-2012</td>\n",
       "    </tr>\n",
       "    <tr>\n",
       "      <th>1</th>\n",
       "      <td>44</td>\n",
       "      <td>JT</td>\n",
       "      <td>May-2016</td>\n",
       "    </tr>\n",
       "    <tr>\n",
       "      <th>2</th>\n",
       "      <td>junk_person_id_642</td>\n",
       "      <td>junk_EDRN_642</td>\n",
       "      <td>July-1968</td>\n",
       "    </tr>\n",
       "    <tr>\n",
       "      <th>3</th>\n",
       "      <td>52</td>\n",
       "      <td>KR</td>\n",
       "      <td>July-1993</td>\n",
       "    </tr>\n",
       "    <tr>\n",
       "      <th>4</th>\n",
       "      <td>57</td>\n",
       "      <td>KW</td>\n",
       "      <td>June-1973</td>\n",
       "    </tr>\n",
       "    <tr>\n",
       "      <th>5</th>\n",
       "      <td>48</td>\n",
       "      <td>JX</td>\n",
       "      <td>June-2002</td>\n",
       "    </tr>\n",
       "    <tr>\n",
       "      <th>6</th>\n",
       "      <td>55</td>\n",
       "      <td>KU</td>\n",
       "      <td>April-1976</td>\n",
       "    </tr>\n",
       "    <tr>\n",
       "      <th>7</th>\n",
       "      <td>43</td>\n",
       "      <td>JS</td>\n",
       "      <td>March-1986</td>\n",
       "    </tr>\n",
       "    <tr>\n",
       "      <th>8</th>\n",
       "      <td>53</td>\n",
       "      <td>KS</td>\n",
       "      <td>March-2003</td>\n",
       "    </tr>\n",
       "    <tr>\n",
       "      <th>9</th>\n",
       "      <td>45</td>\n",
       "      <td>JU</td>\n",
       "      <td>January-1954</td>\n",
       "    </tr>\n",
       "  </tbody>\n",
       "</table>\n",
       "</div>"
      ],
      "text/plain": [
       "            person_id           EDRN   date_string\n",
       "0                  51             KQ      May-2012\n",
       "1                  44             JT      May-2016\n",
       "2  junk_person_id_642  junk_EDRN_642     July-1968\n",
       "3                  52             KR     July-1993\n",
       "4                  57             KW     June-1973\n",
       "5                  48             JX     June-2002\n",
       "6                  55             KU    April-1976\n",
       "7                  43             JS    March-1986\n",
       "8                  53             KS    March-2003\n",
       "9                  45             JU  January-1954"
      ]
     },
     "execution_count": 13,
     "metadata": {},
     "output_type": "execute_result"
    }
   ],
   "source": [
    "table_5.head()"
   ]
  },
  {
   "cell_type": "code",
   "execution_count": 14,
   "id": "c4dee416",
   "metadata": {},
   "outputs": [
    {
     "data": {
      "text/html": [
       "<div>\n",
       "<style scoped>\n",
       "    .dataframe tbody tr th:only-of-type {\n",
       "        vertical-align: middle;\n",
       "    }\n",
       "\n",
       "    .dataframe tbody tr th {\n",
       "        vertical-align: top;\n",
       "    }\n",
       "\n",
       "    .dataframe thead th {\n",
       "        text-align: right;\n",
       "    }\n",
       "</style>\n",
       "<table border=\"1\" class=\"dataframe\">\n",
       "  <thead>\n",
       "    <tr style=\"text-align: right;\">\n",
       "      <th></th>\n",
       "      <th>person_id</th>\n",
       "      <th>EDRN</th>\n",
       "      <th>date_string</th>\n",
       "      <th>year</th>\n",
       "      <th>month</th>\n",
       "    </tr>\n",
       "  </thead>\n",
       "  <tbody>\n",
       "    <tr>\n",
       "      <th>0</th>\n",
       "      <td>51</td>\n",
       "      <td>KQ</td>\n",
       "      <td>May-2012</td>\n",
       "      <td>May</td>\n",
       "      <td>2012</td>\n",
       "    </tr>\n",
       "    <tr>\n",
       "      <th>1</th>\n",
       "      <td>44</td>\n",
       "      <td>JT</td>\n",
       "      <td>May-2016</td>\n",
       "      <td>May</td>\n",
       "      <td>2016</td>\n",
       "    </tr>\n",
       "    <tr>\n",
       "      <th>2</th>\n",
       "      <td>junk_person_id_642</td>\n",
       "      <td>junk_EDRN_642</td>\n",
       "      <td>July-1968</td>\n",
       "      <td>July</td>\n",
       "      <td>1968</td>\n",
       "    </tr>\n",
       "    <tr>\n",
       "      <th>3</th>\n",
       "      <td>52</td>\n",
       "      <td>KR</td>\n",
       "      <td>July-1993</td>\n",
       "      <td>July</td>\n",
       "      <td>1993</td>\n",
       "    </tr>\n",
       "    <tr>\n",
       "      <th>4</th>\n",
       "      <td>57</td>\n",
       "      <td>KW</td>\n",
       "      <td>June-1973</td>\n",
       "      <td>June</td>\n",
       "      <td>1973</td>\n",
       "    </tr>\n",
       "    <tr>\n",
       "      <th>5</th>\n",
       "      <td>48</td>\n",
       "      <td>JX</td>\n",
       "      <td>June-2002</td>\n",
       "      <td>June</td>\n",
       "      <td>2002</td>\n",
       "    </tr>\n",
       "    <tr>\n",
       "      <th>6</th>\n",
       "      <td>55</td>\n",
       "      <td>KU</td>\n",
       "      <td>April-1976</td>\n",
       "      <td>April</td>\n",
       "      <td>1976</td>\n",
       "    </tr>\n",
       "    <tr>\n",
       "      <th>7</th>\n",
       "      <td>53</td>\n",
       "      <td>KS</td>\n",
       "      <td>March-2003</td>\n",
       "      <td>March</td>\n",
       "      <td>2003</td>\n",
       "    </tr>\n",
       "    <tr>\n",
       "      <th>8</th>\n",
       "      <td>43</td>\n",
       "      <td>JS</td>\n",
       "      <td>March-1986</td>\n",
       "      <td>March</td>\n",
       "      <td>1986</td>\n",
       "    </tr>\n",
       "    <tr>\n",
       "      <th>9</th>\n",
       "      <td>junk_person_id_780</td>\n",
       "      <td>junk_EDRN_780</td>\n",
       "      <td>January-1986</td>\n",
       "      <td>January</td>\n",
       "      <td>1986</td>\n",
       "    </tr>\n",
       "  </tbody>\n",
       "</table>\n",
       "</div>"
      ],
      "text/plain": [
       "            person_id           EDRN   date_string     year month\n",
       "0                  51             KQ      May-2012      May  2012\n",
       "1                  44             JT      May-2016      May  2016\n",
       "2  junk_person_id_642  junk_EDRN_642     July-1968     July  1968\n",
       "3                  52             KR     July-1993     July  1993\n",
       "4                  57             KW     June-1973     June  1973\n",
       "5                  48             JX     June-2002     June  2002\n",
       "6                  55             KU    April-1976    April  1976\n",
       "7                  53             KS    March-2003    March  2003\n",
       "8                  43             JS    March-1986    March  1986\n",
       "9  junk_person_id_780  junk_EDRN_780  January-1986  January  1986"
      ]
     },
     "execution_count": 14,
     "metadata": {},
     "output_type": "execute_result"
    }
   ],
   "source": [
    "table_5.add_column(\"SPLIT(date_string, '-')[OFFSET(0)] AS year\")\n",
    "table_5.add_column(\"SPLIT(date_string, '-')[OFFSET(1)] AS month\")\n",
    "table_5.head()"
   ]
  },
  {
   "cell_type": "code",
   "execution_count": 15,
   "id": "19f87d14",
   "metadata": {},
   "outputs": [
    {
     "name": "stdout",
     "output_type": "stream",
     "text": [
      "Building src_table_5:\n",
      "    existing copy of src_table_5 in CY_TESTS_FDM\n",
      "    src_table_5 already contains person_id column\n",
      "    event_start_date column added\n",
      "    no event_end_date info provided\n",
      "Done.\n"
     ]
    }
   ],
   "source": [
    "table_5.quick_build(\n",
    "    event_start_date_cols=[\"year\", \"month\", \"15\"],\n",
    "    event_start_date_format=\"YMD\", \n",
    ")"
   ]
  },
  {
   "cell_type": "code",
   "execution_count": 16,
   "id": "2856f178",
   "metadata": {},
   "outputs": [],
   "source": [
    "table_6 = FDMTable(\n",
    "    source_table_full_id=f\"{PROJECT}.CY_TESTS_SRC.src_table_6\",\n",
    "    dataset_id=\"CY_TESTS_FDM\"\n",
    ")"
   ]
  },
  {
   "cell_type": "code",
   "execution_count": 17,
   "id": "abf0c113",
   "metadata": {},
   "outputs": [],
   "source": [
    "table_6.copy_table_to_dataset()"
   ]
  },
  {
   "cell_type": "code",
   "execution_count": 18,
   "id": "778fd906",
   "metadata": {},
   "outputs": [
    {
     "data": {
      "text/html": [
       "<div>\n",
       "<style scoped>\n",
       "    .dataframe tbody tr th:only-of-type {\n",
       "        vertical-align: middle;\n",
       "    }\n",
       "\n",
       "    .dataframe tbody tr th {\n",
       "        vertical-align: top;\n",
       "    }\n",
       "\n",
       "    .dataframe thead th {\n",
       "        text-align: right;\n",
       "    }\n",
       "</style>\n",
       "<table border=\"1\" class=\"dataframe\">\n",
       "  <thead>\n",
       "    <tr style=\"text-align: right;\">\n",
       "      <th></th>\n",
       "      <th>person_id</th>\n",
       "      <th>digest</th>\n",
       "      <th>EDRN</th>\n",
       "      <th>date_string</th>\n",
       "    </tr>\n",
       "  </thead>\n",
       "  <tbody>\n",
       "    <tr>\n",
       "      <th>0</th>\n",
       "      <td>52</td>\n",
       "      <td>AH</td>\n",
       "      <td>KR</td>\n",
       "      <td>22-Jun-1977</td>\n",
       "    </tr>\n",
       "    <tr>\n",
       "      <th>1</th>\n",
       "      <td>56</td>\n",
       "      <td>AL</td>\n",
       "      <td>KV</td>\n",
       "      <td>24-Jan-1960</td>\n",
       "    </tr>\n",
       "    <tr>\n",
       "      <th>2</th>\n",
       "      <td>junk_person_id_171</td>\n",
       "      <td>junk_digest_171</td>\n",
       "      <td>junk_EDRN_171</td>\n",
       "      <td>20-May-1999</td>\n",
       "    </tr>\n",
       "    <tr>\n",
       "      <th>3</th>\n",
       "      <td>50</td>\n",
       "      <td>AF</td>\n",
       "      <td>KP</td>\n",
       "      <td>11-Feb-1986</td>\n",
       "    </tr>\n",
       "    <tr>\n",
       "      <th>4</th>\n",
       "      <td>67</td>\n",
       "      <td>BM</td>\n",
       "      <td>LW</td>\n",
       "      <td>18-Nov-1959</td>\n",
       "    </tr>\n",
       "    <tr>\n",
       "      <th>5</th>\n",
       "      <td>54</td>\n",
       "      <td>AJ</td>\n",
       "      <td>KT</td>\n",
       "      <td>1-Sep-1992</td>\n",
       "    </tr>\n",
       "    <tr>\n",
       "      <th>6</th>\n",
       "      <td>64</td>\n",
       "      <td>BJ</td>\n",
       "      <td>LT</td>\n",
       "      <td>5-Apr-1982</td>\n",
       "    </tr>\n",
       "    <tr>\n",
       "      <th>7</th>\n",
       "      <td>58</td>\n",
       "      <td>AN</td>\n",
       "      <td>KX</td>\n",
       "      <td>12-Dec-1994</td>\n",
       "    </tr>\n",
       "    <tr>\n",
       "      <th>8</th>\n",
       "      <td>68</td>\n",
       "      <td>BN</td>\n",
       "      <td>LX</td>\n",
       "      <td>4-Jun-1970</td>\n",
       "    </tr>\n",
       "    <tr>\n",
       "      <th>9</th>\n",
       "      <td>junk_person_id_81</td>\n",
       "      <td>junk_digest_81</td>\n",
       "      <td>junk_EDRN_81</td>\n",
       "      <td>26-Oct-1961</td>\n",
       "    </tr>\n",
       "  </tbody>\n",
       "</table>\n",
       "</div>"
      ],
      "text/plain": [
       "            person_id           digest           EDRN  date_string\n",
       "0                  52               AH             KR  22-Jun-1977\n",
       "1                  56               AL             KV  24-Jan-1960\n",
       "2  junk_person_id_171  junk_digest_171  junk_EDRN_171  20-May-1999\n",
       "3                  50               AF             KP  11-Feb-1986\n",
       "4                  67               BM             LW  18-Nov-1959\n",
       "5                  54               AJ             KT   1-Sep-1992\n",
       "6                  64               BJ             LT   5-Apr-1982\n",
       "7                  58               AN             KX  12-Dec-1994\n",
       "8                  68               BN             LX   4-Jun-1970\n",
       "9   junk_person_id_81   junk_digest_81   junk_EDRN_81  26-Oct-1961"
      ]
     },
     "execution_count": 18,
     "metadata": {},
     "output_type": "execute_result"
    }
   ],
   "source": [
    "table_6.head()"
   ]
  },
  {
   "cell_type": "code",
   "execution_count": 19,
   "id": "01a67ab1",
   "metadata": {},
   "outputs": [
    {
     "name": "stdout",
     "output_type": "stream",
     "text": [
      "Building src_table_6:\n",
      "    existing copy of src_table_6 in CY_TESTS_FDM\n",
      "    src_table_6 already contains person_id column\n",
      "    event_start_date column added\n",
      "    no event_end_date info provided\n",
      "Done.\n"
     ]
    }
   ],
   "source": [
    "table_6.quick_build(\n",
    "    event_start_date_cols=\"date_string\",\n",
    "    event_start_date_format=\"DMY\",\n",
    ")"
   ]
  },
  {
   "cell_type": "code",
   "execution_count": 20,
   "id": "77774130",
   "metadata": {},
   "outputs": [],
   "source": [
    "dataset = FDMDataset(\n",
    "    dataset_id = \"CY_TESTS_FDM\"\n",
    ")"
   ]
  },
  {
   "cell_type": "code",
   "execution_count": 23,
   "id": "a6618098",
   "metadata": {},
   "outputs": [
    {
     "name": "stdout",
     "output_type": "stream",
     "text": [
      "\t\t ##### BUILDING FDM DATASET CY_TESTS_FDM #####\n",
      "________________________________________________________________________________\n",
      "\n",
      "1. Checking dataset for source tables:\n",
      "\n",
      "    src_table_1 contains:  * person_id * event_start_date  * event_end_date\n",
      "\t-> Table ready\n",
      "    src_table_2 contains:  * person_id * event_start_date  * event_end_date\n",
      "\t-> Table ready\n",
      "    src_table_3 contains:  * person_id * event_start_date \n",
      "\t-> Table ready\n",
      "    src_table_4 contains:  * person_id * event_start_date  * event_end_date\n",
      "\t-> Table ready\n",
      "    src_table_5 contains:  * person_id * event_start_date \n",
      "\t-> Table ready\n",
      "    src_table_6 contains:  * person_id * event_start_date \n",
      "\t-> Table ready\n",
      "\tAdding problem entries back into tables:\n",
      "    src_table_1- done\n",
      "    src_table_2- done\n",
      "    src_table_3- done\n",
      "    src_table_4- done\n",
      "    src_table_5- done\n",
      "    src_table_6- done\n",
      "\n",
      "Building person table\n",
      "\n",
      "    * Person table built with 70 entries\n",
      "\n",
      "Building initial observation_period table\n",
      "\n",
      "    * observation_period table built with 90 entries\n",
      "\n",
      "4. Separating out problem entries from source tables\n",
      "\n",
      "    src_table_1:\n",
      "\t* 20 problem entries identified and removed to src_table_1_problems\n",
      "\t* 5 entries remain in src_table_1\n",
      "    src_table_2:\n",
      "\t* 18 problem entries identified and removed to src_table_2_problems\n",
      "\t* 7 entries remain in src_table_2\n",
      "    src_table_3:\n",
      "\t* 19 problem entries identified and removed to src_table_3_problems\n",
      "\t* 6 entries remain in src_table_3\n",
      "    src_table_4:\n",
      "\t* 16 problem entries identified and removed to src_table_4_problems\n",
      "\t* 9 entries remain in src_table_4\n",
      "    src_table_5:\n",
      "\t* 17 problem entries identified and removed to src_table_5_problems\n",
      "\t* 8 entries remain in src_table_5\n",
      "    src_table_6:\n",
      "\t* 18 problem entries identified and removed to src_table_6_problems\n",
      "\t* 7 entries remain in src_table_6\n",
      "\n",
      "Rebuilding person table\n",
      "\n",
      "    * Person table built with 28 entries\n",
      "\n",
      "Rebuilding observation_period table\n",
      "\n",
      "    * observation_period table built with 28 entries\n",
      "\n",
      "________________________________________________________________________________\n",
      "\n",
      "\t ##### BUILD PROCESS FOR CY_TESTS_FDM COMPLETE! #####\n",
      "\n"
     ]
    }
   ],
   "source": [
    "dataset.build()"
   ]
  },
  {
   "cell_type": "code",
   "execution_count": 22,
   "id": "9bb28222",
   "metadata": {},
   "outputs": [
    {
     "data": {
      "text/plain": [
       "'got_money_mo'"
      ]
     },
     "execution_count": 22,
     "metadata": {},
     "output_type": "execute_result"
    }
   ],
   "source": [
    "blah = \"got_money_mo_problems\"\n",
    "blah[:-9]"
   ]
  },
  {
   "cell_type": "code",
   "execution_count": null,
   "id": "314c4bf3",
   "metadata": {},
   "outputs": [],
   "source": []
  }
 ],
 "metadata": {
  "kernelspec": {
   "display_name": "FDMBuilder",
   "language": "python",
   "name": "fdmbuilder"
  },
  "language_info": {
   "codemirror_mode": {
    "name": "ipython",
    "version": 3
   },
   "file_extension": ".py",
   "mimetype": "text/x-python",
   "name": "python",
   "nbconvert_exporter": "python",
   "pygments_lexer": "ipython3",
   "version": "3.9.7"
  }
 },
 "nbformat": 4,
 "nbformat_minor": 5
}
