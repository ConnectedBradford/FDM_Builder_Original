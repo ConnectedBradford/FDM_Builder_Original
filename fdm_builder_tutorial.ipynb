{
 "cells": [
  {
   "cell_type": "markdown",
   "id": "3dddb629",
   "metadata": {},
   "source": [
    "## Tutorial Prerequisites:\n",
    "\n",
    "It's recommended you have an empty dataset in GCP to play around with the FDMBuilder tools - so either create one now in preparation, or ask someone with the relevant priviledges to make one for you if you can't.\n",
    "\n",
    "## Quick Jupyter notebooks primer\n",
    "\n",
    "A jupyter notebook allows you to write markdown and execute python/R script in one document. \n",
    "\n",
    "This text has been written in a markdown cell (double click right here and you'll be able to edit the markdown). Running a markdown cell renders it (so displaying the markdown in it's non-scripted format).\n",
    "\n",
    "Immediately below this is the first code cell - it contains script that imports all of the required python libraries to run the FDMBuilder. Any output from a code cell will be displayed immediately below the cell.\n",
    "\n",
    "Be sure to write text and documentation in a markdown cell, and script in a code cell - otherwise you'll get some pretty colourful errors!\n",
    "\n",
    "There are a bunch of controls to manage each cell in the notebook: the UI has buttons above that can run a code cell, change a code cell to a markdown cell or visa-versa, stop execution of a code cell, execute every cell in the notebook, and so on... Hover over each of the buttons above to see what they do. You can also perform all cell-related activities by selecting the `Cell` menu in the toolbar and choosing the relevant option.\n",
    "\n",
    "However, hotkeys are usually the easiest way to quickly run code cells (and render markdown). Simply select a code cell and:\n",
    "\n",
    "* press `ctrl+enter` to run the cell \n",
    "* press `shift+enter` to run the cell and move focus to the cell below\n",
    "* press `ctrl+shift+enter` to run the cell and create a new code cell below\n",
    "\n",
    "That should be enough to get started - plenty of other online guides exist if you want to get better acquainted with the jupyter notebook environment.\n",
    "\n",
    "Get started by running the below code cell, which imports all the required python libraries for the FDMBuilder:"
   ]
  },
  {
   "cell_type": "code",
   "execution_count": 15,
   "id": "aff11e5b",
   "metadata": {},
   "outputs": [],
   "source": [
    "from FDMBuilder.FDMTable import *\n",
    "from FDMBuilder.FDMDataset import *\n",
    "from FDMBuilder.testing_helpers import *"
   ]
  },
  {
   "cell_type": "markdown",
   "id": "3d875da7",
   "metadata": {},
   "source": [
    "## FDM Builder - The basics\n",
    "\n",
    "Note: This guide assumes you're familiar with the term FDM and associated concepts.\n",
    "\n",
    "The FDMBuilder library has been designed with the hope that a non-python user shouldn't (hopefully) have too much difficulty using the FDM tools to build a dataset from scratch. The workflow is split into two major steps:\n",
    "\n",
    "1. Prepare the source tables\n",
    "2. Build the FDM\n",
    "\n",
    "Each step comes with it's own tool or helper that walks through the process of preparing and bulding an FDM dataset. Source tables are \"built\" or prepared for the FDM process with the `FDMTable` tool - this is a python \"class\" that contains all the bits and pieces needed to clean and prep a table for FDMing. Once all the source tables are ready, the FDM dataset itself is \"built\" using the `FDMDataset` tool - another python class responsible for drawing all the source tables together and building the standard FDM tables (person and observation_period).\n",
    "\n",
    "We'll begin with the basics of using the FDMTable and FDMDataset tools to buld an FDM dataset. Once we're more comfortable with the python workflow, we can then move onto the more \"advanced\" functions that can streamline many of the more common cleaning/manipulation activities that pop up during the FDM process.\n",
    "\n",
    "## FDMTable\n",
    "\n",
    "To begin the FDM process, we need to prep each source table. This process ensures that:\n",
    "\n",
    "1. The source table is copied to the FDM dataset location\n",
    "2. person_ids are added to each entry\n",
    "3. An event_start_date is added to each entry in a cleaned `DATETIME` format\n",
    "4. If needed an event_end_date is added to each entry in a cleaned `DATETIME` format\n",
    "\n",
    "To do this using the python FDMBuilder, you first need to define an individual FDMTable object for each of the source tables in your FDM dataset. Lets look at an example:"
   ]
  },
  {
   "cell_type": "code",
   "execution_count": 3,
   "id": "896a70bb",
   "metadata": {},
   "outputs": [],
   "source": [
    "eg_table = FDMTable(\n",
    "    source_table_id=\"CY_STAGING_DATABASE.src_WH_BRI_tbl_maternity_pathway_antenatal\",\n",
    "    dataset_id=\"CY_TEST_SR\"\n",
    ")"
   ]
  },
  {
   "cell_type": "markdown",
   "id": "fdd2a5d5",
   "metadata": {},
   "source": [
    "The above code cell creates a new FDMTable object and stores it as `eg_table` - the arguments when creating or initialising an FDMTable are:\n",
    "\n",
    "* `source_table_id`: the id of the source table (hopefully that wasn't a surprise!). This can be in \"project.dataset_id.table_id\" form or just \"dataset_id.table_id\" form\n",
    "* `dataset_id`: the id of the dataset in which you'll be copying/building your FDM dataset \n",
    "\n",
    "    Note: you'll need to change \"CY_TEST_SR\" to your own dataset - you may want to change the source table too if you don't have access to CY_STAGING_DATABASE\n",
    "\n",
    "Initialising an FDMTable doesn't actually do anything in GCP. For that you need to call one of the FDMTable's \"methods\". Methods are functions attached to a specific class, that update/manipulate/otherwise mess about with the related class. So, the FDMTable class has methods that do things like add columns to the associated table, delete columns, rename columns etc. etc.\n",
    "\n",
    "To start, we'll look at the most of important of these methods `build` - fortunately it's also the easiest to get to grips with. Methods are called by specifying the class object, followed by a `.` and then the name of the method. So we call the `build` method on the above FDMTable we just defined by running:\n",
    "\n",
    "```\n",
    "eg_table.build()\n",
    "```\n",
    "\n",
    "The `build` method is designed to walk the user through the process of preparing an FDM table, stopping each time user input is required. Each time the script stops, it will give a short explanation why and will ask for input with a bit of guidance on the input required.\n",
    "\n",
    "Give it a try! Run the below cell to build your first FDM table:"
   ]
  },
  {
   "cell_type": "code",
   "execution_count": 4,
   "id": "92b9ed5a",
   "metadata": {},
   "outputs": [
    {
     "name": "stdout",
     "output_type": "stream",
     "text": [
      "\t ##### BUILDING FDM TABLE COMPONENTS FOR src_WH_BRI_tbl_maternity_pathway_antenatal #####\n",
      "________________________________________________________________________________\n",
      "\n",
      "1. Copying src_WH_BRI_tbl_maternity_pathway_antenatal to CY_TEST_SR:\n",
      "\n",
      "    Looks like something went wrong! Likely culprits are:\"\n",
      "    \n",
      "    1. You misspelled either the source table location or dataset id: \n",
      "    \n",
      "        Source table location - \"yhcr-prd-phm-bia-core.CY_STAGING_DATABASE.src_WH_BRI_tbl_maternity_pathway_antenatal\" \n",
      "        Dataset id - \"CY_TEST_SR\" \n",
      "        \n",
      "    If so, just correct the spelling error and then re-initialise.\n",
      "    \n",
      "    2. The dataset CY_TEST_SR doesn't exist yet\n",
      "    \n",
      "    If so, and you have the relevant permissions, you can create a new dataset\n",
      "    using an FDMDataset object and .create_dataset(), or just use GCP.\n",
      "    Otherwise, if you don't have the necessary permissions, have a word with  \n",
      "    the CYP data team and have them create you a dataset.\n",
      "    \n",
      "    Note: DO NOT CONTINUE TO USE THIS PARTICULAR FDMTable INSTANCE! If you do, \n",
      "    you're going to see a whole bunch more error messages!\n",
      "    \n",
      "    Full error message is as follows:\n",
      "                    \n"
     ]
    },
    {
     "ename": "NotFound",
     "evalue": "404 Not found: Dataset yhcr-prd-phm-bia-core:CY_TEST_SR was not found in location europe-west2\n\nLocation: europe-west2\nJob ID: 30b96464-d6ea-444d-91f5-992d02a81cfd\n",
     "output_type": "error",
     "traceback": [
      "\u001b[0;31m---------------------------------------------------------------------------\u001b[0m",
      "\u001b[0;31mNotFound\u001b[0m                                  Traceback (most recent call last)",
      "\u001b[0;32m/tmp/ipykernel_8940/4027038382.py\u001b[0m in \u001b[0;36m<module>\u001b[0;34m\u001b[0m\n\u001b[0;32m----> 1\u001b[0;31m \u001b[0meg_table\u001b[0m\u001b[0;34m.\u001b[0m\u001b[0mbuild\u001b[0m\u001b[0;34m(\u001b[0m\u001b[0;34m)\u001b[0m\u001b[0;34m\u001b[0m\u001b[0;34m\u001b[0m\u001b[0m\n\u001b[0m",
      "\u001b[0;32m~/docs/cy_fdm_builder/FDMBuilder/FDMTable.py\u001b[0m in \u001b[0;36mbuild\u001b[0;34m(self)\u001b[0m\n\u001b[1;32m     63\u001b[0m \u001b[0;34m\u001b[0m\u001b[0m\n\u001b[1;32m     64\u001b[0m         \u001b[0mprint\u001b[0m\u001b[0;34m(\u001b[0m\u001b[0;34mf\"1. Copying {self.table_id} to {self.dataset_id}:\"\u001b[0m\u001b[0;34m)\u001b[0m\u001b[0;34m\u001b[0m\u001b[0;34m\u001b[0m\u001b[0m\n\u001b[0;32m---> 65\u001b[0;31m         \u001b[0mself\u001b[0m\u001b[0;34m.\u001b[0m\u001b[0mcopy_table_to_dataset\u001b[0m\u001b[0;34m(\u001b[0m\u001b[0muser_input\u001b[0m\u001b[0;34m=\u001b[0m\u001b[0;32mTrue\u001b[0m\u001b[0;34m)\u001b[0m\u001b[0;34m\u001b[0m\u001b[0;34m\u001b[0m\u001b[0m\n\u001b[0m\u001b[1;32m     66\u001b[0m \u001b[0;34m\u001b[0m\u001b[0m\n\u001b[1;32m     67\u001b[0m         \u001b[0mprint\u001b[0m\u001b[0;34m(\u001b[0m\u001b[0;34mf\"\\n2. Adding person_id column:\"\u001b[0m\u001b[0;34m)\u001b[0m\u001b[0;34m\u001b[0m\u001b[0;34m\u001b[0m\u001b[0m\n",
      "\u001b[0;32m~/docs/cy_fdm_builder/FDMBuilder/FDMTable.py\u001b[0m in \u001b[0;36mcopy_table_to_dataset\u001b[0;34m(self, user_input, verbose)\u001b[0m\n\u001b[1;32m    224\u001b[0m     \u001b[0mFull\u001b[0m \u001b[0merror\u001b[0m \u001b[0mmessage\u001b[0m \u001b[0;32mis\u001b[0m \u001b[0;32mas\u001b[0m \u001b[0mfollows\u001b[0m\u001b[0;34m:\u001b[0m\u001b[0;34m\u001b[0m\u001b[0;34m\u001b[0m\u001b[0m\n\u001b[1;32m    225\u001b[0m                     \"\"\")\n\u001b[0;32m--> 226\u001b[0;31m                     \u001b[0;32mraise\u001b[0m \u001b[0mex\u001b[0m\u001b[0;34m\u001b[0m\u001b[0;34m\u001b[0m\u001b[0m\n\u001b[0m\u001b[1;32m    227\u001b[0m             \u001b[0;32melse\u001b[0m\u001b[0;34m:\u001b[0m\u001b[0;34m\u001b[0m\u001b[0;34m\u001b[0m\u001b[0m\n\u001b[1;32m    228\u001b[0m                 \u001b[0mprint\u001b[0m\u001b[0;34m(\u001b[0m\u001b[0;34mf\"\\n    Continuing with existing copy of {self.table_id}\"\u001b[0m\u001b[0;34m)\u001b[0m\u001b[0;34m\u001b[0m\u001b[0;34m\u001b[0m\u001b[0m\n",
      "\u001b[0;32m~/docs/cy_fdm_builder/FDMBuilder/FDMTable.py\u001b[0m in \u001b[0;36mcopy_table_to_dataset\u001b[0;34m(self, user_input, verbose)\u001b[0m\n\u001b[1;32m    198\u001b[0m                 \"\"\"\n\u001b[1;32m    199\u001b[0m                 \u001b[0;32mtry\u001b[0m\u001b[0;34m:\u001b[0m\u001b[0;34m\u001b[0m\u001b[0;34m\u001b[0m\u001b[0m\n\u001b[0;32m--> 200\u001b[0;31m                     \u001b[0mrun_sql_query\u001b[0m\u001b[0;34m(\u001b[0m\u001b[0msql\u001b[0m\u001b[0;34m,\u001b[0m \u001b[0mdestination\u001b[0m\u001b[0;34m=\u001b[0m\u001b[0mself\u001b[0m\u001b[0;34m.\u001b[0m\u001b[0mfull_table_id\u001b[0m\u001b[0;34m)\u001b[0m\u001b[0;34m\u001b[0m\u001b[0;34m\u001b[0m\u001b[0m\n\u001b[0m\u001b[1;32m    201\u001b[0m                     print(f\"\\n    Table {self.table_id} copied to \"\n\u001b[1;32m    202\u001b[0m                           f\"{self.dataset_id}!\")\n",
      "\u001b[0;32m~/docs/cy_fdm_builder/FDMBuilder/FDM_helpers.py\u001b[0m in \u001b[0;36mrun_sql_query\u001b[0;34m(sql, destination)\u001b[0m\n\u001b[1;32m     51\u001b[0m \u001b[0;34m\u001b[0m\u001b[0m\n\u001b[1;32m     52\u001b[0m     \u001b[0mquery_job\u001b[0m \u001b[0;34m=\u001b[0m \u001b[0mCLIENT\u001b[0m\u001b[0;34m.\u001b[0m\u001b[0mquery\u001b[0m\u001b[0;34m(\u001b[0m\u001b[0msql\u001b[0m\u001b[0;34m,\u001b[0m \u001b[0mjob_config\u001b[0m\u001b[0;34m=\u001b[0m\u001b[0mjob_config\u001b[0m\u001b[0;34m)\u001b[0m  \u001b[0;31m# Make an API request.\u001b[0m\u001b[0;34m\u001b[0m\u001b[0;34m\u001b[0m\u001b[0m\n\u001b[0;32m---> 53\u001b[0;31m     \u001b[0mquery_job\u001b[0m\u001b[0;34m.\u001b[0m\u001b[0mresult\u001b[0m\u001b[0;34m(\u001b[0m\u001b[0;34m)\u001b[0m  \u001b[0;31m# Wait for the job to complete.\u001b[0m\u001b[0;34m\u001b[0m\u001b[0;34m\u001b[0m\u001b[0m\n\u001b[0m\u001b[1;32m     54\u001b[0m \u001b[0;34m\u001b[0m\u001b[0m\n\u001b[1;32m     55\u001b[0m     \u001b[0;32mif\u001b[0m \u001b[0mdestination\u001b[0m\u001b[0;34m:\u001b[0m\u001b[0;34m\u001b[0m\u001b[0;34m\u001b[0m\u001b[0m\n",
      "\u001b[0;32m~/anaconda3/envs/FDMBuilder/lib/python3.9/site-packages/google/cloud/bigquery/job/query.py\u001b[0m in \u001b[0;36mresult\u001b[0;34m(self, page_size, max_results, retry, timeout, start_index, job_retry)\u001b[0m\n\u001b[1;32m   1449\u001b[0m                 \u001b[0mdo_get_result\u001b[0m \u001b[0;34m=\u001b[0m \u001b[0mjob_retry\u001b[0m\u001b[0;34m(\u001b[0m\u001b[0mdo_get_result\u001b[0m\u001b[0;34m)\u001b[0m\u001b[0;34m\u001b[0m\u001b[0;34m\u001b[0m\u001b[0m\n\u001b[1;32m   1450\u001b[0m \u001b[0;34m\u001b[0m\u001b[0m\n\u001b[0;32m-> 1451\u001b[0;31m             \u001b[0mdo_get_result\u001b[0m\u001b[0;34m(\u001b[0m\u001b[0;34m)\u001b[0m\u001b[0;34m\u001b[0m\u001b[0;34m\u001b[0m\u001b[0m\n\u001b[0m\u001b[1;32m   1452\u001b[0m \u001b[0;34m\u001b[0m\u001b[0m\n\u001b[1;32m   1453\u001b[0m         \u001b[0;32mexcept\u001b[0m \u001b[0mexceptions\u001b[0m\u001b[0;34m.\u001b[0m\u001b[0mGoogleAPICallError\u001b[0m \u001b[0;32mas\u001b[0m \u001b[0mexc\u001b[0m\u001b[0;34m:\u001b[0m\u001b[0;34m\u001b[0m\u001b[0;34m\u001b[0m\u001b[0m\n",
      "\u001b[0;32m~/anaconda3/envs/FDMBuilder/lib/python3.9/site-packages/google/api_core/retry.py\u001b[0m in \u001b[0;36mretry_wrapped_func\u001b[0;34m(*args, **kwargs)\u001b[0m\n\u001b[1;32m    281\u001b[0m                 \u001b[0mself\u001b[0m\u001b[0;34m.\u001b[0m\u001b[0m_initial\u001b[0m\u001b[0;34m,\u001b[0m \u001b[0mself\u001b[0m\u001b[0;34m.\u001b[0m\u001b[0m_maximum\u001b[0m\u001b[0;34m,\u001b[0m \u001b[0mmultiplier\u001b[0m\u001b[0;34m=\u001b[0m\u001b[0mself\u001b[0m\u001b[0;34m.\u001b[0m\u001b[0m_multiplier\u001b[0m\u001b[0;34m\u001b[0m\u001b[0;34m\u001b[0m\u001b[0m\n\u001b[1;32m    282\u001b[0m             )\n\u001b[0;32m--> 283\u001b[0;31m             return retry_target(\n\u001b[0m\u001b[1;32m    284\u001b[0m                 \u001b[0mtarget\u001b[0m\u001b[0;34m,\u001b[0m\u001b[0;34m\u001b[0m\u001b[0;34m\u001b[0m\u001b[0m\n\u001b[1;32m    285\u001b[0m                 \u001b[0mself\u001b[0m\u001b[0;34m.\u001b[0m\u001b[0m_predicate\u001b[0m\u001b[0;34m,\u001b[0m\u001b[0;34m\u001b[0m\u001b[0;34m\u001b[0m\u001b[0m\n",
      "\u001b[0;32m~/anaconda3/envs/FDMBuilder/lib/python3.9/site-packages/google/api_core/retry.py\u001b[0m in \u001b[0;36mretry_target\u001b[0;34m(target, predicate, sleep_generator, deadline, on_error)\u001b[0m\n\u001b[1;32m    188\u001b[0m     \u001b[0;32mfor\u001b[0m \u001b[0msleep\u001b[0m \u001b[0;32min\u001b[0m \u001b[0msleep_generator\u001b[0m\u001b[0;34m:\u001b[0m\u001b[0;34m\u001b[0m\u001b[0;34m\u001b[0m\u001b[0m\n\u001b[1;32m    189\u001b[0m         \u001b[0;32mtry\u001b[0m\u001b[0;34m:\u001b[0m\u001b[0;34m\u001b[0m\u001b[0;34m\u001b[0m\u001b[0m\n\u001b[0;32m--> 190\u001b[0;31m             \u001b[0;32mreturn\u001b[0m \u001b[0mtarget\u001b[0m\u001b[0;34m(\u001b[0m\u001b[0;34m)\u001b[0m\u001b[0;34m\u001b[0m\u001b[0;34m\u001b[0m\u001b[0m\n\u001b[0m\u001b[1;32m    191\u001b[0m \u001b[0;34m\u001b[0m\u001b[0m\n\u001b[1;32m    192\u001b[0m         \u001b[0;31m# pylint: disable=broad-except\u001b[0m\u001b[0;34m\u001b[0m\u001b[0;34m\u001b[0m\u001b[0m\n",
      "\u001b[0;32m~/anaconda3/envs/FDMBuilder/lib/python3.9/site-packages/google/cloud/bigquery/job/query.py\u001b[0m in \u001b[0;36mdo_get_result\u001b[0;34m()\u001b[0m\n\u001b[1;32m   1439\u001b[0m                     \u001b[0mself\u001b[0m\u001b[0;34m.\u001b[0m\u001b[0m_job_retry\u001b[0m \u001b[0;34m=\u001b[0m \u001b[0mjob_retry\u001b[0m\u001b[0;34m\u001b[0m\u001b[0;34m\u001b[0m\u001b[0m\n\u001b[1;32m   1440\u001b[0m \u001b[0;34m\u001b[0m\u001b[0m\n\u001b[0;32m-> 1441\u001b[0;31m                 \u001b[0msuper\u001b[0m\u001b[0;34m(\u001b[0m\u001b[0mQueryJob\u001b[0m\u001b[0;34m,\u001b[0m \u001b[0mself\u001b[0m\u001b[0;34m)\u001b[0m\u001b[0;34m.\u001b[0m\u001b[0mresult\u001b[0m\u001b[0;34m(\u001b[0m\u001b[0mretry\u001b[0m\u001b[0;34m=\u001b[0m\u001b[0mretry\u001b[0m\u001b[0;34m,\u001b[0m \u001b[0mtimeout\u001b[0m\u001b[0;34m=\u001b[0m\u001b[0mtimeout\u001b[0m\u001b[0;34m)\u001b[0m\u001b[0;34m\u001b[0m\u001b[0;34m\u001b[0m\u001b[0m\n\u001b[0m\u001b[1;32m   1442\u001b[0m \u001b[0;34m\u001b[0m\u001b[0m\n\u001b[1;32m   1443\u001b[0m                 \u001b[0;31m# Since the job could already be \"done\" (e.g. got a finished job\u001b[0m\u001b[0;34m\u001b[0m\u001b[0;34m\u001b[0m\u001b[0m\n",
      "\u001b[0;32m~/anaconda3/envs/FDMBuilder/lib/python3.9/site-packages/google/cloud/bigquery/job/base.py\u001b[0m in \u001b[0;36mresult\u001b[0;34m(self, retry, timeout)\u001b[0m\n\u001b[1;32m    725\u001b[0m \u001b[0;34m\u001b[0m\u001b[0m\n\u001b[1;32m    726\u001b[0m         \u001b[0mkwargs\u001b[0m \u001b[0;34m=\u001b[0m \u001b[0;34m{\u001b[0m\u001b[0;34m}\u001b[0m \u001b[0;32mif\u001b[0m \u001b[0mretry\u001b[0m \u001b[0;32mis\u001b[0m \u001b[0mDEFAULT_RETRY\u001b[0m \u001b[0;32melse\u001b[0m \u001b[0;34m{\u001b[0m\u001b[0;34m\"retry\"\u001b[0m\u001b[0;34m:\u001b[0m \u001b[0mretry\u001b[0m\u001b[0;34m}\u001b[0m\u001b[0;34m\u001b[0m\u001b[0;34m\u001b[0m\u001b[0m\n\u001b[0;32m--> 727\u001b[0;31m         \u001b[0;32mreturn\u001b[0m \u001b[0msuper\u001b[0m\u001b[0;34m(\u001b[0m\u001b[0m_AsyncJob\u001b[0m\u001b[0;34m,\u001b[0m \u001b[0mself\u001b[0m\u001b[0;34m)\u001b[0m\u001b[0;34m.\u001b[0m\u001b[0mresult\u001b[0m\u001b[0;34m(\u001b[0m\u001b[0mtimeout\u001b[0m\u001b[0;34m=\u001b[0m\u001b[0mtimeout\u001b[0m\u001b[0;34m,\u001b[0m \u001b[0;34m**\u001b[0m\u001b[0mkwargs\u001b[0m\u001b[0;34m)\u001b[0m\u001b[0;34m\u001b[0m\u001b[0;34m\u001b[0m\u001b[0m\n\u001b[0m\u001b[1;32m    728\u001b[0m \u001b[0;34m\u001b[0m\u001b[0m\n\u001b[1;32m    729\u001b[0m     \u001b[0;32mdef\u001b[0m \u001b[0mcancelled\u001b[0m\u001b[0;34m(\u001b[0m\u001b[0mself\u001b[0m\u001b[0;34m)\u001b[0m\u001b[0;34m:\u001b[0m\u001b[0;34m\u001b[0m\u001b[0;34m\u001b[0m\u001b[0m\n",
      "\u001b[0;32m~/anaconda3/envs/FDMBuilder/lib/python3.9/site-packages/google/api_core/future/polling.py\u001b[0m in \u001b[0;36mresult\u001b[0;34m(self, timeout, retry)\u001b[0m\n\u001b[1;32m    135\u001b[0m             \u001b[0;31m# pylint: disable=raising-bad-type\u001b[0m\u001b[0;34m\u001b[0m\u001b[0;34m\u001b[0m\u001b[0m\n\u001b[1;32m    136\u001b[0m             \u001b[0;31m# Pylint doesn't recognize that this is valid in this case.\u001b[0m\u001b[0;34m\u001b[0m\u001b[0;34m\u001b[0m\u001b[0m\n\u001b[0;32m--> 137\u001b[0;31m             \u001b[0;32mraise\u001b[0m \u001b[0mself\u001b[0m\u001b[0;34m.\u001b[0m\u001b[0m_exception\u001b[0m\u001b[0;34m\u001b[0m\u001b[0;34m\u001b[0m\u001b[0m\n\u001b[0m\u001b[1;32m    138\u001b[0m \u001b[0;34m\u001b[0m\u001b[0m\n\u001b[1;32m    139\u001b[0m         \u001b[0;32mreturn\u001b[0m \u001b[0mself\u001b[0m\u001b[0;34m.\u001b[0m\u001b[0m_result\u001b[0m\u001b[0;34m\u001b[0m\u001b[0;34m\u001b[0m\u001b[0m\n",
      "\u001b[0;31mNotFound\u001b[0m: 404 Not found: Dataset yhcr-prd-phm-bia-core:CY_TEST_SR was not found in location europe-west2\n\nLocation: europe-west2\nJob ID: 30b96464-d6ea-444d-91f5-992d02a81cfd\n"
     ]
    }
   ],
   "source": [
    "eg_table.build()"
   ]
  }
 ],
 "metadata": {
  "environment": {
   "kernel": "conda-root-py",
   "name": "r-cpu.4-1.m90",
   "type": "gcloud",
   "uri": "gcr.io/deeplearning-platform-release/r-cpu.4-1:m90"
  },
  "kernelspec": {
   "display_name": "Python [conda env:root] *",
   "language": "python",
   "name": "conda-root-py"
  },
  "language_info": {
   "codemirror_mode": {
    "name": "ipython",
    "version": 3
   },
   "file_extension": ".py",
   "mimetype": "text/x-python",
   "name": "python",
   "nbconvert_exporter": "python",
   "pygments_lexer": "ipython3",
   "version": "3.7.12"
  }
 },
 "nbformat": 4,
 "nbformat_minor": 5
}
