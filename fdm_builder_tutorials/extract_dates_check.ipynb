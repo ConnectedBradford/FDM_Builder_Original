{
 "cells": [
  {
   "cell_type": "code",
   "execution_count": 1,
   "id": "aff11e5b",
   "metadata": {},
   "outputs": [],
   "source": [
    "from FDMBuilder.FDMTable import *\n",
    "from FDMBuilder.FDMDataset import *\n",
    "from FDMBuilder.testing_helpers import *"
   ]
  },
  {
   "cell_type": "code",
   "execution_count": 2,
   "id": "dca4d33f-b6f3-4634-a9d7-9d18f9934032",
   "metadata": {},
   "outputs": [],
   "source": [
    "DATASET_ID = \"CY_SAM_TEST\"\n",
    "clear_dataset(DATASET_ID)"
   ]
  },
  {
   "cell_type": "code",
   "execution_count": 3,
   "id": "92abf652-4dcf-47ed-a1ed-0d1045616039",
   "metadata": {},
   "outputs": [],
   "source": [
    "test_table_1 = FDMTable(\n",
    "    source_table_id=\"CY_FDM_BUILDER_TESTS.test_table_1\",\n",
    "    dataset_id=DATASET_ID\n",
    ")"
   ]
  },
  {
   "cell_type": "code",
   "execution_count": 4,
   "id": "92b9ed5a",
   "metadata": {},
   "outputs": [
    {
     "name": "stdout",
     "output_type": "stream",
     "text": [
      "Building test_table_1:\n",
      "    test_table_1 copied to CY_SAM_TEST\n",
      "    test_table_1 already contains person_id column\n",
      "    fdm_start_date column added\n",
      "    no fdm_end_date info provided\n",
      "Done.\n"
     ]
    }
   ],
   "source": [
    "test_table_1.quick_build(fdm_start_date_cols=\"start_date\", fdm_start_date_format=\"DMY\")"
   ]
  },
  {
   "cell_type": "code",
   "execution_count": 5,
   "id": "e12d8dcd-7817-4ff1-bc1a-fb2a9fe91495",
   "metadata": {},
   "outputs": [],
   "source": [
    "test_dataset = FDMDataset(\n",
    "    dataset_id=DATASET_ID\n",
    ")"
   ]
  },
  {
   "cell_type": "code",
   "execution_count": 6,
   "id": "9ee25d00-f8e0-4849-966f-da9a9e444525",
   "metadata": {},
   "outputs": [
    {
     "name": "stdout",
     "output_type": "stream",
     "text": [
      "\t\t ##### BUILDING FDM DATASET CY_SAM_TEST #####\n",
      "________________________________________________________________________________\n",
      "\n",
      "1. Checking dataset for source tables:\n",
      "\n",
      "    * test_table_1 contains:  - person_id - fdm_start_date \n",
      "\t-> Table ready\n",
      "\n",
      "2. Building person table\n",
      "\n",
      "    * Person table built with 94 entries\n",
      "\n",
      "3. Separating out problem entries from source tables\n",
      "\n",
      "    test_table_1:\n",
      "\t* 100 problem entries identified and removed to test_table_1_fdm_problems\n",
      "\t* 0 entries remain in test_table_1\n",
      "\n",
      "4. Rebuilding person table\n",
      "\n",
      "    * Person table built with 0 entries\n",
      "\n",
      "5. Building observation_period table\n",
      "\n",
      "    * observation_period table built with 0 entries\n",
      "\n",
      "6. Building data dictionaries\n",
      "\n",
      "    * test_table_1_data_dict built\n",
      "________________________________________________________________________________\n",
      "\n",
      "\t ##### BUILD PROCESS FOR CY_SAM_TEST COMPLETE! #####\n",
      "\n"
     ]
    }
   ],
   "source": [
    "test_dataset.build(extract_start_date=\"2000-01-01\", extract_end_date=\"2010-01-01\")"
   ]
  },
  {
   "cell_type": "code",
   "execution_count": null,
   "id": "6cd22992-893e-4f41-b6f3-a1c8c5284742",
   "metadata": {},
   "outputs": [],
   "source": []
  }
 ],
 "metadata": {
  "environment": {
   "kernel": "conda-env-FDMEnv-py",
   "name": "r-cpu.4-1.m90",
   "type": "gcloud",
   "uri": "gcr.io/deeplearning-platform-release/r-cpu.4-1:m90"
  },
  "kernelspec": {
   "display_name": "Python [conda env:FDMEnv]",
   "language": "python",
   "name": "conda-env-FDMEnv-py"
  },
  "language_info": {
   "codemirror_mode": {
    "name": "ipython",
    "version": 3
   },
   "file_extension": ".py",
   "mimetype": "text/x-python",
   "name": "python",
   "nbconvert_exporter": "python",
   "pygments_lexer": "ipython3",
   "version": "3.10.4"
  }
 },
 "nbformat": 4,
 "nbformat_minor": 5
}
